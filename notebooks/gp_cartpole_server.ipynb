{
 "cells": [
  {
   "cell_type": "markdown",
   "metadata": {},
   "source": [
    "# GP Cartpole Server\n",
    "\n",
    "This notebook introduces the genetic programming (GP) approach for the cartpole REST interface. GP creates a program for the interface's default controllers. It enables the cartpole REST interface to reply with a concrete response to a client's requests.\n",
    "\n",
    "The figure illustrates the position of the GP software within the REST interface implementation.  \n",
    "\n",
    "![REST gp design](http://www.plantuml.com/plantuml/png/5SWx3i8m303Ggy05uW4cPjYO2dlLEbOQ9R4ZVyJrKT_uhfMnHwRGVZdSfpq0TFkbKls8FOmKXPtO4ye0p8Jjfl1StlVbzVd2sCn9WSLf5sa6vwvbhfci5aun-Xy0)\n",
    "\n",
    "The [OpenAPI generator](https://github.com/OpenAPITools/openapi-generator) creates a server stub consisting of the REST interface and the REST controller prototype using the [cartpole API spec](https://raw.githubusercontent.com/cdeck3r/DRL4REST/master/src/cartpole/spec/OpenAPIv1.json). In this approach we replace the controller's empty function body with an implementation found through genetic programming. Additionally, we introduce a ServerModel, which keeps a state if required. One may access the state using CRUD operations. \n",
    "\n",
    "In contrast to mocking solutions, e.g. [Prism](https://github.com/stoplightio/prism), GP enables more complex behavior than just a compliant response to a client's request."
   ]
  },
  {
   "cell_type": "markdown",
   "metadata": {},
   "source": [
    "## Example: `cart_get()` Controller Function\n",
    "\n",
    "As a example for the REST controller, look at the `cart_get()` controller prototype the OpenAPI generator created for the cartpole REST interface. The generator nicely separates the controller from all the marshalling and unmarshalling operations for data transport from/to the client.\n",
    "\n",
    "```python\n",
    "def cart_get():  # noqa: E501\n",
    "    \"\"\"cart_get\n",
    "\n",
    "     # noqa: E501\n",
    "\n",
    "\n",
    "    :rtype: Cart\n",
    "    \"\"\"\n",
    "    return 'do some magic!'\n",
    "```\n",
    "\n",
    "A concrete example implementation would look like the following:\n",
    "\n",
    "```python\n",
    "def cart_get():  # noqa: E501\n",
    "    # just return a Cart object with random values\n",
    "\n",
    "    position = random()\n",
    "    velocity = random()\n",
    "    direction = choice([\"left\", \"right\"]) \n",
    "\n",
    "    return Cart(position=position, velocity=velocity, direction=direction)\n",
    "```\n",
    "\n",
    "The `Cart` class is one the generated models. The constructor defines the params as follows:\n",
    "```python\n",
    "def __init__(self, position=None, velocity=None, direction=None):  # noqa: E501\n",
    "    \"\"\"Cart - a model defined in OpenAPI\n",
    "\n",
    "    :param position: The position of this Cart.  # noqa: E501\n",
    "    :type position: float\n",
    "    :param velocity: The velocity of this Cart.  # noqa: E501\n",
    "    :type velocity: float\n",
    "    :param direction: The direction of this Cart.  # noqa: E501\n",
    "    :type direction: str\n",
    "    \"\"\"\n",
    "    ...\n",
    "```"
   ]
  },
  {
   "cell_type": "markdown",
   "metadata": {},
   "source": [
    "## GP Problem Formulation\n",
    "\n",
    "For the `cart_get()` example from above, we envision the following controller implementation: if there is already a cart object, then the controller will return this object. Otherwise, the controller creates a new one and returns it. Here's the pseudo code:\n",
    "\n",
    "```python\n",
    "if cart exists \n",
    "    return cart\n",
    "else\n",
    "    return create_cart()\n",
    "```\n",
    "**The GP problem is: Synthesize a program with a RESTful behavior.**\n",
    "\n",
    "We test run the synthesized code within the `evaluate()` function of the GP algorithm. It is successfull, if\n",
    "\n",
    "1. `cart_get()` controller runs without any exception \n",
    "1. `cart_get()` controller returns a non-null result \n",
    "1. `cart_get()` controller returns a non-empty result \n",
    "1. repeated `cart_get()` requests result in the same response\n",
    "\n",
    "The `evaluate()` function scores each GP created programs to report the fitness for the program evolution."
   ]
  },
  {
   "cell_type": "markdown",
   "metadata": {},
   "source": [
    "## Import libs\n",
    "\n",
    "DEAP was previously installed in this image. If not, run `pip install deap`."
   ]
  },
  {
   "cell_type": "code",
   "execution_count": 1,
   "metadata": {},
   "outputs": [],
   "source": [
    "import random\n",
    "\n",
    "import numpy\n",
    "\n",
    "from functools import partial\n",
    "\n",
    "from deap import algorithms\n",
    "from deap import base\n",
    "from deap import creator\n",
    "from deap import tools\n",
    "from deap import gp"
   ]
  },
  {
   "cell_type": "markdown",
   "metadata": {},
   "source": [
    "The OpenAPI generated interface code is based on python-flask. If necessary, activate the following cell `ESC + y` and install the requirements."
   ]
  },
  {
   "cell_type": "code",
   "execution_count": 2,
   "metadata": {},
   "outputs": [
    {
     "name": "stdout",
     "output_type": "stream",
     "text": [
      "Ignoring connexion: markers 'python_version == \"3.5\"' don't match your environment\n",
      "Ignoring connexion: markers 'python_version == \"3.4\"' don't match your environment\n",
      "Ignoring connexion: markers 'python_version <= \"2.7\"' don't match your environment\n",
      "Requirement already satisfied: connexion>=2.5.0 in /opt/conda/lib/python3.7/site-packages (from -r requirements.txt (line 1)) (2.7.0)\n",
      "Requirement already satisfied: swagger-ui-bundle>=0.0.2 in /opt/conda/lib/python3.7/site-packages (from -r requirements.txt (line 5)) (0.0.6)\n",
      "Requirement already satisfied: python_dateutil>=2.6.0 in /opt/conda/lib/python3.7/site-packages (from -r requirements.txt (line 6)) (2.8.1)\n",
      "Requirement already satisfied: setuptools>=21.0.0 in /opt/conda/lib/python3.7/site-packages (from -r requirements.txt (line 7)) (46.1.3.post20200325)\n",
      "Requirement already satisfied: openapi-spec-validator>=0.2.4 in /opt/conda/lib/python3.7/site-packages (from connexion>=2.5.0->-r requirements.txt (line 1)) (0.2.8)\n",
      "Requirement already satisfied: flask>=1.0.4 in /opt/conda/lib/python3.7/site-packages (from connexion>=2.5.0->-r requirements.txt (line 1)) (1.1.2)\n",
      "Requirement already satisfied: requests>=2.9.1 in /opt/conda/lib/python3.7/site-packages (from connexion>=2.5.0->-r requirements.txt (line 1)) (2.23.0)\n",
      "Requirement already satisfied: PyYAML>=5.1 in /opt/conda/lib/python3.7/site-packages (from connexion>=2.5.0->-r requirements.txt (line 1)) (5.3.1)\n",
      "Requirement already satisfied: inflection>=0.3.1 in /opt/conda/lib/python3.7/site-packages (from connexion>=2.5.0->-r requirements.txt (line 1)) (0.5.0)\n",
      "Requirement already satisfied: jsonschema>=2.5.1 in /opt/conda/lib/python3.7/site-packages (from connexion>=2.5.0->-r requirements.txt (line 1)) (3.2.0)\n",
      "Requirement already satisfied: clickclick>=1.2 in /opt/conda/lib/python3.7/site-packages (from connexion>=2.5.0->-r requirements.txt (line 1)) (1.2.2)\n",
      "Requirement already satisfied: Jinja2>=2.0 in /opt/conda/lib/python3.7/site-packages (from swagger-ui-bundle>=0.0.2->-r requirements.txt (line 5)) (2.11.2)\n",
      "Requirement already satisfied: six>=1.5 in /opt/conda/lib/python3.7/site-packages (from python_dateutil>=2.6.0->-r requirements.txt (line 6)) (1.14.0)\n",
      "Requirement already satisfied: Werkzeug>=0.15 in /opt/conda/lib/python3.7/site-packages (from flask>=1.0.4->connexion>=2.5.0->-r requirements.txt (line 1)) (0.16.1)\n",
      "Requirement already satisfied: click>=5.1 in /opt/conda/lib/python3.7/site-packages (from flask>=1.0.4->connexion>=2.5.0->-r requirements.txt (line 1)) (7.1.2)\n",
      "Requirement already satisfied: itsdangerous>=0.24 in /opt/conda/lib/python3.7/site-packages (from flask>=1.0.4->connexion>=2.5.0->-r requirements.txt (line 1)) (1.1.0)\n",
      "Requirement already satisfied: urllib3!=1.25.0,!=1.25.1,<1.26,>=1.21.1 in /opt/conda/lib/python3.7/site-packages (from requests>=2.9.1->connexion>=2.5.0->-r requirements.txt (line 1)) (1.25.9)\n",
      "Requirement already satisfied: chardet<4,>=3.0.2 in /opt/conda/lib/python3.7/site-packages (from requests>=2.9.1->connexion>=2.5.0->-r requirements.txt (line 1)) (3.0.4)\n",
      "Requirement already satisfied: idna<3,>=2.5 in /opt/conda/lib/python3.7/site-packages (from requests>=2.9.1->connexion>=2.5.0->-r requirements.txt (line 1)) (2.9)\n",
      "Requirement already satisfied: certifi>=2017.4.17 in /opt/conda/lib/python3.7/site-packages (from requests>=2.9.1->connexion>=2.5.0->-r requirements.txt (line 1)) (2020.4.5.1)\n",
      "Requirement already satisfied: attrs>=17.4.0 in /opt/conda/lib/python3.7/site-packages (from jsonschema>=2.5.1->connexion>=2.5.0->-r requirements.txt (line 1)) (19.3.0)\n",
      "Requirement already satisfied: pyrsistent>=0.14.0 in /opt/conda/lib/python3.7/site-packages (from jsonschema>=2.5.1->connexion>=2.5.0->-r requirements.txt (line 1)) (0.16.0)\n",
      "Requirement already satisfied: importlib-metadata; python_version < \"3.8\" in /opt/conda/lib/python3.7/site-packages (from jsonschema>=2.5.1->connexion>=2.5.0->-r requirements.txt (line 1)) (1.6.0)\n",
      "Requirement already satisfied: MarkupSafe>=0.23 in /opt/conda/lib/python3.7/site-packages (from Jinja2>=2.0->swagger-ui-bundle>=0.0.2->-r requirements.txt (line 5)) (1.1.1)\n",
      "Requirement already satisfied: zipp>=0.5 in /opt/conda/lib/python3.7/site-packages (from importlib-metadata; python_version < \"3.8\"->jsonschema>=2.5.1->connexion>=2.5.0->-r requirements.txt (line 1)) (3.1.0)\n",
      "Requirement already satisfied: pytest~=4.6.7 in /opt/conda/lib/python3.7/site-packages (from -r test-requirements.txt (line 1)) (4.6.11)\n",
      "Requirement already satisfied: pytest-cov>=2.8.1 in /opt/conda/lib/python3.7/site-packages (from -r test-requirements.txt (line 2)) (2.9.0)\n",
      "Requirement already satisfied: pytest-randomly==1.2.3 in /opt/conda/lib/python3.7/site-packages (from -r test-requirements.txt (line 3)) (1.2.3)\n",
      "Requirement already satisfied: flask_testing==0.6.1 in /opt/conda/lib/python3.7/site-packages (from -r test-requirements.txt (line 4)) (0.6.1)\n",
      "Requirement already satisfied: atomicwrites>=1.0 in /opt/conda/lib/python3.7/site-packages (from pytest~=4.6.7->-r test-requirements.txt (line 1)) (1.4.0)\n",
      "Requirement already satisfied: more-itertools>=4.0.0; python_version > \"2.7\" in /opt/conda/lib/python3.7/site-packages (from pytest~=4.6.7->-r test-requirements.txt (line 1)) (8.3.0)\n",
      "Requirement already satisfied: py>=1.5.0 in /opt/conda/lib/python3.7/site-packages (from pytest~=4.6.7->-r test-requirements.txt (line 1)) (1.8.1)\n",
      "Requirement already satisfied: importlib-metadata>=0.12; python_version < \"3.8\" in /opt/conda/lib/python3.7/site-packages (from pytest~=4.6.7->-r test-requirements.txt (line 1)) (1.6.0)\n",
      "Requirement already satisfied: wcwidth in /opt/conda/lib/python3.7/site-packages (from pytest~=4.6.7->-r test-requirements.txt (line 1)) (0.1.9)\n",
      "Requirement already satisfied: six>=1.10.0 in /opt/conda/lib/python3.7/site-packages (from pytest~=4.6.7->-r test-requirements.txt (line 1)) (1.14.0)\n",
      "Requirement already satisfied: packaging in /opt/conda/lib/python3.7/site-packages (from pytest~=4.6.7->-r test-requirements.txt (line 1)) (20.1)\n",
      "Requirement already satisfied: attrs>=17.4.0 in /opt/conda/lib/python3.7/site-packages (from pytest~=4.6.7->-r test-requirements.txt (line 1)) (19.3.0)\n",
      "Requirement already satisfied: pluggy<1.0,>=0.12 in /opt/conda/lib/python3.7/site-packages (from pytest~=4.6.7->-r test-requirements.txt (line 1)) (0.13.1)\n",
      "Requirement already satisfied: coverage>=4.4 in /opt/conda/lib/python3.7/site-packages (from pytest-cov>=2.8.1->-r test-requirements.txt (line 2)) (5.1)\n",
      "Requirement already satisfied: Flask in /opt/conda/lib/python3.7/site-packages (from flask_testing==0.6.1->-r test-requirements.txt (line 4)) (1.1.2)\n",
      "Requirement already satisfied: zipp>=0.5 in /opt/conda/lib/python3.7/site-packages (from importlib-metadata>=0.12; python_version < \"3.8\"->pytest~=4.6.7->-r test-requirements.txt (line 1)) (3.1.0)\n",
      "Requirement already satisfied: pyparsing>=2.0.2 in /opt/conda/lib/python3.7/site-packages (from packaging->pytest~=4.6.7->-r test-requirements.txt (line 1)) (2.4.7)\n",
      "Requirement already satisfied: Jinja2>=2.10.1 in /opt/conda/lib/python3.7/site-packages (from Flask->flask_testing==0.6.1->-r test-requirements.txt (line 4)) (2.11.2)\n",
      "Requirement already satisfied: itsdangerous>=0.24 in /opt/conda/lib/python3.7/site-packages (from Flask->flask_testing==0.6.1->-r test-requirements.txt (line 4)) (1.1.0)\n",
      "Requirement already satisfied: click>=5.1 in /opt/conda/lib/python3.7/site-packages (from Flask->flask_testing==0.6.1->-r test-requirements.txt (line 4)) (7.1.2)\n",
      "Requirement already satisfied: Werkzeug>=0.15 in /opt/conda/lib/python3.7/site-packages (from Flask->flask_testing==0.6.1->-r test-requirements.txt (line 4)) (0.16.1)\n",
      "Requirement already satisfied: MarkupSafe>=0.23 in /opt/conda/lib/python3.7/site-packages (from Jinja2>=2.10.1->Flask->flask_testing==0.6.1->-r test-requirements.txt (line 4)) (1.1.1)\n",
      "Requirement already satisfied: Werkzeug==0.16.1 in /opt/conda/lib/python3.7/site-packages (0.16.1)\n"
     ]
    }
   ],
   "source": [
    "%%bash\n",
    "# define project environment\n",
    "PROJECT_DIR=\"/DRL4REST\"\n",
    "OPENAPI_SERVER_DIR=\"$PROJECT_DIR/openapi/cartpole/python-flask\"\n",
    "\n",
    "# install requirements\n",
    "cd \"$OPENAPI_SERVER_DIR\" || exit\n",
    "pip install -r requirements.txt || exit\n",
    "pip install -r test-requirements.txt || exit\n",
    "\n",
    "# install other requirements\n",
    "pip install Werkzeug==0.16.1 || exit"
   ]
  },
  {
   "cell_type": "code",
   "execution_count": 3,
   "metadata": {},
   "outputs": [],
   "source": [
    "# set path to import code generated by OpenAPI\n",
    "import sys\n",
    "sys.path.append(\"/DRL4REST/openapi/cartpole/python-flask\")"
   ]
  },
  {
   "cell_type": "markdown",
   "metadata": {},
   "source": [
    "## GP Software Workflow\n",
    "\n",
    "The OpenAPI generator creates default controllers and tests. We replace the default controller by the GP one, called `GP_Controller`, and extend the default tests by `GP_TestDefaultController`. The following activity diagram displays how these parts are embedded within the actions of the genetic programming framework.\n",
    "\n",
    "![GP software activity diagram](http://www.plantuml.com/plantuml/png/1S4zhi8m303WgxntWNY0YHd4me0AUvKwLciriP5_GDoUx_jdmPwDqlhV5l7o4u3LJravjbpIoL0bIAAW3i16k1yCpjFjE5qUJnZLWmn4WnRLtU5wdnivhp9N37vpV4kE_WC0)"
   ]
  },
  {
   "cell_type": "markdown",
   "metadata": {},
   "source": [
    "## ServerModel CRUD Functions\n",
    "\n",
    "`CartpoleServer` is the implementation of the ServerModel. The ServerModel is a static class. The GP controller utilizes the model to store state between successive calls. The ServerModel provides CRUD functions for state access and manipulation."
   ]
  },
  {
   "cell_type": "code",
   "execution_count": 4,
   "metadata": {},
   "outputs": [],
   "source": [
    "from openapi_server.models import Cart\n",
    "\n",
    "class CartpoleServer(object):\n",
    "\n",
    "    # state as class variable\n",
    "    _cart = None\n",
    "\n",
    "    # set the class in a defined (initial) state\n",
    "    @classmethod\n",
    "    def reset(cls):\n",
    "        cls._cart = None\n",
    "    \n",
    "    @classmethod\n",
    "    def create_cart(cls):\n",
    "        position = random.random()\n",
    "        velocity = random.random()\n",
    "        # we know the values from the models, e.g.\n",
    "        #   models/cart.py or models/direction.py\n",
    "        direction = random.choice([\"left\", \"right\"])\n",
    "        cls._cart = Cart(position=position, velocity=velocity, direction=direction)\n",
    "\n",
    "    @classmethod\n",
    "    def read_cart(cls):\n",
    "        return cls._cart\n",
    "    \n",
    "    @classmethod\n",
    "    def update_cart(cls):\n",
    "        if isinstance(cls._cart, Cart):\n",
    "            cls._cart.direction='left'\n",
    "\n",
    "    @classmethod\n",
    "    def delete_cart(cls):\n",
    "        cls._cart = None"
   ]
  },
  {
   "cell_type": "markdown",
   "metadata": {},
   "source": [
    "## Monkey Patching\n",
    "\n",
    "Monkey patching changes the default behavior of a piece of code at runtime without changing its original source. For example, we want to change the behavior of the default controller function prototype `cart_get()`. Monkey patching replaces the prototype by the GP controller. When running the testcases, the GP controller gets executed instead of the default controller.\n",
    "\n",
    "Concretely, the view function of an REST endpoint is patched to run a new controller function other than the default controller. While the openapi generator keeps controller nicely separated from the Connexion / Flask framework, it wraps them when loading the openapi spec. Basically, it applies various Python [decorators within the Operation object](https://github.com/zalando/connexion/blob/bed4b95205205861bd6014282d0f61d50231d3ac/connexion/operations/abstract.py#L340) around the controller function to add additional behavior. Note, [do not confuse it with the decorator pattern](https://wiki.python.org/moin/DecoratorPattern). As a consequence, the monkey patching approach has to unwrap the enpoint's view function at first to re-gain access to the (default) controller function. Afterwards, it replaces the code. "
   ]
  },
  {
   "cell_type": "code",
   "execution_count": 5,
   "metadata": {},
   "outputs": [],
   "source": [
    "class MonkeyPatching:\n",
    "    def __init__(self, app=None):\n",
    "        self._rules = []\n",
    "        self._app = app\n",
    "    \n",
    "    @property\n",
    "    def app(self):\n",
    "        return self._app\n",
    "    \n",
    "    @app.setter\n",
    "    def app(self, app):\n",
    "        self._app = app\n",
    "    \n",
    "    # test if endpoint config exists\n",
    "    def _endpoint_exists(self, url_path, method):\n",
    "        self._rules = []\n",
    "        \n",
    "        for r in self._app.url_map.iter_rules():\n",
    "            if (url_path == str(r)) and (method.upper() in r.methods):\n",
    "                self._rules.append(r)\n",
    "                return True\n",
    "        return False\n",
    "\n",
    "    # gets the endpoint's view function\n",
    "    # returns the default controller functio\n",
    "    def _unwrap(self, view_func):\n",
    "        wrapped_func = view_func\n",
    "        try:\n",
    "            while wrapped_func.__wrapped__ :\n",
    "                wrapped_func = wrapped_func.__wrapped__\n",
    "        except Exception:\n",
    "            # this is the default_controller_func\n",
    "             return wrapped_func\n",
    "    \n",
    "    # replace endpoint's controller function with the one \n",
    "    # from the parameters\n",
    "    def patch(self, url_path, method, controller_func):\n",
    "        if self._endpoint_exists(url_path, method):\n",
    "            rule = self._rules[0]\n",
    "            view_func = self._app.view_functions[rule.endpoint]\n",
    "            default_controller_func = self._unwrap(view_func)\n",
    "            default_controller_func.__code__ = controller_func.__code__\n",
    "            return True\n",
    "        \n",
    "        return False"
   ]
  },
  {
   "cell_type": "markdown",
   "metadata": {},
   "source": [
    "## Testing the GP Controller\n",
    "\n",
    "The OpenAPI generator creates the unittest `TestDefaultController` containing test mesthods for each default controller. The `GP_TestDefaultController` overrides these tests in order to enable additional checks of the response data. Furthermore, this class enables the Monkey Patching of the controller function. As a result, the `test_cart_get()` function from this class actually tests the GP controller function."
   ]
  },
  {
   "cell_type": "code",
   "execution_count": 6,
   "metadata": {},
   "outputs": [],
   "source": [
    "from openapi_server.test.test_default_controller import TestDefaultController\n",
    "from pprint import pprint\n",
    "\n",
    "import unittest\n",
    "\n",
    "class GP_TestDefaultController(TestDefaultController):\n",
    "\n",
    "    def __init__(self, mp=MonkeyPatching(), app_config_testing=True, assert_score=1000):\n",
    "        super().__init__()\n",
    "        self.app = super().create_app()\n",
    "        self.app.config['TESTING'] = app_config_testing\n",
    "        self.client = self.app.test_client()\n",
    "       \n",
    "        # associate with MonkeyPatching\n",
    "        self.mp = mp\n",
    "        self.mp.app = self.app    \n",
    "        \n",
    "        # score for response evaluation\n",
    "        self._score = -1\n",
    "        self._assert_score = assert_score\n",
    "        \n",
    "        self._prev_responses = []\n",
    "\n",
    "        \n",
    "    @property\n",
    "    def score(self):\n",
    "        return self._score\n",
    "    \n",
    "    @score.setter\n",
    "    def score(self, s):\n",
    "        if s < 0:\n",
    "            self._score = -1\n",
    "        else:\n",
    "            self._score = s\n",
    "        \n",
    "    def reset_score(self):\n",
    "        self.score = -1\n",
    "        self._prev_responses = []\n",
    "        \n",
    "    # quantify the response, we use the status code as score \n",
    "    def score_response(self, resp):\n",
    "        # src: https://stackoverflow.com/a/3844832\n",
    "        def checkEqualEntries(iterator):\n",
    "            return len(set(iterator)) <= 1\n",
    "        \n",
    "        # store the response body\n",
    "        self._prev_responses.append(str(resp.json))\n",
    "        # compare all responses \n",
    "        if len(self._prev_responses) > 1 and checkEqualEntries(self._prev_responses):\n",
    "            # expect them the same, neutralize increasing score to keep them small\n",
    "            self.score -= resp.status_code\n",
    "        \n",
    "        self.score += resp.status_code\n",
    "    \n",
    "    \"\"\"\n",
    "    Changes the behavior of a url_path with a new controller function\n",
    "    \n",
    "    Returns True if endpoint was found and successfully patched\n",
    "\n",
    "    Limits: \n",
    "      * works only if method is unique for url_path \n",
    "      * does not support aliases\n",
    "    \"\"\"\n",
    "    def endpoint_config(self, url_path, method, controller_func):\n",
    "        return self.mp.patch(url_path, method, controller_func)\n",
    "\n",
    "    # overrides the default test_cart_get()\n",
    "    def test_cart_get(self):\n",
    "        response = super().test_cart_get() #assert200(response)\n",
    "        # add another important assertion\n",
    "        self.assertEqual(response.content_type, \n",
    "                    'application/vnd.cartpole.cart+json', \n",
    "                    'Please check the openapi.yaml for unique content-type in response section'\n",
    "                   )\n",
    "        return response\n",
    "\n",
    "    # safe version of test_cart_get(), i.e. avoids exceptions \n",
    "    def safe_test_cart_get(self):\n",
    "        try:\n",
    "            response = super().test_cart_get() #assert200(response)        \n",
    "            self.assertEqual(response.content_type, \n",
    "                        'application/vnd.cartpole.cart+json', \n",
    "                        'Please check the openapi.yaml for unique content-type in response section'\n",
    "                       )\n",
    "        except AssertionError as error:\n",
    "            # score an assertion\n",
    "            self.score += self._assert_score\n",
    "            return\n",
    "            \n",
    "        self.score_response(response)"
   ]
  },
  {
   "cell_type": "markdown",
   "metadata": {},
   "source": [
    "## Genetic Program Implementation\n",
    "\n",
    "The GP program bases upon the Artificial Ant Problem from the [DEAP example site](https://deap.readthedocs.io/en/master/examples/gp_ant.html). The implementation consists of\n",
    "\n",
    "* generic functions for the control flow\n",
    "* controller functions interacting with the ServerModel\n",
    "* `evaluate()` function to report the controller's fitness"
   ]
  },
  {
   "cell_type": "markdown",
   "metadata": {},
   "source": [
    "### Generic Functions\n",
    "\n",
    "These are generic functions, e.g. for control flow and concatenating functions with each other."
   ]
  },
  {
   "cell_type": "code",
   "execution_count": 7,
   "metadata": {},
   "outputs": [],
   "source": [
    "def progn(*args):\n",
    "    for arg in args:\n",
    "        arg()\n",
    "\n",
    "def prog2(out1, out2): \n",
    "    return partial(progn,out1,out2)\n",
    "\n",
    "def prog3(out1, out2, out3):     \n",
    "    return partial(progn,out1,out2,out3)\n",
    "\n",
    "def _if_then_else(condition, out1, out2):\n",
    "    if condition() is not None:\n",
    "        out1()\n",
    "    else:\n",
    "        out2()\n",
    "\n",
    "def if_then_else(condition, out1, out2):\n",
    "    return partial(_if_then_else, condition, out1, out2)\n",
    "\n",
    "def _if_then(condition, out1):\n",
    "    if condition() is not None:\n",
    "        out1()\n",
    "        \n",
    "def if_then(condition, out1):\n",
    "    return partial(_if_then, condition, out1)"
   ]
  },
  {
   "cell_type": "markdown",
   "metadata": {},
   "source": [
    "### Controller Functions\n",
    "\n",
    "These are the functions the GP algorithm strings together utilizing the generic functions from above. The created program forms an individual and is tested by the `evaluate()` function. The controller functions utilize the CartpoleServer's CRUD functions."
   ]
  },
  {
   "cell_type": "code",
   "execution_count": 8,
   "metadata": {},
   "outputs": [],
   "source": [
    "cps = CartpoleServer\n",
    "cps.reset()"
   ]
  },
  {
   "cell_type": "code",
   "execution_count": 9,
   "metadata": {},
   "outputs": [],
   "source": [
    "# let's create the set of all functions DEAP shall work with\n",
    "pset = gp.PrimitiveSet(\"MAIN\", 0)\n",
    "pset.addPrimitive(if_then_else, 3)\n",
    "pset.addPrimitive(if_then, 2)\n",
    "\n",
    "pset.addPrimitive(prog2, 2)\n",
    "pset.addPrimitive(prog3, 3)\n",
    "\n",
    "pset.addTerminal(cps.create_cart)\n",
    "pset.addTerminal(cps.read_cart)\n",
    "pset.addTerminal(cps.update_cart)\n",
    "pset.addTerminal(cps.delete_cart)"
   ]
  },
  {
   "cell_type": "code",
   "execution_count": 10,
   "metadata": {},
   "outputs": [],
   "source": [
    "# cart_get() controller must return something when done\n",
    "# this function becomes the new root for the GP tree created from the pset above\n",
    "# it runs the GP tree first and returns the Cart afterwards\n",
    "def return_cart_get(gp_tree):\n",
    "    gp_tree()\n",
    "    return cps.read_cart"
   ]
  },
  {
   "cell_type": "markdown",
   "metadata": {},
   "source": [
    "### `evaluate()` Function\n",
    "\n",
    "For each created GP controller function we run the `evaluate()` function. It patches the endpoint with the new controller function and runs the controller unittest. Evaluation reports the controller's fitness to guide the next program evolution. The UML diagram below illustrate the relations between the participating components.\n",
    "\n",
    "**Note:** The `GP_Controller` class wraps the GP created `_gp_controller` function. It is necessary, because the `_gp_controller` is a partial function. \n",
    "\n",
    "![GP evaluate class diagram](http://www.plantuml.com/plantuml/png/1S4x3i9030JGgy05rWLKr20Q2XJeqSOPaMW_HjunN9_tzblN6Wl2wsubF-CaulcNtXlNc6F0rJhHcTIQw08j1vVpT3jEbyTJMXw4IpTYDYj3hlSNlhb69bAq-WS0)\n",
    "\n",
    "The following sequence diagram depicts the interaction between the objects.\n",
    "\n",
    "![GP evaluate sequence diagram](http://www.plantuml.com/plantuml/png/1S4z3i8m30RGgy05uW4cPX0B0ohiLUf-ebKJ6_m3r-Uz_IhSSaPQsoqHRpyHMVsLrnfBJkamLWb85DPEF8EtWz5vk1s7o-D9lNh0I3GmgMvEr_k8RsrP0wFZKxAtFm00)"
   ]
  },
  {
   "cell_type": "markdown",
   "metadata": {},
   "source": [
    "MonkeyPatching requires a function with a `__code__` section. However, the GP created controller program is a partial function, which [does not have a `__code__` section](https://stackoverflow.com/questions/56881670/partial-function-object-has-no-attribute-code). As a consequence, the `GP_Controller` static class wraps the GP created partial function into a function with a `__code__` section. "
   ]
  },
  {
   "cell_type": "code",
   "execution_count": 11,
   "metadata": {},
   "outputs": [],
   "source": [
    "# Encapsulates the gp_controller for execution\n",
    "class GP_Controller:\n",
    "    \n",
    "    _gp_controller = None\n",
    "    \n",
    "    @classmethod\n",
    "    def set_controller_func(cls, func):\n",
    "        cls._gp_controller = func\n",
    "\n",
    "    \"\"\" Runs the gp_controller.\n",
    "    \n",
    "        gp_controller_func is called from a different scope, so it needs to \n",
    "        search through all imported modules for the GP_Controller class in\n",
    "        order to access the class variable _gp_controller.\n",
    "\n",
    "        CAUTION: \n",
    "        This is fragile. It finds the first occurance of the GP_Controller\n",
    "        within all imported modules.\n",
    "        \n",
    "        DEFAULT:\n",
    "        It searches the __main__ module only for the GP_Controller class.\n",
    "    \"\"\"\n",
    "    @staticmethod\n",
    "    def gp_controller_func():\n",
    "        # This is the search routine\n",
    "        \"\"\"\n",
    "        gpc_pointer = None\n",
    "        for m_name in sys.modules:\n",
    "            try:\n",
    "                gpc_pointer = getattr(sys.modules[m_name], 'GP_Controller')\n",
    "                break\n",
    "            except AttributeError:\n",
    "                continue\n",
    "        return gpc_pointer._gp_controller()\n",
    "        \"\"\"\n",
    "        # finds the GP_Controller class in the __main__ module\n",
    "        return getattr(sys.modules['__main__'], 'GP_Controller')._gp_controller()\n",
    "    \n",
    "gpc = GP_Controller"
   ]
  },
  {
   "cell_type": "code",
   "execution_count": 763,
   "metadata": {},
   "outputs": [],
   "source": [
    "import types\n",
    "import json\n",
    "\n",
    "# evaluate()\n",
    "def evalRESTController(individual):\n",
    "   \n",
    "    def add_func2pset(expr, pset, func, num_args):\n",
    "        pset_cloned = toolbox.clone(pset)\n",
    "        pset_cloned.addPrimitive(func, num_args)\n",
    "        prim_func = gp.Primitive(func.__name__, [object], object)\n",
    "        expr_func = [prim_func] + expr\n",
    "        return expr_func, pset_cloned\n",
    "\n",
    "    # we add the return_cart_get() als new root of the individual\n",
    "    # togehter they form the gp_controller\n",
    "\n",
    "    assert isinstance(return_cart_get, types.FunctionType), 'return_cart_get() not defined'\n",
    "    \n",
    "    # 1. dismantle the individual to get the expressions\n",
    "    expr = list(individual)\n",
    "\n",
    "    # 2. add return_cart_get als new root\n",
    "    expr_return, pset_return = add_func2pset(expr=expr,\n",
    "                                             pset=pset,\n",
    "                                             func=return_cart_get, \n",
    "                                             num_args=1)\n",
    "    # 3. rebuild individual (type: PrimitiveTree) from expressions \n",
    "    individual_return = gp.PrimitiveTree(expr_return)\n",
    "    \n",
    "    # 4. .. and compile tree to functional Python code \n",
    "    gp_controller = gp.compile(individual_return, pset_return)\n",
    "\n",
    "    # store the controller\n",
    "    gpc.set_controller_func(gp_controller)\n",
    "    #gpc.set_controller_func(testcase_all_correct)\n",
    "\n",
    "    # Replace the default controller with the gp_controller \n",
    "    url_path = '/api/v1/cart'\n",
    "    gp_test = GP_TestDefaultController()\n",
    "    ret = gp_test.endpoint_config(url_path, 'get', gpc.gp_controller_func)\n",
    "    # ... and test\n",
    "    cps.reset()\n",
    "    gp_test.reset_score()\n",
    "    \n",
    "    #gp_test.test_cart_get()\n",
    "    # run the test several times and expect the same as the first one\n",
    "    for i in range(5):\n",
    "        gp_test.safe_test_cart_get()\n",
    "    \n",
    "    # retrieve score \n",
    "    fitness = gp_test.score\n",
    "    \n",
    "    if fitness < 1999: \n",
    "        # store individual\n",
    "        gp_program = str(individual)\n",
    "        # store _prev_responses\n",
    "        all_responses = gp_test._prev_responses\n",
    "        with open(\"/home/jovyan/work/gp_program.json\", \"a\") as f:\n",
    "            json_gp_program = json.dumps(gp_program)\n",
    "            json_all_responses = json.dumps(all_responses)\n",
    "            f.write(str(fitness))\n",
    "            f.write(json_gp_program)\n",
    "            f.write(json_all_responses)\n",
    "            f.write('\\n\\n')\n",
    "    \n",
    "    return fitness,"
   ]
  },
  {
   "cell_type": "markdown",
   "metadata": {},
   "source": [
    "### Assemble and Configure the GP\n",
    "\n",
    "We configure the GP to solve a minimization problem, `FitnessMin`. The `evaluate()` function returns the cumulative sum of the responses' status codes when testing the controller as fitness. \n",
    "\n",
    "Returned scored for a GP created controller when executed once:\n",
    "$$\n",
    "    s = \\begin{cases}\n",
    "    \\text{assert_score, } & \\, \\text{if assertion occurs during the controller test} \\\\\n",
    "    \\text{status_code(response)} & \\, \\text{else}\n",
    "    \\end{cases}\n",
    "$$\n",
    "\n",
    "Returned fitness for a GP created controller when executed once or more:\n",
    "$$\n",
    "    fitness = \\sum_{\\text{controller tests per Individual}} s\n",
    "$$\n",
    "An `Individual` is a program. The initally generated `Individual` is a `PrimitiveTree` object created from the expressions in `pset` by the `gp.genFull` function. You may call `toolbox.individual()` to retrieve a single program. "
   ]
  },
  {
   "cell_type": "code",
   "execution_count": 13,
   "metadata": {},
   "outputs": [],
   "source": [
    "# configure the parameters\n",
    "creator.create(\"FitnessMin\", base.Fitness, weights=(-1.0,))\n",
    "creator.create(\"Individual\", gp.PrimitiveTree, fitness=creator.FitnessMin)\n",
    "\n",
    "# Attribute generator\n",
    "toolbox = base.Toolbox()\n",
    "toolbox.register(\"expr_init\", gp.genFull, pset=pset, min_=1, max_=2)\n",
    "\n",
    "# Structure initializers\n",
    "toolbox.register(\"individual\", tools.initIterate, creator.Individual, toolbox.expr_init)\n",
    "toolbox.register(\"population\", tools.initRepeat, list, toolbox.individual)"
   ]
  },
  {
   "cell_type": "markdown",
   "metadata": {},
   "source": [
    "Register the GP operators. They mate, mutate and change in various ways the individuals made of programs. Further individuals are the result from the GP algorithm using these GP operators."
   ]
  },
  {
   "cell_type": "code",
   "execution_count": 14,
   "metadata": {},
   "outputs": [],
   "source": [
    "toolbox.register(\"evaluate\", evalRESTController)\n",
    "toolbox.register(\"select\", tools.selTournament, tournsize=7)\n",
    "toolbox.register(\"mate\", gp.cxOnePoint)\n",
    "toolbox.register(\"expr_mut\", gp.genHalfAndHalf, min_=0, max_=2)\n",
    "toolbox.register(\"mutate\", gp.mutUniform, expr=toolbox.expr_mut, pset=pset)"
   ]
  },
  {
   "cell_type": "markdown",
   "metadata": {},
   "source": [
    "### Run the GP Algorithm"
   ]
  },
  {
   "cell_type": "code",
   "execution_count": 15,
   "metadata": {},
   "outputs": [
    {
     "name": "stdout",
     "output_type": "stream",
     "text": [
      "gen\tnevals\tavg \tstd\tmin \tmax \n",
      "0  \t500   \t1999\t0  \t1999\t1999\n",
      "1  \t325   \t1999\t0  \t1999\t1999\n",
      "2  \t303   \t1999\t0  \t1999\t1999\n"
     ]
    }
   ],
   "source": [
    "random.seed(69)\n",
    "\n",
    "pop = toolbox.population(n=500)\n",
    "hof = tools.HallOfFame(1)\n",
    "stats = tools.Statistics(lambda ind: ind.fitness.values)\n",
    "stats.register(\"avg\", numpy.mean)\n",
    "stats.register(\"std\", numpy.std)\n",
    "stats.register(\"min\", numpy.min)\n",
    "stats.register(\"max\", numpy.max)\n",
    "\n",
    "pop, log = algorithms.eaSimple(pop, toolbox, 0.5, 0.2, 2, stats, halloffame=hof)"
   ]
  },
  {
   "cell_type": "code",
   "execution_count": null,
   "metadata": {},
   "outputs": [],
   "source": []
  },
  {
   "cell_type": "code",
   "execution_count": null,
   "metadata": {},
   "outputs": [],
   "source": []
  },
  {
   "cell_type": "code",
   "execution_count": null,
   "metadata": {},
   "outputs": [],
   "source": []
  },
  {
   "cell_type": "code",
   "execution_count": 810,
   "metadata": {},
   "outputs": [
    {
     "name": "stderr",
     "output_type": "stream",
     "text": [
      "..x.\n",
      "----------------------------------------------------------------------\n",
      "Ran 4 tests in 0.380s\n",
      "\n",
      "OK (expected failures=1)\n"
     ]
    },
    {
     "data": {
      "text/plain": [
       "<unittest.runner.TextTestResult run=4 errors=0 failures=0>"
      ]
     },
     "execution_count": 810,
     "metadata": {},
     "output_type": "execute_result"
    }
   ],
   "source": []
  },
  {
   "cell_type": "code",
   "execution_count": null,
   "metadata": {},
   "outputs": [],
   "source": []
  },
  {
   "cell_type": "code",
   "execution_count": null,
   "metadata": {},
   "outputs": [],
   "source": []
  },
  {
   "cell_type": "code",
   "execution_count": 131,
   "metadata": {},
   "outputs": [],
   "source": [
    "ind_read=ind"
   ]
  },
  {
   "cell_type": "code",
   "execution_count": 148,
   "metadata": {},
   "outputs": [],
   "source": [
    "ind_create=ind"
   ]
  },
  {
   "cell_type": "markdown",
   "metadata": {},
   "source": [
    "## Display and Plot\n",
    "\n",
    "Plot the individual. It is a tree structure contained in the halloffame `hof` object.\n",
    "\n",
    "`hof[0]` indicates the individual tree structure."
   ]
  },
  {
   "cell_type": "code",
   "execution_count": 17,
   "metadata": {},
   "outputs": [
    {
     "data": {
      "text/plain": [
       "'if_then_else(read_cart, create_cart, update_cart)'"
      ]
     },
     "execution_count": 17,
     "metadata": {},
     "output_type": "execute_result"
    }
   ],
   "source": [
    "str(hof[0])"
   ]
  },
  {
   "cell_type": "code",
   "execution_count": 16,
   "metadata": {},
   "outputs": [],
   "source": [
    "f=if_then_else(cps.create_cart, cps.create_cart, cps.read_cart)\n",
    "f=prog2(cps.create_cart, cps.create_cart)\n",
    "f=prog2(if_then_else(prog2(cps.update_cart, cps.update_cart), prog3(cps.create_cart, cps.create_cart, cps.create_cart), prog2(cps.create_cart, cps.update_cart)), cps.read_cart)\n",
    "f=prog3(cps.read_cart, cps.read_cart, cps.create_cart)\n",
    "f=prog3(cps.read_cart, cps.read_cart, cps.create_cart)\n",
    "f=prog2(cps.update_cart, cps.create_cart)\n",
    "f=if_then_else(cps.read_cart, cps.create_cart, cps.update_cart)\n",
    "f=if_then_else(cps.create_cart,cps.create_cart,cps.read_cart)\n",
    "f=if_then_else(cps.update_cart, cps.read_cart, cps.create_cart)\n",
    "f=prog2(if_then_else(cps.create_cart, cps.read_cart, cps.read_cart), cps.update_cart)\n",
    "f=prog2(cps.create_cart, cps.read_cart)\n",
    "cps.reset()"
   ]
  },
  {
   "cell_type": "code",
   "execution_count": 50,
   "metadata": {},
   "outputs": [
    {
     "data": {
      "text/plain": [
       "{'direction': 'left',\n",
       " 'position': 0.7041449153009347,\n",
       " 'velocity': 0.46315185174295925}"
      ]
     },
     "execution_count": 50,
     "metadata": {},
     "output_type": "execute_result"
    }
   ],
   "source": [
    "c=return_cart_get(f)\n",
    "c()"
   ]
  },
  {
   "cell_type": "code",
   "execution_count": 109,
   "metadata": {},
   "outputs": [
    {
     "data": {
      "text/plain": [
       "'prog2(delete_cart, delete_cart)'"
      ]
     },
     "execution_count": 109,
     "metadata": {},
     "output_type": "execute_result"
    }
   ],
   "source": [
    "str(toolbox.individual())"
   ]
  },
  {
   "cell_type": "code",
   "execution_count": 20,
   "metadata": {},
   "outputs": [],
   "source": [
    "from deap import base, creator, gp\n",
    "\n",
    "nodes, edges, labels = gp.graph(hof[0])\n",
    "\n",
    "### Graphviz Section ###\n",
    "import pygraphviz as pgv\n",
    "\n",
    "g = pgv.AGraph()\n",
    "g.add_nodes_from(nodes)\n",
    "g.add_edges_from(edges)\n",
    "g.layout(prog=\"dot\")\n",
    "\n",
    "for i in nodes:\n",
    "    n = g.get_node(i)\n",
    "    n.attr[\"label\"] = labels[i]\n",
    "\n",
    "g.draw('gp_controller.png')"
   ]
  },
  {
   "cell_type": "markdown",
   "metadata": {},
   "source": [
    "![graph](gp_controller.png)"
   ]
  },
  {
   "cell_type": "code",
   "execution_count": null,
   "metadata": {},
   "outputs": [],
   "source": []
  },
  {
   "cell_type": "code",
   "execution_count": null,
   "metadata": {},
   "outputs": [],
   "source": []
  },
  {
   "cell_type": "code",
   "execution_count": null,
   "metadata": {},
   "outputs": [],
   "source": []
  },
  {
   "cell_type": "markdown",
   "metadata": {},
   "source": [
    "## Unit Testing the CartpoleServer\n",
    "\n",
    "This unittest implements test methods for the CartpoleServer's CRUD functions."
   ]
  },
  {
   "cell_type": "code",
   "execution_count": 92,
   "metadata": {},
   "outputs": [],
   "source": [
    "import unittest\n",
    "class Test_CartpoleServer(unittest.TestCase):\n",
    "    # small test routine for the CartpoleServer\n",
    "      \n",
    "    def setUp(self):\n",
    "        self.s=CartpoleServer\n",
    "        \n",
    "    def test_CartpoleServer(self):\n",
    "        self.s.reset()\n",
    "\n",
    "        c = self.s.read_cart()\n",
    "        self.assertEqual(type(c), type(None))\n",
    "\n",
    "        self.s.create_cart()\n",
    "        c = self.s.read_cart()\n",
    "        self.assertTrue( isinstance(type(c), type(Cart)) )\n",
    "\n",
    "        c2 = self.s.read_cart()\n",
    "        assert c == c2\n",
    "        self.assertEqual(c.to_dict(), c2.to_dict())\n",
    "\n",
    "        self.s.delete_cart()\n",
    "        c = self.s.read_cart()\n",
    "        self.assertEqual(type(c), type(None))\n",
    "\n",
    "        self.s.create_cart()\n",
    "        c = self.s.read_cart()\n",
    "        self.assertTrue( isinstance(type(c), type(Cart)) )\n",
    "        c2 = self.s.read_cart()\n",
    "        self.assertEqual(c, c2)\n",
    "        self.assertEqual(c.to_dict(), c2.to_dict())\n",
    "\n",
    "        self.s.reset()\n",
    "        c = self.s.read_cart()\n",
    "        self.assertEqual(type(c), type(None))"
   ]
  },
  {
   "cell_type": "code",
   "execution_count": 94,
   "metadata": {},
   "outputs": [
    {
     "name": "stderr",
     "output_type": "stream",
     "text": [
      ".\n",
      "----------------------------------------------------------------------\n",
      "Ran 1 test in 0.003s\n",
      "\n",
      "OK\n"
     ]
    },
    {
     "data": {
      "text/plain": [
       "<unittest.runner.TextTestResult run=1 errors=0 failures=0>"
      ]
     },
     "execution_count": 94,
     "metadata": {},
     "output_type": "execute_result"
    }
   ],
   "source": [
    "suite = unittest.defaultTestLoader.loadTestsFromTestCase(Test_CartpoleServer)\n",
    "unittest.TextTestRunner().run(suite)"
   ]
  },
  {
   "cell_type": "markdown",
   "metadata": {},
   "source": [
    "## Unit Testing the GP Controller Default Behavior\n",
    "\n",
    "We devise a default test for the `GP_TestDefaultController`. The default behavior comprises calling the OpenAPI generated test methods from the super class `TestDefaultController`.   "
   ]
  },
  {
   "cell_type": "code",
   "execution_count": 17,
   "metadata": {},
   "outputs": [],
   "source": [
    "import unittest\n",
    "class Test_GP_TestDefaultController(unittest.TestCase):\n",
    "\n",
    "    @classmethod\n",
    "    def setUpClass(cls):\n",
    "        super().setUpClass()\n",
    "        cls.gp_test=GP_TestDefaultController()\n",
    "        \n",
    "    def setUp(self):\n",
    "        self.gp_test=Test_GP_TestDefaultController.gp_test\n",
    "\n",
    "    def test_default(self):\n",
    "        gp_cart = self.gp_test.test_cart_get()"
   ]
  },
  {
   "cell_type": "code",
   "execution_count": 18,
   "metadata": {},
   "outputs": [
    {
     "name": "stderr",
     "output_type": "stream",
     "text": [
      ".\n",
      "----------------------------------------------------------------------\n",
      "Ran 1 test in 0.174s\n",
      "\n",
      "OK\n"
     ]
    },
    {
     "data": {
      "text/plain": [
       "<unittest.runner.TextTestResult run=1 errors=0 failures=0>"
      ]
     },
     "execution_count": 18,
     "metadata": {},
     "output_type": "execute_result"
    }
   ],
   "source": [
    "suite = unittest.defaultTestLoader.loadTestsFromTestCase(Test_GP_TestDefaultController)\n",
    "unittest.TextTestRunner().run(suite)"
   ]
  },
  {
   "cell_type": "markdown",
   "metadata": {},
   "source": [
    "## Unit Testing Monkey Patching\n",
    "\n",
    "This section designs a few testcases for the `endpoint_config()` method in the `GP_TestDefaultController` class."
   ]
  },
  {
   "cell_type": "code",
   "execution_count": 89,
   "metadata": {},
   "outputs": [],
   "source": [
    "# functions replacing the default controller by Monkey Patching\n",
    "\n",
    "from openapi_server.models import Cart\n",
    "\n",
    "def testcase_all_correct():\n",
    "    return Cart(position=1.1, velocity=2.2, direction='left')\n",
    "\n",
    "def testcase_empty_return_object():\n",
    "    return Cart()\n",
    "\n",
    "def testcase_return_none():\n",
    "    return None\n",
    "\n",
    "def testcase_program_with_exception():\n",
    "    raise Exception('Program raises an exception')\n",
    "\n",
    "def testcase_return_string_type():\n",
    "    return 'some string'\n",
    "\n",
    "def testcase_return_obj_type():\n",
    "    return type('obj', (object,), {'attribute' : 'attribute value'})"
   ]
  },
  {
   "cell_type": "code",
   "execution_count": 90,
   "metadata": {},
   "outputs": [],
   "source": [
    "# the testcase with test methods\n",
    "\n",
    "import unittest\n",
    "\n",
    "class TestMonkeyPatching(unittest.TestCase):\n",
    "\n",
    "    @classmethod\n",
    "    def setUpClass(cls):\n",
    "        super().setUpClass()\n",
    "        cls.gp_test=GP_TestDefaultController()\n",
    "\n",
    "    def setUp(self):\n",
    "        self.url_path = '/api/v1/cart'\n",
    "        self.gp_test=TestMonkeyPatching.gp_test\n",
    "        \n",
    "    def test_all_correct(self):\n",
    "        ret = self.gp_test.endpoint_config(self.url_path, 'get', testcase_all_correct)\n",
    "        self.assertTrue(ret)\n",
    "        gp_cart = self.gp_test.test_cart_get()\n",
    "    \n",
    "    def test_empty_return_object(self):\n",
    "        ret = self.gp_test.endpoint_config(self.url_path, 'get', testcase_empty_return_object)\n",
    "        self.assertTrue(ret)\n",
    "        gp_cart = self.gp_test.test_cart_get()\n",
    "    \n",
    "    @unittest.expectedFailure\n",
    "    def test_return_none(self):\n",
    "        ret = self.gp_test.endpoint_config(self.url_path, 'get', testcase_return_none)\n",
    "        self.assertTrue(ret)\n",
    "        gp_cart = self.gp_test.test_cart_get()\n",
    "\n",
    "    @unittest.expectedFailure\n",
    "    def test_program_with_exception(self):\n",
    "        ret = self.gp_test.endpoint_config(self.url_path, 'get', testcase_program_with_exception)\n",
    "        self.assertTrue(ret)\n",
    "        gp_cart = self.gp_test.test_cart_get()\n",
    "        \n",
    "    @unittest.expectedFailure\n",
    "    def test_return_string_type(self):\n",
    "        ret = self.gp_test.endpoint_config(self.url_path, 'get', testcase_return_string_type)\n",
    "        self.assertTrue(ret)\n",
    "        gp_cart = self.gp_test.test_cart_get()\n",
    "\n",
    "    @unittest.expectedFailure\n",
    "    def test_return_obj_type(self):\n",
    "        ret = self.gp_test.endpoint_config(self.url_path, 'get', testcase_return_obj_type)\n",
    "        self.assertTrue(ret)\n",
    "        gp_cart = self.gp_test.test_cart_get()\n"
   ]
  },
  {
   "cell_type": "code",
   "execution_count": 91,
   "metadata": {},
   "outputs": [
    {
     "name": "stderr",
     "output_type": "stream",
     "text": [
      "..xxxhttp://localhost/api/v1/cart validation error: 'some string' is not of type 'object'\n",
      "\n",
      "Failed validating 'type' in schema:\n",
      "    {'components': {'schemas': {'Cart': {'properties': {'direction': {'enum': ['left',\n",
      "                                                                               'right'],\n",
      "                                                                      'type': 'string'},\n",
      "                                                        'position': {'format': 'double',\n",
      "                                                                     'type': 'number'},\n",
      "                                                        'velocity': {'format': 'double',\n",
      "                                                                     'type': 'number'}},\n",
      "                                         'type': 'object'},\n",
      "                                'Direction': {'properties': {'direction': {'enum': ['left',\n",
      "                                                                                    'right'],\n",
      "                                                                           'type': 'string'}},\n",
      "                                              'type': 'object'},\n",
      "                                'Pole': {'properties': {'angle': {'format': 'double',\n",
      "                                                                  'type': 'number'},\n",
      "                                                        'velocity': {'format': 'double',\n",
      "                                                                     'type': 'number'}},\n",
      "                                         'type': 'object'}}},\n",
      "     'properties': {'direction': {'enum': ['left', 'right'],\n",
      "                                  'type': 'string'},\n",
      "                    'position': {'format': 'double', 'type': 'number'},\n",
      "                    'velocity': {'format': 'double', 'type': 'number'}},\n",
      "     'type': 'object',\n",
      "     'x-scope': ['']}\n",
      "\n",
      "On instance:\n",
      "    'some string'\n",
      "x\n",
      "----------------------------------------------------------------------\n",
      "Ran 6 tests in 0.198s\n",
      "\n",
      "OK (expected failures=4)\n"
     ]
    },
    {
     "data": {
      "text/plain": [
       "<unittest.runner.TextTestResult run=6 errors=0 failures=0>"
      ]
     },
     "execution_count": 91,
     "metadata": {},
     "output_type": "execute_result"
    }
   ],
   "source": [
    "suite = unittest.defaultTestLoader.loadTestsFromTestCase(TestMonkeyPatching)\n",
    "unittest.TextTestRunner().run(suite)"
   ]
  },
  {
   "cell_type": "markdown",
   "metadata": {},
   "source": [
    "## Unit Testing DEAP for Finding Controller Functions\n",
    "\n",
    "We test some behavior of DEAP to find GP controller functions.  \n",
    "\n",
    "**Note:** This test does not run independently. It depends on the function definitions from above and asserts their existence.  "
   ]
  },
  {
   "cell_type": "code",
   "execution_count": 813,
   "metadata": {},
   "outputs": [],
   "source": [
    "import unittest\n",
    "import types\n",
    "\n",
    "# cart_get() controller must return something\n",
    "def return_cart_get(left):\n",
    "    left()\n",
    "    return cps.read_cart\n",
    "\n",
    "class Test_DEAPController(unittest.TestCase):\n",
    "\n",
    "    @classmethod\n",
    "    def setUpClass(cls):\n",
    "        super().setUpClass()\n",
    "        assert isinstance(toolbox, base.Toolbox), 'toolbox not defined'\n",
    "        cls.assertIsNotNone(toolbox.individual(), 'toolbox.individual() does not work')\n",
    "        assert cps == CartpoleServer, 'cps is not a CartpoleServer'\n",
    "    \n",
    "    def setUp(self):\n",
    "        self.assertIsInstance(pset, gp.PrimitiveSet, 'pset not defined')\n",
    "        self.assertIsInstance(toolbox, base.Toolbox, 'toolbox not defined')\n",
    "    \n",
    "    def test_search_prog(self, n=100):\n",
    "        \n",
    "        def add_func2pset(expr, pset, func, num_args):\n",
    "            pset_cloned = toolbox.clone(pset)\n",
    "            pset_cloned.addPrimitive(func, num_args)\n",
    "            prim_func = gp.Primitive(func.__name__, [object], object)\n",
    "            expr_func = [prim_func] + expr\n",
    "            return expr_func, pset_cloned\n",
    "            \n",
    "        function = None\n",
    "        self.assertIsInstance(return_cart_get, types.FunctionType, 'return_cart_get() not defined')\n",
    "        \n",
    "        for i in range(n):\n",
    "            cps.reset()\n",
    "            # GP Program generation function \n",
    "            individual = toolbox.individual() # type: PrimitiveTree\n",
    "\n",
    "            # expressions from a generated PrimitiveTree individual \n",
    "            expr = list(individual)            \n",
    "            # add return_cart_get als new root\n",
    "            expr_return, pset_return = add_func2pset(expr=expr,\n",
    "                                                     pset=pset,\n",
    "                                                     func=return_cart_get, \n",
    "                                                     num_args=1 )\n",
    "            # rebuild tree from expressions \n",
    "            tree = gp.PrimitiveTree(expr_return)\n",
    "            # .. and compile\n",
    "            function = gp.compile(tree, pset_return)\n",
    "\n",
    "            try:\n",
    "                ret = function()\n",
    "                if isinstance(ret, type(None)):\n",
    "                    continue\n",
    "            except Exception:\n",
    "                continue\n",
    "            break\n",
    "\n",
    "        self.assertIsNotNone(function)\n",
    "        self.assertIsInstance(function, types.MethodType)\n",
    "            \n",
    "        if not isinstance(ret, type(None)):    \n",
    "            print('Loop: {}'.format(i))\n",
    "            print('Function:\\n{}'.format(str(tree)))\n",
    "            print('\\nReturn:\\n{}'.format(ret))\n",
    "        return function()\n",
    "        "
   ]
  },
  {
   "cell_type": "code",
   "execution_count": 814,
   "metadata": {},
   "outputs": [
    {
     "name": "stderr",
     "output_type": "stream",
     "text": [
      "."
     ]
    },
    {
     "name": "stdout",
     "output_type": "stream",
     "text": [
      "Loop: 5\n",
      "Function:\n",
      "return_cart_get(prog3(update_cart, update_cart, create_cart))\n",
      "\n",
      "Return:\n",
      "{'direction': 'right',\n",
      " 'position': 0.012461126628846908,\n",
      " 'velocity': 0.7247699102128887}\n"
     ]
    },
    {
     "name": "stderr",
     "output_type": "stream",
     "text": [
      "\n",
      "----------------------------------------------------------------------\n",
      "Ran 1 test in 0.010s\n",
      "\n",
      "OK\n"
     ]
    },
    {
     "data": {
      "text/plain": [
       "<unittest.runner.TextTestResult run=1 errors=0 failures=0>"
      ]
     },
     "execution_count": 814,
     "metadata": {},
     "output_type": "execute_result"
    }
   ],
   "source": [
    "suite = unittest.defaultTestLoader.loadTestsFromTestCase(Test_DEAPController)\n",
    "unittest.TextTestRunner().run(suite)"
   ]
  },
  {
   "cell_type": "markdown",
   "metadata": {},
   "source": [
    "## Unit Testing `evaluate()`\n",
    "\n",
    "**Observation:** Wiederholtes Aufrufen der compilierten Funktion führt zum selben Ergebnis während wiederholtes Compilieren der GP Controller Funktion zu verschiedenen Ergebnissen führt. Beide sollten jedoch das selbe Verhalten zeigen.\n",
    "\n",
    "**Problem:** Ursache liegt in der `return_cart_get()` Funktion. Die Funktion führt das GP Controller Programm bereits zum Zeitpunkt aus, wenn die Routine zusammengebaut wird. Es wird nur noch die `cps.read` Routine zurückgegeben und als Test-Controller ausgeführt. Diese liefert dann ein wiederholt ein konstantes Ergebnis, da das GP Programm nicht mehr ausgeführt wird."
   ]
  },
  {
   "cell_type": "code",
   "execution_count": 820,
   "metadata": {},
   "outputs": [],
   "source": [
    "import unittest\n",
    "import types\n",
    "\n",
    "\n",
    "# cart_get() controller must return something\n",
    "def return_cart_get(left):\n",
    "    def run_first_return_second(f1,f2):\n",
    "        f1()\n",
    "        return f2()\n",
    "    \n",
    "    return partial(run_first_return_second, left, cps.read_cart)\n",
    "\n",
    "\n",
    "class Test_Evaluate(unittest.TestCase):\n",
    "        \n",
    "    @classmethod\n",
    "    def setUpClass(cls):\n",
    "        super().setUpClass()\n",
    "        assert cps == CartpoleServer, 'cps is not a CartpoleServer'\n",
    "    \n",
    "    def setUp(self):\n",
    "        self.assertIsInstance(pset, gp.PrimitiveSet, 'pset not defined')\n",
    "        self.assertIsInstance(return_cart_get, types.FunctionType, 'return_cart_get() not defined')\n",
    "        \n",
    "    def run_eval(self, gp_ctrl):\n",
    "        ind = gp.PrimitiveTree.from_string(gp_ctrl, pset)\n",
    "        fitness = evalRESTController(ind)[0]\n",
    "        return fitness\n",
    "        \n",
    "    def test_create_controller(self):\n",
    "        test_gp_controller = 'create_cart'\n",
    "        fitness = self.run_eval(test_gp_controller)\n",
    "        self.assertEqual(fitness, 5*200-1)\n",
    "    \n",
    "    @unittest.expectedFailure\n",
    "    def test_read_controller(self):\n",
    "        test_gp_controller = 'read_cart'\n",
    "        fitness = self.run_eval(test_gp_controller)\n",
    "        self.assertEqual(fitness, 5*200-1)\n",
    "\n",
    "    def test_create_read_controller(self):\n",
    "        test_gp_controller = 'prog2(create_cart, read_cart)'\n",
    "        fitness = self.run_eval(test_gp_controller)\n",
    "        self.assertEqual(fitness, 5*200-1)\n",
    "\n",
    "    def test_read_create_controller(self):\n",
    "        test_gp_controller = 'prog2(read_cart, create_cart)'\n",
    "        fitness = self.run_eval(test_gp_controller)\n",
    "        self.assertEqual(fitness, 5*200-1)                "
   ]
  },
  {
   "cell_type": "code",
   "execution_count": 821,
   "metadata": {},
   "outputs": [
    {
     "name": "stderr",
     "output_type": "stream",
     "text": [
      "..x.\n",
      "----------------------------------------------------------------------\n",
      "Ran 4 tests in 0.470s\n",
      "\n",
      "OK (expected failures=1)\n"
     ]
    },
    {
     "data": {
      "text/plain": [
       "<unittest.runner.TextTestResult run=4 errors=0 failures=0>"
      ]
     },
     "execution_count": 821,
     "metadata": {},
     "output_type": "execute_result"
    }
   ],
   "source": [
    "suite = unittest.defaultTestLoader.loadTestsFromTestCase(Test_Evaluate)\n",
    "unittest.TextTestRunner().run(suite)"
   ]
  }
 ],
 "metadata": {
  "kernelspec": {
   "display_name": "Python 3",
   "language": "python",
   "name": "python3"
  },
  "language_info": {
   "codemirror_mode": {
    "name": "ipython",
    "version": 3
   },
   "file_extension": ".py",
   "mimetype": "text/x-python",
   "name": "python",
   "nbconvert_exporter": "python",
   "pygments_lexer": "ipython3",
   "version": "3.7.6"
  }
 },
 "nbformat": 4,
 "nbformat_minor": 4
}
