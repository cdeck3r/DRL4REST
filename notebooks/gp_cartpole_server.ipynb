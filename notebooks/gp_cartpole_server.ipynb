{
 "cells": [
  {
   "cell_type": "markdown",
   "metadata": {},
   "source": [
    "# GP Cartpole Server\n",
    "\n",
    "This notebook introduces the genetic programming (GP) approach for the cartpole REST interface. GP creates a program for the interface's default controllers. It enables the cartpole REST interface to reply with a concrete response to a client's requests.\n",
    "\n",
    "The figure illustrates the position of the GP software within the REST interface implementation.  \n",
    "\n",
    "![REST gp design](http://www.plantuml.com/plantuml/png/5SWx3i8m303Ggy05uW4cPjYO2dlLEbOQ9R4ZVyJrKT_uhfMnHwRGVZdSfpq0TFkbKls8FOmKXPtO4ye0p8Jjfl1StlVbzVd2sCn9WSLf5sa6vwvbhfci5aun-Xy0)\n",
    "\n",
    "The [OpenAPI generator](https://github.com/OpenAPITools/openapi-generator) created a server stub consisting of the REST interface and the REST controller prototype using the [cartpole API spec](https://raw.githubusercontent.com/cdeck3r/DRL4REST/master/src/cartpole/spec/OpenAPIv1.json). In this approach we replace the controller's empty function body with an implementation found through genetic programming. Additionally, we introduce a ServerModel, which keeps a state if required. One may access the state using CRUD operations. "
   ]
  },
  {
   "cell_type": "markdown",
   "metadata": {},
   "source": [
    "## Example: `cart_get()` Controller Function\n",
    "\n",
    "As a example, look at the `cart_get()` controller prototype the OpenAPI generator created for the cartpole REST interface.  \n",
    "\n",
    "```python\n",
    "def cart_get():  # noqa: E501\n",
    "    \"\"\"cart_get\n",
    "\n",
    "     # noqa: E501\n",
    "\n",
    "\n",
    "    :rtype: Cart\n",
    "    \"\"\"\n",
    "    return 'do some magic!'\n",
    "```\n",
    "\n",
    "A concrete example implementation would look like the following:\n",
    "\n",
    "```python\n",
    "def cart_get():  # noqa: E501\n",
    "    # just return a Cart object with random values\n",
    "\n",
    "    position = random()\n",
    "    velocity = random()\n",
    "    direction = choice([\"left\", \"right\"]) \n",
    "\n",
    "    return Cart(position=position, velocity=velocity, direction=direction)\n",
    "```\n",
    "\n",
    "The `Cart` class is one the generated models. The constructor defines the params as follows:\n",
    "```python\n",
    "def __init__(self, position=None, velocity=None, direction=None):  # noqa: E501\n",
    "    \"\"\"Cart - a model defined in OpenAPI\n",
    "\n",
    "    :param position: The position of this Cart.  # noqa: E501\n",
    "    :type position: float\n",
    "    :param velocity: The velocity of this Cart.  # noqa: E501\n",
    "    :type velocity: float\n",
    "    :param direction: The direction of this Cart.  # noqa: E501\n",
    "    :type direction: str\n",
    "    \"\"\"\n",
    "    ...\n",
    "```"
   ]
  },
  {
   "cell_type": "markdown",
   "metadata": {},
   "source": [
    "## Genetic Program Design\n",
    "\n",
    "For the `get_cart()` example from above, we envision the following controller implementation: if there is already a cart object, then the controller will return this object. Otherwise, the controller creates a new one and returns it. Here's the pseudo code:\n",
    "\n",
    "```python\n",
    "if cart exists \n",
    "    return cart\n",
    "else\n",
    "    return create_cart()\n",
    "```\n",
    "**The GP problem is: Create a program like the one above.**\n",
    "\n",
    "We test run the code within the `evaluate()` function of the GP algorithm. It is successfull, if\n",
    "\n",
    "1. `get_cart()` controller runs without any exception \n",
    "1. repeated `get_cart()` requests result in the same response"
   ]
  },
  {
   "cell_type": "markdown",
   "metadata": {},
   "source": [
    "## Import libs\n",
    "\n",
    "DEAP was previously installed in this image. If not, run `pip install deap`."
   ]
  },
  {
   "cell_type": "code",
   "execution_count": 1,
   "metadata": {},
   "outputs": [],
   "source": [
    "import random\n",
    "\n",
    "import numpy\n",
    "\n",
    "from functools import partial\n",
    "\n",
    "from deap import algorithms\n",
    "from deap import base\n",
    "from deap import creator\n",
    "from deap import tools\n",
    "from deap import gp"
   ]
  },
  {
   "cell_type": "markdown",
   "metadata": {},
   "source": [
    "The OpenAPI generated interface code is based on python-flask. If necessary, activate the following cell `ESC + y` and install the requirements."
   ]
  },
  {
   "cell_type": "code",
   "execution_count": 2,
   "metadata": {},
   "outputs": [
    {
     "name": "stdout",
     "output_type": "stream",
     "text": [
      "Ignoring connexion: markers 'python_version == \"3.5\"' don't match your environment\n",
      "Ignoring connexion: markers 'python_version == \"3.4\"' don't match your environment\n",
      "Ignoring connexion: markers 'python_version <= \"2.7\"' don't match your environment\n",
      "Requirement already satisfied: connexion>=2.5.0 in /opt/conda/lib/python3.7/site-packages (from -r requirements.txt (line 1)) (2.7.0)\n",
      "Requirement already satisfied: swagger-ui-bundle>=0.0.2 in /opt/conda/lib/python3.7/site-packages (from -r requirements.txt (line 5)) (0.0.6)\n",
      "Requirement already satisfied: python_dateutil>=2.6.0 in /opt/conda/lib/python3.7/site-packages (from -r requirements.txt (line 6)) (2.8.1)\n",
      "Requirement already satisfied: setuptools>=21.0.0 in /opt/conda/lib/python3.7/site-packages (from -r requirements.txt (line 7)) (46.1.3.post20200325)\n",
      "Requirement already satisfied: clickclick>=1.2 in /opt/conda/lib/python3.7/site-packages (from connexion>=2.5.0->-r requirements.txt (line 1)) (1.2.2)\n",
      "Requirement already satisfied: flask>=1.0.4 in /opt/conda/lib/python3.7/site-packages (from connexion>=2.5.0->-r requirements.txt (line 1)) (1.1.2)\n",
      "Requirement already satisfied: inflection>=0.3.1 in /opt/conda/lib/python3.7/site-packages (from connexion>=2.5.0->-r requirements.txt (line 1)) (0.4.0)\n",
      "Requirement already satisfied: PyYAML>=5.1 in /opt/conda/lib/python3.7/site-packages (from connexion>=2.5.0->-r requirements.txt (line 1)) (5.3.1)\n",
      "Requirement already satisfied: requests>=2.9.1 in /opt/conda/lib/python3.7/site-packages (from connexion>=2.5.0->-r requirements.txt (line 1)) (2.23.0)\n",
      "Requirement already satisfied: openapi-spec-validator>=0.2.4 in /opt/conda/lib/python3.7/site-packages (from connexion>=2.5.0->-r requirements.txt (line 1)) (0.2.8)\n",
      "Requirement already satisfied: jsonschema>=2.5.1 in /opt/conda/lib/python3.7/site-packages (from connexion>=2.5.0->-r requirements.txt (line 1)) (3.2.0)\n",
      "Requirement already satisfied: Jinja2>=2.0 in /opt/conda/lib/python3.7/site-packages (from swagger-ui-bundle>=0.0.2->-r requirements.txt (line 5)) (2.11.2)\n",
      "Requirement already satisfied: six>=1.5 in /opt/conda/lib/python3.7/site-packages (from python_dateutil>=2.6.0->-r requirements.txt (line 6)) (1.14.0)\n",
      "Requirement already satisfied: click>=4.0 in /opt/conda/lib/python3.7/site-packages (from clickclick>=1.2->connexion>=2.5.0->-r requirements.txt (line 1)) (7.1.2)\n",
      "Requirement already satisfied: Werkzeug>=0.15 in /opt/conda/lib/python3.7/site-packages (from flask>=1.0.4->connexion>=2.5.0->-r requirements.txt (line 1)) (0.16.1)\n",
      "Requirement already satisfied: itsdangerous>=0.24 in /opt/conda/lib/python3.7/site-packages (from flask>=1.0.4->connexion>=2.5.0->-r requirements.txt (line 1)) (1.1.0)\n",
      "Requirement already satisfied: idna<3,>=2.5 in /opt/conda/lib/python3.7/site-packages (from requests>=2.9.1->connexion>=2.5.0->-r requirements.txt (line 1)) (2.9)\n",
      "Requirement already satisfied: chardet<4,>=3.0.2 in /opt/conda/lib/python3.7/site-packages (from requests>=2.9.1->connexion>=2.5.0->-r requirements.txt (line 1)) (3.0.4)\n",
      "Requirement already satisfied: certifi>=2017.4.17 in /opt/conda/lib/python3.7/site-packages (from requests>=2.9.1->connexion>=2.5.0->-r requirements.txt (line 1)) (2020.4.5.1)\n",
      "Requirement already satisfied: urllib3!=1.25.0,!=1.25.1,<1.26,>=1.21.1 in /opt/conda/lib/python3.7/site-packages (from requests>=2.9.1->connexion>=2.5.0->-r requirements.txt (line 1)) (1.25.9)\n",
      "Requirement already satisfied: importlib-metadata; python_version < \"3.8\" in /opt/conda/lib/python3.7/site-packages (from jsonschema>=2.5.1->connexion>=2.5.0->-r requirements.txt (line 1)) (1.6.0)\n",
      "Requirement already satisfied: pyrsistent>=0.14.0 in /opt/conda/lib/python3.7/site-packages (from jsonschema>=2.5.1->connexion>=2.5.0->-r requirements.txt (line 1)) (0.16.0)\n",
      "Requirement already satisfied: attrs>=17.4.0 in /opt/conda/lib/python3.7/site-packages (from jsonschema>=2.5.1->connexion>=2.5.0->-r requirements.txt (line 1)) (19.3.0)\n",
      "Requirement already satisfied: MarkupSafe>=0.23 in /opt/conda/lib/python3.7/site-packages (from Jinja2>=2.0->swagger-ui-bundle>=0.0.2->-r requirements.txt (line 5)) (1.1.1)\n",
      "Requirement already satisfied: zipp>=0.5 in /opt/conda/lib/python3.7/site-packages (from importlib-metadata; python_version < \"3.8\"->jsonschema>=2.5.1->connexion>=2.5.0->-r requirements.txt (line 1)) (3.1.0)\n",
      "Requirement already satisfied: pytest~=4.6.7 in /opt/conda/lib/python3.7/site-packages (from -r test-requirements.txt (line 1)) (4.6.10)\n",
      "Requirement already satisfied: pytest-cov>=2.8.1 in /opt/conda/lib/python3.7/site-packages (from -r test-requirements.txt (line 2)) (2.9.0)\n",
      "Requirement already satisfied: pytest-randomly==1.2.3 in /opt/conda/lib/python3.7/site-packages (from -r test-requirements.txt (line 3)) (1.2.3)\n",
      "Requirement already satisfied: flask_testing==0.6.1 in /opt/conda/lib/python3.7/site-packages (from -r test-requirements.txt (line 4)) (0.6.1)\n",
      "Requirement already satisfied: attrs>=17.4.0 in /opt/conda/lib/python3.7/site-packages (from pytest~=4.6.7->-r test-requirements.txt (line 1)) (19.3.0)\n",
      "Requirement already satisfied: packaging in /opt/conda/lib/python3.7/site-packages (from pytest~=4.6.7->-r test-requirements.txt (line 1)) (20.1)\n",
      "Requirement already satisfied: wcwidth in /opt/conda/lib/python3.7/site-packages (from pytest~=4.6.7->-r test-requirements.txt (line 1)) (0.1.9)\n",
      "Requirement already satisfied: py>=1.5.0 in /opt/conda/lib/python3.7/site-packages (from pytest~=4.6.7->-r test-requirements.txt (line 1)) (1.8.1)\n",
      "Requirement already satisfied: atomicwrites>=1.0 in /opt/conda/lib/python3.7/site-packages (from pytest~=4.6.7->-r test-requirements.txt (line 1)) (1.4.0)\n",
      "Requirement already satisfied: six>=1.10.0 in /opt/conda/lib/python3.7/site-packages (from pytest~=4.6.7->-r test-requirements.txt (line 1)) (1.14.0)\n",
      "Requirement already satisfied: pluggy<1.0,>=0.12 in /opt/conda/lib/python3.7/site-packages (from pytest~=4.6.7->-r test-requirements.txt (line 1)) (0.13.1)\n",
      "Requirement already satisfied: importlib-metadata>=0.12; python_version < \"3.8\" in /opt/conda/lib/python3.7/site-packages (from pytest~=4.6.7->-r test-requirements.txt (line 1)) (1.6.0)\n",
      "Requirement already satisfied: more-itertools>=4.0.0; python_version > \"2.7\" in /opt/conda/lib/python3.7/site-packages (from pytest~=4.6.7->-r test-requirements.txt (line 1)) (8.3.0)\n",
      "Requirement already satisfied: coverage>=4.4 in /opt/conda/lib/python3.7/site-packages (from pytest-cov>=2.8.1->-r test-requirements.txt (line 2)) (5.1)\n",
      "Requirement already satisfied: Flask in /opt/conda/lib/python3.7/site-packages (from flask_testing==0.6.1->-r test-requirements.txt (line 4)) (1.1.2)\n",
      "Requirement already satisfied: pyparsing>=2.0.2 in /opt/conda/lib/python3.7/site-packages (from packaging->pytest~=4.6.7->-r test-requirements.txt (line 1)) (2.4.7)\n",
      "Requirement already satisfied: zipp>=0.5 in /opt/conda/lib/python3.7/site-packages (from importlib-metadata>=0.12; python_version < \"3.8\"->pytest~=4.6.7->-r test-requirements.txt (line 1)) (3.1.0)\n",
      "Requirement already satisfied: itsdangerous>=0.24 in /opt/conda/lib/python3.7/site-packages (from Flask->flask_testing==0.6.1->-r test-requirements.txt (line 4)) (1.1.0)\n",
      "Requirement already satisfied: Jinja2>=2.10.1 in /opt/conda/lib/python3.7/site-packages (from Flask->flask_testing==0.6.1->-r test-requirements.txt (line 4)) (2.11.2)\n",
      "Requirement already satisfied: Werkzeug>=0.15 in /opt/conda/lib/python3.7/site-packages (from Flask->flask_testing==0.6.1->-r test-requirements.txt (line 4)) (0.16.1)\n",
      "Requirement already satisfied: click>=5.1 in /opt/conda/lib/python3.7/site-packages (from Flask->flask_testing==0.6.1->-r test-requirements.txt (line 4)) (7.1.2)\n",
      "Requirement already satisfied: MarkupSafe>=0.23 in /opt/conda/lib/python3.7/site-packages (from Jinja2>=2.10.1->Flask->flask_testing==0.6.1->-r test-requirements.txt (line 4)) (1.1.1)\n",
      "Requirement already satisfied: Werkzeug==0.16.1 in /opt/conda/lib/python3.7/site-packages (0.16.1)\n"
     ]
    }
   ],
   "source": [
    "%%bash\n",
    "# define project environment\n",
    "PROJECT_DIR=\"/DRL4REST\"\n",
    "OPENAPI_SERVER_DIR=\"$PROJECT_DIR/openapi/cartpole/python-flask\"\n",
    "\n",
    "# install requirements\n",
    "cd \"$OPENAPI_SERVER_DIR\" || exit\n",
    "pip install -r requirements.txt || exit\n",
    "pip install -r test-requirements.txt || exit\n",
    "\n",
    "# install other requirements\n",
    "pip install Werkzeug==0.16.1 || exit"
   ]
  },
  {
   "cell_type": "code",
   "execution_count": 3,
   "metadata": {},
   "outputs": [],
   "source": [
    "# set path to import code generated by OpenAPI\n",
    "import sys\n",
    "sys.path.append(\"/DRL4REST/openapi/cartpole/python-flask\")"
   ]
  },
  {
   "cell_type": "markdown",
   "metadata": {},
   "source": [
    "## ServerModel CRUD Functions\n",
    "\n",
    "`CartpoleServer` is the implementation of the ServerModel. The ServerModel is a static class. Controller utilize the model to store state between successive calls. State access and manipulation via CRUD."
   ]
  },
  {
   "cell_type": "code",
   "execution_count": 4,
   "metadata": {},
   "outputs": [],
   "source": [
    "from openapi_server.models import Cart\n",
    "\n",
    "class CartpoleServer(object):\n",
    "\n",
    "    # state as class variable\n",
    "    _cart = None\n",
    "\n",
    "    # set the class in a defined (initial) state\n",
    "    @classmethod\n",
    "    def reset(cls):\n",
    "        cls._cart = None\n",
    "    \n",
    "    @classmethod\n",
    "    def create_cart(cls):\n",
    "        if isinstance(cls._cart, type(None)):\n",
    "            position = random.random()\n",
    "            velocity = random.random()\n",
    "            # we know the values from the models, e.g.\n",
    "            #   models/cart.py or models/direction.py\n",
    "            direction = random.choice([\"left\", \"right\"])\n",
    "            cls._cart = Cart(position=position, velocity=velocity, direction=direction)\n",
    "        \n",
    "        return cls._cart\n",
    "\n",
    "    @classmethod\n",
    "    def read_cart(cls):\n",
    "        return cls._cart\n",
    "    \n",
    "    @classmethod\n",
    "    def update_cart(cls):\n",
    "        pass\n",
    "\n",
    "    @classmethod\n",
    "    def delete_cart(cls):\n",
    "        cls._cart = None"
   ]
  },
  {
   "cell_type": "code",
   "execution_count": null,
   "metadata": {},
   "outputs": [],
   "source": []
  },
  {
   "cell_type": "markdown",
   "metadata": {},
   "source": [
    "## Monkey Patching\n",
    "\n",
    "Monkey patching changes the default behavior of a piece of code at runtime without changing its original source. For example, we want to change the behavior of the default controller function prototype `cart_get()`. Monkey patching replaces the prototype by the GP created program. When running the testcases, the GP created program gets executed instead of the default controller.\n",
    "\n",
    "Concretely, the view function of an REST endpoint is patched to run a new controller function other than the default controller. While the openapi generator keeps controller nicely separated from the Connexion / Flask framework, it wraps them when loading the openapi spec. Basically, it applies various Python [decorators within the Operation object](https://github.com/zalando/connexion/blob/bed4b95205205861bd6014282d0f61d50231d3ac/connexion/operations/abstract.py#L340) around the controller function to add additional behavior. Note, [do not confuse it with the decorator pattern](https://wiki.python.org/moin/DecoratorPattern). As a consequence, the monkey patching approach has to unwrap the enpoint's view function at first to re-gain access to the (default) controller function. Afterwards, it replaces the code. "
   ]
  },
  {
   "cell_type": "code",
   "execution_count": 7,
   "metadata": {},
   "outputs": [],
   "source": [
    "class MonkeyPatching:\n",
    "    def __init__(self, app=None):\n",
    "        self._rules = []\n",
    "        self._app = app\n",
    "    \n",
    "    @property\n",
    "    def app(self):\n",
    "        return self._app\n",
    "    \n",
    "    @app.setter\n",
    "    def app(self, app):\n",
    "        self._app = app\n",
    "    \n",
    "    # test if endpoint config exists\n",
    "    def _endpoint_exists(self, url_path, method):\n",
    "        self._rules = []\n",
    "        \n",
    "        for r in self._app.url_map.iter_rules():\n",
    "            if (url_path == str(r)) and (method.upper() in r.methods):\n",
    "                self._rules.append(r)\n",
    "                return True\n",
    "        return False\n",
    "\n",
    "    # gets the endpoint's view function\n",
    "    # returns the default controller functio\n",
    "    def _unwrap(self, view_func):\n",
    "        wrapped_func = view_func\n",
    "        try:\n",
    "            while wrapped_func.__wrapped__ :\n",
    "                wrapped_func = wrapped_func.__wrapped__\n",
    "        except Exception:\n",
    "            # this is the default_controller_func\n",
    "             return wrapped_func\n",
    "    \n",
    "    # replace endpoint's controller function with the one \n",
    "    # from the parameters\n",
    "    def patch(self, url_path, method, controller_func):\n",
    "        if self._endpoint_exists(url_path, method):\n",
    "            rule = self._rules[0]\n",
    "            view_func = self._app.view_functions[rule.endpoint]\n",
    "            default_controller_func = self._unwrap(view_func)\n",
    "            default_controller_func.__code__ = controller_func.__code__\n",
    "            return True\n",
    "        \n",
    "        return False"
   ]
  },
  {
   "cell_type": "markdown",
   "metadata": {},
   "source": [
    "## Testing the GP Controller\n",
    "\n",
    "The `GP_TestDefaultController` overrides the tests generated by the OpenAPI generator in order to enable additional checks of the response. Furthermore, this class enables the Monkey Patching of the controller function. As a consequence, the `test_cart_get()` function from this class tests the GP generated controller function "
   ]
  },
  {
   "cell_type": "code",
   "execution_count": 28,
   "metadata": {},
   "outputs": [],
   "source": [
    "from openapi_server.test.test_default_controller import TestDefaultController\n",
    "from pprint import pprint\n",
    "\n",
    "import unittest\n",
    "\n",
    "class GP_TestDefaultController(TestDefaultController):\n",
    "\n",
    "    def __init__(self, mp=MonkeyPatching(), app_config_testing=True):\n",
    "        super().__init__()\n",
    "        self.app = super().create_app()\n",
    "        self.app.config['TESTING'] = app_config_testing\n",
    "        self.client = self.app.test_client()\n",
    "       \n",
    "        # associate with MonkeyPatching\n",
    "        self.mp = mp\n",
    "        self.mp.app = self.app    \n",
    "\n",
    "    \"\"\"\n",
    "    Changes the behavior of a url_path with a new controller function\n",
    "    \n",
    "    Returns True if endpoint was found and successfully patched\n",
    "\n",
    "    Limits: \n",
    "      * works only if method is unique for url_path \n",
    "      * does not support aliases\n",
    "    \"\"\"\n",
    "    def endpoint_config(self, url_path, method, controller_func):\n",
    "        return self.mp.patch(url_path, method, controller_func)\n",
    "\n",
    "    # overrides the default test_cart_get()\n",
    "    def test_cart_get(self):\n",
    "        response = super().test_cart_get() #assert200(response)        \n",
    "        self.assertEqual(response.content_type, \n",
    "                    'application/vnd.cartpole.cart+json', \n",
    "                    'Please check the openapi.yaml for unique content-type in response section'\n",
    "                   )\n",
    "        #print(response.headers)\n",
    "        #print(response.json)\n",
    "        return response.status_code\n"
   ]
  },
  {
   "cell_type": "markdown",
   "metadata": {},
   "source": [
    "## Genetic Program Implementation\n",
    "\n",
    "The GP bases on the Artificial Ant Problem from the [DEAP example site](https://deap.readthedocs.io/en/master/examples/gp_ant.html)."
   ]
  },
  {
   "cell_type": "markdown",
   "metadata": {},
   "source": [
    "### Generic Functions\n",
    "\n",
    "These are generic functions, e.g. for control flow and concatenating functions with each other, and the specific function for the server code. "
   ]
  },
  {
   "cell_type": "code",
   "execution_count": 29,
   "metadata": {},
   "outputs": [],
   "source": [
    "def progn(*args):\n",
    "    for arg in args:\n",
    "        arg()\n",
    "\n",
    "def prog2(out1, out2): \n",
    "    return partial(progn,out1,out2)\n",
    "\n",
    "def prog3(out1, out2, out3):     \n",
    "    return partial(progn,out1,out2,out3)\n",
    "\n",
    "def if_then_else(condition, out1, out2):\n",
    "    out1() if condition() else out2()\n",
    "    \n",
    "def if_then(condition, out1):\n",
    "    if condition(): out1()"
   ]
  },
  {
   "cell_type": "markdown",
   "metadata": {},
   "source": [
    "### Controller Functions\n",
    "\n",
    "These are the functions the GP algorithm strings together utilizing the generic functions from above. The created program forms an individual and is tested by the `evaluate()` function. The controller functions utilize the CartpoleServer's CRUD functions."
   ]
  },
  {
   "cell_type": "code",
   "execution_count": 30,
   "metadata": {},
   "outputs": [],
   "source": [
    "cps = CartpoleServer\n",
    "cps.reset()"
   ]
  },
  {
   "cell_type": "code",
   "execution_count": 31,
   "metadata": {},
   "outputs": [],
   "source": [
    "pset = gp.PrimitiveSet(\"MAIN\", 0)\n",
    "pset.addPrimitive(if_then_else, 3)\n",
    "pset.addPrimitive(if_then, 2)\n",
    "\n",
    "pset.addPrimitive(prog2, 2)\n",
    "pset.addPrimitive(prog3, 3)\n",
    "\n",
    "pset.addTerminal(cps.create_cart)\n",
    "pset.addTerminal(cps.read_cart)\n",
    "pset.addTerminal(cps.update_cart)\n",
    "pset.addTerminal(cps.delete_cart)"
   ]
  },
  {
   "cell_type": "code",
   "execution_count": 32,
   "metadata": {},
   "outputs": [
    {
     "name": "stderr",
     "output_type": "stream",
     "text": [
      "/opt/conda/lib/python3.7/site-packages/deap/creator.py:141: RuntimeWarning: A class named 'FitnessMax' has already been created and it will be overwritten. Consider deleting previous creation of that class or rename it.\n",
      "  RuntimeWarning)\n",
      "/opt/conda/lib/python3.7/site-packages/deap/creator.py:141: RuntimeWarning: A class named 'Individual' has already been created and it will be overwritten. Consider deleting previous creation of that class or rename it.\n",
      "  RuntimeWarning)\n"
     ]
    }
   ],
   "source": [
    "creator.create(\"FitnessMax\", base.Fitness, weights=(1.0,))\n",
    "creator.create(\"Individual\", gp.PrimitiveTree, fitness=creator.FitnessMax)\n",
    "\n",
    "toolbox = base.Toolbox()\n",
    "\n",
    "# Attribute generator\n",
    "toolbox.register(\"expr_init\", gp.genFull, pset=pset, min_=1, max_=2)\n",
    "\n",
    "# Structure initializers\n",
    "toolbox.register(\"individual\", tools.initIterate, creator.Individual, toolbox.expr_init)\n",
    "toolbox.register(\"population\", tools.initRepeat, list, toolbox.individual)\n"
   ]
  },
  {
   "cell_type": "markdown",
   "metadata": {},
   "source": [
    "### `evaluate()` Function\n",
    "\n",
    "For each GP created controller function we run the `evaluate()` function. It patches the endpoint with the new controller function and runs the controller unittest. The UML diagram below illustrate the relations between the participating components.\n",
    "\n",
    "![GP evaluate](http://www.plantuml.com/plantuml/png/1S4x3i9030JGgy05rWLKr20Q2XJeqSOPaMW_HjunN9_tzblN6Wl2wsubF-CaulcNtXlNc6F0rJhHcTIQw08j1vVpT3jEbyTJMXw4IpTYDYj3hlSNlhb69bAq-WS0)"
   ]
  },
  {
   "cell_type": "code",
   "execution_count": 38,
   "metadata": {},
   "outputs": [],
   "source": [
    "def testcase_all_correct():\n",
    "    return Cart(position=1.1, velocity=2.2, direction='left')\n",
    "\n",
    "def evalRESTController(individual):\n",
    "    # Transform the tree expression to functionnal Python code\n",
    "    gp_controller = gp.compile(individual, pset)\n",
    "\n",
    "    # Run the generated routine\n",
    "    url_path = '/api/v1/cart'\n",
    "    gp_test = GP_TestDefaultController()\n",
    "    ret = gp_test.endpoint_config(url_path, 'get', testcase_all_correct)\n",
    "    score = 0\n",
    "    try:\n",
    "        gp_cart = gp_test.test_cart_get()\n",
    "        score = gp_cart\n",
    "    except AssertionError as error:\n",
    "        score = -100\n",
    "    \n",
    "    return score,"
   ]
  },
  {
   "cell_type": "code",
   "execution_count": 39,
   "metadata": {},
   "outputs": [],
   "source": [
    "toolbox.register(\"evaluate\", evalRESTController)\n",
    "toolbox.register(\"select\", tools.selTournament, tournsize=7)\n",
    "toolbox.register(\"mate\", gp.cxOnePoint)\n",
    "toolbox.register(\"expr_mut\", gp.genFull, min_=0, max_=2)\n",
    "toolbox.register(\"mutate\", gp.mutUniform, expr=toolbox.expr_mut, pset=pset)"
   ]
  },
  {
   "cell_type": "markdown",
   "metadata": {},
   "source": [
    "### Run the GP Algorithm"
   ]
  },
  {
   "cell_type": "code",
   "execution_count": 40,
   "metadata": {},
   "outputs": [
    {
     "ename": "TypeError",
     "evalue": "'NoneType' object is not callable",
     "output_type": "error",
     "traceback": [
      "\u001b[0;31m---------------------------------------------------------------------------\u001b[0m",
      "\u001b[0;31mTypeError\u001b[0m                                 Traceback (most recent call last)",
      "\u001b[0;32m<ipython-input-40-1b157a7eed55>\u001b[0m in \u001b[0;36m<module>\u001b[0;34m\u001b[0m\n\u001b[1;32m      9\u001b[0m \u001b[0mstats\u001b[0m\u001b[0;34m.\u001b[0m\u001b[0mregister\u001b[0m\u001b[0;34m(\u001b[0m\u001b[0;34m\"max\"\u001b[0m\u001b[0;34m,\u001b[0m \u001b[0mnumpy\u001b[0m\u001b[0;34m.\u001b[0m\u001b[0mmax\u001b[0m\u001b[0;34m)\u001b[0m\u001b[0;34m\u001b[0m\u001b[0;34m\u001b[0m\u001b[0m\n\u001b[1;32m     10\u001b[0m \u001b[0;34m\u001b[0m\u001b[0m\n\u001b[0;32m---> 11\u001b[0;31m \u001b[0malgorithms\u001b[0m\u001b[0;34m.\u001b[0m\u001b[0meaSimple\u001b[0m\u001b[0;34m(\u001b[0m\u001b[0mpop\u001b[0m\u001b[0;34m,\u001b[0m \u001b[0mtoolbox\u001b[0m\u001b[0;34m,\u001b[0m \u001b[0;36m0.5\u001b[0m\u001b[0;34m,\u001b[0m \u001b[0;36m0.2\u001b[0m\u001b[0;34m,\u001b[0m \u001b[0;36m40\u001b[0m\u001b[0;34m,\u001b[0m \u001b[0mstats\u001b[0m\u001b[0;34m,\u001b[0m \u001b[0mhalloffame\u001b[0m\u001b[0;34m=\u001b[0m\u001b[0mhof\u001b[0m\u001b[0;34m)\u001b[0m\u001b[0;34m\u001b[0m\u001b[0;34m\u001b[0m\u001b[0m\n\u001b[0m",
      "\u001b[0;32m/opt/conda/lib/python3.7/site-packages/deap/algorithms.py\u001b[0m in \u001b[0;36meaSimple\u001b[0;34m(population, toolbox, cxpb, mutpb, ngen, stats, halloffame, verbose)\u001b[0m\n\u001b[1;32m    149\u001b[0m     \u001b[0minvalid_ind\u001b[0m \u001b[0;34m=\u001b[0m \u001b[0;34m[\u001b[0m\u001b[0mind\u001b[0m \u001b[0;32mfor\u001b[0m \u001b[0mind\u001b[0m \u001b[0;32min\u001b[0m \u001b[0mpopulation\u001b[0m \u001b[0;32mif\u001b[0m \u001b[0;32mnot\u001b[0m \u001b[0mind\u001b[0m\u001b[0;34m.\u001b[0m\u001b[0mfitness\u001b[0m\u001b[0;34m.\u001b[0m\u001b[0mvalid\u001b[0m\u001b[0;34m]\u001b[0m\u001b[0;34m\u001b[0m\u001b[0;34m\u001b[0m\u001b[0m\n\u001b[1;32m    150\u001b[0m     \u001b[0mfitnesses\u001b[0m \u001b[0;34m=\u001b[0m \u001b[0mtoolbox\u001b[0m\u001b[0;34m.\u001b[0m\u001b[0mmap\u001b[0m\u001b[0;34m(\u001b[0m\u001b[0mtoolbox\u001b[0m\u001b[0;34m.\u001b[0m\u001b[0mevaluate\u001b[0m\u001b[0;34m,\u001b[0m \u001b[0minvalid_ind\u001b[0m\u001b[0;34m)\u001b[0m\u001b[0;34m\u001b[0m\u001b[0;34m\u001b[0m\u001b[0m\n\u001b[0;32m--> 151\u001b[0;31m     \u001b[0;32mfor\u001b[0m \u001b[0mind\u001b[0m\u001b[0;34m,\u001b[0m \u001b[0mfit\u001b[0m \u001b[0;32min\u001b[0m \u001b[0mzip\u001b[0m\u001b[0;34m(\u001b[0m\u001b[0minvalid_ind\u001b[0m\u001b[0;34m,\u001b[0m \u001b[0mfitnesses\u001b[0m\u001b[0;34m)\u001b[0m\u001b[0;34m:\u001b[0m\u001b[0;34m\u001b[0m\u001b[0;34m\u001b[0m\u001b[0m\n\u001b[0m\u001b[1;32m    152\u001b[0m         \u001b[0mind\u001b[0m\u001b[0;34m.\u001b[0m\u001b[0mfitness\u001b[0m\u001b[0;34m.\u001b[0m\u001b[0mvalues\u001b[0m \u001b[0;34m=\u001b[0m \u001b[0mfit\u001b[0m\u001b[0;34m\u001b[0m\u001b[0;34m\u001b[0m\u001b[0m\n\u001b[1;32m    153\u001b[0m \u001b[0;34m\u001b[0m\u001b[0m\n",
      "\u001b[0;32m<ipython-input-38-9c2bac975279>\u001b[0m in \u001b[0;36mevalRESTController\u001b[0;34m(individual)\u001b[0m\n\u001b[1;32m      4\u001b[0m \u001b[0;32mdef\u001b[0m \u001b[0mevalRESTController\u001b[0m\u001b[0;34m(\u001b[0m\u001b[0mindividual\u001b[0m\u001b[0;34m)\u001b[0m\u001b[0;34m:\u001b[0m\u001b[0;34m\u001b[0m\u001b[0;34m\u001b[0m\u001b[0m\n\u001b[1;32m      5\u001b[0m     \u001b[0;31m# Transform the tree expression to functionnal Python code\u001b[0m\u001b[0;34m\u001b[0m\u001b[0;34m\u001b[0m\u001b[0;34m\u001b[0m\u001b[0m\n\u001b[0;32m----> 6\u001b[0;31m     \u001b[0mgp_controller\u001b[0m \u001b[0;34m=\u001b[0m \u001b[0mgp\u001b[0m\u001b[0;34m.\u001b[0m\u001b[0mcompile\u001b[0m\u001b[0;34m(\u001b[0m\u001b[0mindividual\u001b[0m\u001b[0;34m,\u001b[0m \u001b[0mpset\u001b[0m\u001b[0;34m)\u001b[0m\u001b[0;34m\u001b[0m\u001b[0;34m\u001b[0m\u001b[0m\n\u001b[0m\u001b[1;32m      7\u001b[0m \u001b[0;34m\u001b[0m\u001b[0m\n\u001b[1;32m      8\u001b[0m     \u001b[0;31m# Run the generated routine\u001b[0m\u001b[0;34m\u001b[0m\u001b[0;34m\u001b[0m\u001b[0;34m\u001b[0m\u001b[0m\n",
      "\u001b[0;32m/opt/conda/lib/python3.7/site-packages/deap/gp.py\u001b[0m in \u001b[0;36mcompile\u001b[0;34m(expr, pset)\u001b[0m\n\u001b[1;32m    476\u001b[0m         \u001b[0mcode\u001b[0m \u001b[0;34m=\u001b[0m \u001b[0;34m\"lambda {args}: {code}\"\u001b[0m\u001b[0;34m.\u001b[0m\u001b[0mformat\u001b[0m\u001b[0;34m(\u001b[0m\u001b[0margs\u001b[0m\u001b[0;34m=\u001b[0m\u001b[0margs\u001b[0m\u001b[0;34m,\u001b[0m \u001b[0mcode\u001b[0m\u001b[0;34m=\u001b[0m\u001b[0mcode\u001b[0m\u001b[0;34m)\u001b[0m\u001b[0;34m\u001b[0m\u001b[0;34m\u001b[0m\u001b[0m\n\u001b[1;32m    477\u001b[0m     \u001b[0;32mtry\u001b[0m\u001b[0;34m:\u001b[0m\u001b[0;34m\u001b[0m\u001b[0;34m\u001b[0m\u001b[0m\n\u001b[0;32m--> 478\u001b[0;31m         \u001b[0;32mreturn\u001b[0m \u001b[0meval\u001b[0m\u001b[0;34m(\u001b[0m\u001b[0mcode\u001b[0m\u001b[0;34m,\u001b[0m \u001b[0mpset\u001b[0m\u001b[0;34m.\u001b[0m\u001b[0mcontext\u001b[0m\u001b[0;34m,\u001b[0m \u001b[0;34m{\u001b[0m\u001b[0;34m}\u001b[0m\u001b[0;34m)\u001b[0m\u001b[0;34m\u001b[0m\u001b[0;34m\u001b[0m\u001b[0m\n\u001b[0m\u001b[1;32m    479\u001b[0m     \u001b[0;32mexcept\u001b[0m \u001b[0mMemoryError\u001b[0m\u001b[0;34m:\u001b[0m\u001b[0;34m\u001b[0m\u001b[0;34m\u001b[0m\u001b[0m\n\u001b[1;32m    480\u001b[0m         \u001b[0m_\u001b[0m\u001b[0;34m,\u001b[0m \u001b[0m_\u001b[0m\u001b[0;34m,\u001b[0m \u001b[0mtraceback\u001b[0m \u001b[0;34m=\u001b[0m \u001b[0msys\u001b[0m\u001b[0;34m.\u001b[0m\u001b[0mexc_info\u001b[0m\u001b[0;34m(\u001b[0m\u001b[0;34m)\u001b[0m\u001b[0;34m\u001b[0m\u001b[0;34m\u001b[0m\u001b[0m\n",
      "\u001b[0;32m<string>\u001b[0m in \u001b[0;36m<module>\u001b[0;34m\u001b[0m\n",
      "\u001b[0;32m<ipython-input-29-90a3d49b17c9>\u001b[0m in \u001b[0;36mif_then\u001b[0;34m(condition, out1)\u001b[0m\n\u001b[1;32m     13\u001b[0m \u001b[0;34m\u001b[0m\u001b[0m\n\u001b[1;32m     14\u001b[0m \u001b[0;32mdef\u001b[0m \u001b[0mif_then\u001b[0m\u001b[0;34m(\u001b[0m\u001b[0mcondition\u001b[0m\u001b[0;34m,\u001b[0m \u001b[0mout1\u001b[0m\u001b[0;34m)\u001b[0m\u001b[0;34m:\u001b[0m\u001b[0;34m\u001b[0m\u001b[0;34m\u001b[0m\u001b[0m\n\u001b[0;32m---> 15\u001b[0;31m     \u001b[0;32mif\u001b[0m \u001b[0mcondition\u001b[0m\u001b[0;34m(\u001b[0m\u001b[0;34m)\u001b[0m\u001b[0;34m:\u001b[0m \u001b[0mout1\u001b[0m\u001b[0;34m(\u001b[0m\u001b[0;34m)\u001b[0m\u001b[0;34m\u001b[0m\u001b[0;34m\u001b[0m\u001b[0m\n\u001b[0m",
      "\u001b[0;31mTypeError\u001b[0m: 'NoneType' object is not callable"
     ]
    }
   ],
   "source": [
    "random.seed(69)\n",
    "\n",
    "pop = toolbox.population(n=300)\n",
    "hof = tools.HallOfFame(1)\n",
    "stats = tools.Statistics(lambda ind: ind.fitness.values)\n",
    "stats.register(\"avg\", numpy.mean)\n",
    "stats.register(\"std\", numpy.std)\n",
    "stats.register(\"min\", numpy.min)\n",
    "stats.register(\"max\", numpy.max)\n",
    "\n",
    "algorithms.eaSimple(pop, toolbox, 0.5, 0.2, 40, stats, halloffame=hof)"
   ]
  },
  {
   "cell_type": "code",
   "execution_count": null,
   "metadata": {},
   "outputs": [],
   "source": []
  },
  {
   "cell_type": "code",
   "execution_count": null,
   "metadata": {},
   "outputs": [],
   "source": []
  },
  {
   "cell_type": "code",
   "execution_count": null,
   "metadata": {},
   "outputs": [],
   "source": []
  },
  {
   "cell_type": "markdown",
   "metadata": {},
   "source": [
    "## Unit Testing the CartpoleServer\n",
    "\n",
    "This unittest implements test methods for the CartpoleServer's CRUD functions."
   ]
  },
  {
   "cell_type": "code",
   "execution_count": 9,
   "metadata": {},
   "outputs": [],
   "source": [
    "import unittest\n",
    "class Test_CartpoleServer(unittest.TestCase):\n",
    "    # small test routine for the CartpoleServer\n",
    "      \n",
    "    def setUp(self):\n",
    "        self.s=CartpoleServer\n",
    "        \n",
    "    def test_CartpoleServer(self):\n",
    "        self.s.reset()\n",
    "\n",
    "        c = self.s.read_cart()\n",
    "        self.assertEqual(type(c), type(None))\n",
    "\n",
    "        self.s.create_cart()\n",
    "        c = self.s.read_cart()\n",
    "        self.assertTrue( isinstance(type(c), type(Cart)) )\n",
    "\n",
    "        c2 = self.s.read_cart()\n",
    "        assert c == c2\n",
    "        self.assertEqual(c.to_dict(), c2.to_dict())\n",
    "\n",
    "        self.s.delete_cart()\n",
    "        c = self.s.read_cart()\n",
    "        self.assertEqual(type(c), type(None))\n",
    "\n",
    "        self.s.create_cart()\n",
    "        c = self.s.read_cart()\n",
    "        self.assertTrue( isinstance(type(c), type(Cart)) )\n",
    "        c2 = self.s.read_cart()\n",
    "        self.assertEqual(c, c2)\n",
    "        self.assertEqual(c.to_dict(), c2.to_dict())\n",
    "\n",
    "        self.s.reset()\n",
    "        c = self.s.read_cart()\n",
    "        self.assertEqual(type(c), type(None))"
   ]
  },
  {
   "cell_type": "code",
   "execution_count": 10,
   "metadata": {},
   "outputs": [
    {
     "name": "stderr",
     "output_type": "stream",
     "text": [
      ".\n",
      "----------------------------------------------------------------------\n",
      "Ran 1 test in 0.006s\n",
      "\n",
      "OK\n"
     ]
    },
    {
     "data": {
      "text/plain": [
       "<unittest.runner.TextTestResult run=1 errors=0 failures=0>"
      ]
     },
     "execution_count": 10,
     "metadata": {},
     "output_type": "execute_result"
    }
   ],
   "source": [
    "suite = unittest.defaultTestLoader.loadTestsFromTestCase(Test_CartpoleServer)\n",
    "unittest.TextTestRunner().run(suite)"
   ]
  },
  {
   "cell_type": "markdown",
   "metadata": {},
   "source": [
    "## Unit Testing the GP Controller Default Behavior\n",
    "\n",
    "We devise a default test for the `GP_TestDefaultController`. The default behavior comprises calling the OpenAPI generated test methods from the super class `TestDefaultController`.   "
   ]
  },
  {
   "cell_type": "code",
   "execution_count": 11,
   "metadata": {},
   "outputs": [],
   "source": [
    "import unittest\n",
    "class Test_GP_TestDefaultController(unittest.TestCase):\n",
    "\n",
    "    @classmethod\n",
    "    def setUpClass(cls):\n",
    "        super().setUpClass()\n",
    "        cls.gp_test=GP_TestDefaultController()\n",
    "        \n",
    "    def setUp(self):\n",
    "        self.gp_test=Test_GP_TestDefaultController.gp_test\n",
    "\n",
    "    def test_default(self):\n",
    "        gp_cart = self.gp_test.test_cart_get()"
   ]
  },
  {
   "cell_type": "code",
   "execution_count": 12,
   "metadata": {},
   "outputs": [
    {
     "name": "stderr",
     "output_type": "stream",
     "text": [
      "."
     ]
    },
    {
     "name": "stdout",
     "output_type": "stream",
     "text": [
      "Content-Type: application/vnd.cartpole.cart+json\n",
      "Content-Length: 64\n",
      "\n",
      "\n",
      "{'direction': 'left', 'position': 1.1, 'velocity': 1.1}\n"
     ]
    },
    {
     "name": "stderr",
     "output_type": "stream",
     "text": [
      "\n",
      "----------------------------------------------------------------------\n",
      "Ran 1 test in 0.142s\n",
      "\n",
      "OK\n"
     ]
    },
    {
     "data": {
      "text/plain": [
       "<unittest.runner.TextTestResult run=1 errors=0 failures=0>"
      ]
     },
     "execution_count": 12,
     "metadata": {},
     "output_type": "execute_result"
    }
   ],
   "source": [
    "suite = unittest.defaultTestLoader.loadTestsFromTestCase(Test_GP_TestDefaultController)\n",
    "unittest.TextTestRunner().run(suite)"
   ]
  },
  {
   "cell_type": "markdown",
   "metadata": {},
   "source": [
    "## Unit Testing Monkey Patching\n",
    "\n",
    "This section designs a few testcases for the `endpoint_config()` method in the `GP_TestDefaultController` class."
   ]
  },
  {
   "cell_type": "code",
   "execution_count": 13,
   "metadata": {},
   "outputs": [],
   "source": [
    "# functions replacing the default controller by Monkey Patching\n",
    "\n",
    "from openapi_server.models import Cart\n",
    "\n",
    "def testcase_all_correct():\n",
    "    return Cart(position=1.1, velocity=2.2, direction='left')\n",
    "\n",
    "def testcase_empty_return_object():\n",
    "    return Cart()\n",
    "\n",
    "def testcase_return_none():\n",
    "    return None\n",
    "\n",
    "def testcase_program_with_exception():\n",
    "    raise Exception('Program raises an exception')\n",
    "\n",
    "def testcase_return_string_type():\n",
    "    return 'some string'\n",
    "\n",
    "def testcase_return_obj_type():\n",
    "    return type('obj', (object,), {'attribute' : 'attribute value'})"
   ]
  },
  {
   "cell_type": "code",
   "execution_count": 14,
   "metadata": {},
   "outputs": [],
   "source": [
    "# the testcase with test methods\n",
    "\n",
    "import unittest\n",
    "\n",
    "class TestMonkeyPatching(unittest.TestCase):\n",
    "\n",
    "    @classmethod\n",
    "    def setUpClass(cls):\n",
    "        super().setUpClass()\n",
    "        cls.gp_test=GP_TestDefaultController()\n",
    "\n",
    "    def setUp(self):\n",
    "        self.url_path = '/api/v1/cart'\n",
    "        self.gp_test=TestMonkeyPatching.gp_test\n",
    "        \n",
    "    def test_all_correct(self):\n",
    "        ret = self.gp_test.endpoint_config(self.url_path, 'get', testcase_all_correct)\n",
    "        self.assertTrue(ret)\n",
    "        gp_cart = self.gp_test.test_cart_get()\n",
    "    \n",
    "    def test_empty_return_object(self):\n",
    "        ret = self.gp_test.endpoint_config(self.url_path, 'get', testcase_empty_return_object)\n",
    "        self.assertTrue(ret)\n",
    "        gp_cart = self.gp_test.test_cart_get()\n",
    "    \n",
    "    @unittest.expectedFailure\n",
    "    def test_return_none(self):\n",
    "        ret = self.gp_test.endpoint_config(self.url_path, 'get', testcase_return_none)\n",
    "        self.assertTrue(ret)\n",
    "        gp_cart = self.gp_test.test_cart_get()\n",
    "\n",
    "    @unittest.expectedFailure\n",
    "    def test_program_with_exception(self):\n",
    "        ret = self.gp_test.endpoint_config(self.url_path, 'get', testcase_program_with_exception)\n",
    "        self.assertTrue(ret)\n",
    "        gp_cart = self.gp_test.test_cart_get()\n",
    "        \n",
    "    @unittest.expectedFailure\n",
    "    def test_return_string_type(self):\n",
    "        ret = self.gp_test.endpoint_config(self.url_path, 'get', testcase_return_string_type)\n",
    "        self.assertTrue(ret)\n",
    "        gp_cart = self.gp_test.test_cart_get()\n",
    "\n",
    "    @unittest.expectedFailure\n",
    "    def test_return_obj_type(self):\n",
    "        ret = self.gp_test.endpoint_config(self.url_path, 'get', testcase_return_obj_type)\n",
    "        self.assertTrue(ret)\n",
    "        gp_cart = self.gp_test.test_cart_get()\n"
   ]
  },
  {
   "cell_type": "code",
   "execution_count": 15,
   "metadata": {},
   "outputs": [
    {
     "name": "stderr",
     "output_type": "stream",
     "text": [
      "..xxxhttp://localhost/api/v1/cart validation error: 'some string' is not of type 'object'\n",
      "\n",
      "Failed validating 'type' in schema:\n",
      "    {'components': {'schemas': {'Cart': {'properties': {'direction': {'enum': ['left',\n",
      "                                                                               'right'],\n",
      "                                                                      'type': 'string'},\n",
      "                                                        'position': {'format': 'double',\n",
      "                                                                     'type': 'number'},\n",
      "                                                        'velocity': {'format': 'double',\n",
      "                                                                     'type': 'number'}},\n",
      "                                         'type': 'object'},\n",
      "                                'Direction': {'properties': {'direction': {'enum': ['left',\n",
      "                                                                                    'right'],\n",
      "                                                                           'type': 'string'}},\n",
      "                                              'type': 'object'},\n",
      "                                'Pole': {'properties': {'angle': {'format': 'double',\n",
      "                                                                  'type': 'number'},\n",
      "                                                        'velocity': {'format': 'double',\n",
      "                                                                     'type': 'number'}},\n",
      "                                         'type': 'object'}}},\n",
      "     'properties': {'direction': {'enum': ['left', 'right'],\n",
      "                                  'type': 'string'},\n",
      "                    'position': {'format': 'double', 'type': 'number'},\n",
      "                    'velocity': {'format': 'double', 'type': 'number'}},\n",
      "     'type': 'object',\n",
      "     'x-scope': ['']}\n",
      "\n",
      "On instance:\n",
      "    'some string'\n",
      "x"
     ]
    },
    {
     "name": "stdout",
     "output_type": "stream",
     "text": [
      "Content-Type: application/vnd.cartpole.cart+json\n",
      "Content-Length: 64\n",
      "\n",
      "\n",
      "{'direction': 'left', 'position': 1.1, 'velocity': 2.2}\n",
      "Content-Type: application/vnd.cartpole.cart+json\n",
      "Content-Length: 3\n",
      "\n",
      "\n",
      "{}\n"
     ]
    },
    {
     "name": "stderr",
     "output_type": "stream",
     "text": [
      "\n",
      "----------------------------------------------------------------------\n",
      "Ran 6 tests in 0.200s\n",
      "\n",
      "OK (expected failures=4)\n"
     ]
    },
    {
     "data": {
      "text/plain": [
       "<unittest.runner.TextTestResult run=6 errors=0 failures=0>"
      ]
     },
     "execution_count": 15,
     "metadata": {},
     "output_type": "execute_result"
    }
   ],
   "source": [
    "suite = unittest.defaultTestLoader.loadTestsFromTestCase(TestMonkeyPatching)\n",
    "unittest.TextTestRunner().run(suite)"
   ]
  },
  {
   "cell_type": "code",
   "execution_count": null,
   "metadata": {},
   "outputs": [],
   "source": []
  }
 ],
 "metadata": {
  "kernelspec": {
   "display_name": "Python 3",
   "language": "python",
   "name": "python3"
  },
  "language_info": {
   "codemirror_mode": {
    "name": "ipython",
    "version": 3
   },
   "file_extension": ".py",
   "mimetype": "text/x-python",
   "name": "python",
   "nbconvert_exporter": "python",
   "pygments_lexer": "ipython3",
   "version": "3.7.6"
  }
 },
 "nbformat": 4,
 "nbformat_minor": 4
}
