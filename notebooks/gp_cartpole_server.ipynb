{
 "cells": [
  {
   "cell_type": "markdown",
   "metadata": {},
   "source": [
    "# GP Cartpole Server\n",
    "\n",
    "This notebook introduces the genetic programming (GP) approach for the cartpole REST interface. GP creates a program for the interface's controller to reply to a client's requests on the cartpole REST interface.\n",
    "\n",
    "The figure illustrates the position of the GP software within the REST interface implementation.  \n",
    "\n",
    "![REST gp design](http://www.plantuml.com/plantuml/png/5SWx3i8m303Ggy05uW4cPjYO2dlLEbOQ9R4ZVyJrKT_uhfMnHwRGVZdSfpq0TFkbKls8FOmKXPtO4ye0p8Jjfl1StlVbzVd2sCn9WSLf5sa6vwvbhfci5aun-Xy0)\n",
    "\n",
    "The [OpenAPI generator](https://github.com/OpenAPITools/openapi-generator) created the REST interface and the REST controller prototype from the [cartpole API spec](https://raw.githubusercontent.com/cdeck3r/DRL4REST/master/src/cartpole/spec/OpenAPIv1.json). In this approach we replace the controller's empty function body with an implementation found through genetic programming. Additionally, we introduce a ServerModel, which keeps a state if required. One may access the state using CRUD operations. "
   ]
  },
  {
   "cell_type": "markdown",
   "metadata": {},
   "source": [
    "## Example: `cart_get()` Controller Function\n",
    "\n",
    "As a example, look at the `cart_get()` controller prototype the OpenAPI generator created for the cartpole REST interface.  \n",
    "\n",
    "```python\n",
    "def cart_get():  # noqa: E501\n",
    "    \"\"\"cart_get\n",
    "\n",
    "     # noqa: E501\n",
    "\n",
    "\n",
    "    :rtype: Cart\n",
    "    \"\"\"\n",
    "    return 'do some magic!'\n",
    "```\n",
    "\n",
    "A concrete example implementation would look like the following:\n",
    "\n",
    "```python\n",
    "def cart_get():  # noqa: E501\n",
    "    # just return a Cart object with random values\n",
    "\n",
    "    position = random()\n",
    "    velocity = random()\n",
    "    direction = choice([\"left\", \"right\"]) \n",
    "\n",
    "    return Cart(position=position, velocity=velocity, direction=direction)\n",
    "```\n",
    "\n",
    "The `Cart` class is one the generated models. The contructor defines the params as follows:\n",
    "```python\n",
    "def __init__(self, position=None, velocity=None, direction=None):  # noqa: E501\n",
    "    \"\"\"Cart - a model defined in OpenAPI\n",
    "\n",
    "    :param position: The position of this Cart.  # noqa: E501\n",
    "    :type position: float\n",
    "    :param velocity: The velocity of this Cart.  # noqa: E501\n",
    "    :type velocity: float\n",
    "    :param direction: The direction of this Cart.  # noqa: E501\n",
    "    :type direction: str\n",
    "    \"\"\"\n",
    "    ...\n",
    "```"
   ]
  },
  {
   "cell_type": "markdown",
   "metadata": {},
   "source": [
    "## Genetic Program Design\n",
    "\n",
    "For the `get_cart()` example from above, the implementation idea is, if there already is a cart object, then it will return this. Otherwise, it creates a new one and returns it. Here's the pseudo code:\n",
    "\n",
    "```python\n",
    "if cart exists \n",
    "    return cart\n",
    "else\n",
    "    # params\n",
    "    pos = get_init_cart_position\n",
    "    vel = get_init_cart_velocity\n",
    "    dir = get_init_cart_direction\n",
    "    # return the newly created cart \n",
    "    return new Cart with params above\n",
    "```\n",
    "\n",
    "We test run the code within the `evaluate()` function of the GP algorithm. It needs \n",
    "\n",
    "1. to run without any exception and \n",
    "1. repeated `get_cart()` requests shall result in the same response."
   ]
  },
  {
   "cell_type": "markdown",
   "metadata": {},
   "source": [
    "## Genetic Program Implementation\n",
    "\n",
    "The GP bases on the Artificial Ant Problem from the [DEAP example site](https://deap.readthedocs.io/en/master/examples/gp_ant.html)."
   ]
  },
  {
   "cell_type": "code",
   "execution_count": null,
   "metadata": {},
   "outputs": [],
   "source": []
  },
  {
   "cell_type": "markdown",
   "metadata": {},
   "source": [
    "### Import libs\n",
    "\n",
    "DEAP was previously installed in this image. If not, run `pip install deap`."
   ]
  },
  {
   "cell_type": "code",
   "execution_count": 1,
   "metadata": {},
   "outputs": [],
   "source": [
    "import random\n",
    "\n",
    "import numpy\n",
    "\n",
    "from functools import partial\n",
    "\n",
    "from deap import algorithms\n",
    "from deap import base\n",
    "from deap import creator\n",
    "from deap import tools\n",
    "from deap import gp"
   ]
  },
  {
   "cell_type": "markdown",
   "metadata": {},
   "source": [
    "The OpenAPI generated interface code is based on python-flask. If necessary, activate the following cell `ESC + y` and install the requirements."
   ]
  },
  {
   "cell_type": "raw",
   "metadata": {},
   "source": [
    "%%bash\n",
    "# define project environment\n",
    "PROJECT_DIR=\"/DRL4REST\"\n",
    "OPENAPI_SERVER_DIR=\"$PROJECT_DIR/openapi/cartpole/python-flask\"\n",
    "\n",
    "# install requirements\n",
    "cd \"$OPENAPI_SERVER_DIR\" || exit\n",
    "pip install -r requirements.txt || exit\n",
    "pip install -r test-requirements.txt || exit"
   ]
  },
  {
   "cell_type": "code",
   "execution_count": 2,
   "metadata": {},
   "outputs": [],
   "source": [
    "# import the models generated by OpenAPI\n",
    "import sys\n",
    "sys.path.append(\"/DRL4REST/openapi/cartpole/python-flask\")\n",
    "\n",
    "from openapi_server.models import Cart"
   ]
  },
  {
   "cell_type": "code",
   "execution_count": 3,
   "metadata": {},
   "outputs": [
    {
     "data": {
      "text/plain": [
       "{'position': 10, 'velocity': None, 'direction': None}"
      ]
     },
     "execution_count": 3,
     "metadata": {},
     "output_type": "execute_result"
    }
   ],
   "source": [
    "c=Cart()\n",
    "type(c)\n",
    "c.position=10\n",
    "c.position\n",
    "c.to_dict()"
   ]
  },
  {
   "cell_type": "markdown",
   "metadata": {},
   "source": [
    "### Functions\n",
    "\n",
    "These are generic functions, e.g. for control flow and concatenating functions with each other, and the specific function for the server code. "
   ]
  },
  {
   "cell_type": "markdown",
   "metadata": {},
   "source": [
    "#### Generic Functions"
   ]
  },
  {
   "cell_type": "code",
   "execution_count": 4,
   "metadata": {},
   "outputs": [],
   "source": [
    "def progn(*args):\n",
    "    for arg in args:\n",
    "        arg()\n",
    "\n",
    "def prog2(out1, out2): \n",
    "    return partial(progn,out1,out2)\n",
    "\n",
    "def prog3(out1, out2, out3):     \n",
    "    return partial(progn,out1,out2,out3)\n",
    "\n",
    "def if_then_else(condition, out1, out2):\n",
    "    out1() if condition() else out2()"
   ]
  },
  {
   "cell_type": "markdown",
   "metadata": {},
   "source": [
    "### Controller Functions\n",
    "\n",
    "These are the functions the GP algorithm strings together utilizing the generic functions from above. The created program forms an individual and is tested by the `evaluate()` function.   "
   ]
  },
  {
   "cell_type": "code",
   "execution_count": 5,
   "metadata": {},
   "outputs": [],
   "source": [
    "# ..."
   ]
  },
  {
   "cell_type": "markdown",
   "metadata": {},
   "source": [
    "#### ServerModel CRUD Functions\n",
    "\n",
    "`CartpoleServer` is the implementation of the ServerModel. The ServerModel is a static class. Controller utilize the model to store state between successive calls. State access and manipulation via CRUD."
   ]
  },
  {
   "cell_type": "code",
   "execution_count": 6,
   "metadata": {},
   "outputs": [],
   "source": [
    "from openapi_server.models import Cart\n",
    "\n",
    "class CartpoleServer(object):\n",
    "\n",
    "    # state as class variable\n",
    "    _cart = None\n",
    "\n",
    "    # set the class in a defined (initial) state\n",
    "    @classmethod\n",
    "    def reset(cls):\n",
    "        cls._cart = None\n",
    "    \n",
    "    @classmethod\n",
    "    def create_cart(cls):\n",
    "        if isinstance(cls._cart, type(None)):\n",
    "            position = random.random()\n",
    "            velocity = random.random()\n",
    "            # we know the values from the models, e.g.\n",
    "            #   models/cart.py or models/direction.py\n",
    "            direction = random.choice([\"left\", \"right\"])\n",
    "            cls._cart = Cart(position=position, velocity=velocity, direction=direction)\n",
    "        \n",
    "        return cls._cart\n",
    "\n",
    "    @classmethod\n",
    "    def read_cart(cls):\n",
    "        return cls._cart\n",
    "    \n",
    "    @classmethod\n",
    "    def update_cart(cls):\n",
    "        pass\n",
    "\n",
    "    @classmethod\n",
    "    def delete_cart(cls):\n",
    "        cls._cart = None"
   ]
  },
  {
   "cell_type": "code",
   "execution_count": 7,
   "metadata": {},
   "outputs": [],
   "source": [
    "# small test routine for the CartpoleServer\n",
    "\n",
    "def test_CartpoleServer():\n",
    "    s=CartpoleServer\n",
    "    s.reset()\n",
    "\n",
    "    c=s.read_cart()\n",
    "    assert type(c) == type(None)\n",
    "    \n",
    "    s.create_cart()\n",
    "    c=s.read_cart()\n",
    "    assert isinstance(type(c), type(Cart))\n",
    "    \n",
    "    c2=s.read_cart()\n",
    "    assert c == c2\n",
    "    assert c.to_dict() == c2.to_dict()\n",
    "\n",
    "    s.delete_cart()\n",
    "    c=s.read_cart()\n",
    "    assert type(c) == type(None)\n",
    "    \n",
    "    s.create_cart()\n",
    "    c=s.read_cart()\n",
    "    assert isinstance(type(c), type(Cart))\n",
    "    c2=s.read_cart()\n",
    "    assert c == c2\n",
    "    assert c.to_dict() == c2.to_dict()\n",
    "\n",
    "    s.reset()\n",
    "    c=s.read_cart()\n",
    "    assert type(c) == type(None)"
   ]
  },
  {
   "cell_type": "code",
   "execution_count": 8,
   "metadata": {},
   "outputs": [],
   "source": [
    "test_CartpoleServer()"
   ]
  },
  {
   "cell_type": "markdown",
   "metadata": {},
   "source": [
    "#### Setup GP"
   ]
  },
  {
   "cell_type": "code",
   "execution_count": null,
   "metadata": {},
   "outputs": [],
   "source": [
    "pset = gp.PrimitiveSet(\"MAIN\", 0)\n",
    "pset.addPrimitive(ant.if_food_ahead, 2)\n",
    "\n",
    "pset.addPrimitive(prog2, 2)\n",
    "pset.addPrimitive(prog3, 3)\n",
    "\n",
    "pset.addTerminal(get_init_cart_position, 0)\n",
    "pset.addTerminal(get_init_cart_velocity, 0)\n",
    "pset.addTerminal(get_init_cart_direction, 0)\n",
    "\n",
    "pset.addTerminal(ant.turn_left)\n",
    "pset.addTerminal(ant.turn_right)"
   ]
  },
  {
   "cell_type": "code",
   "execution_count": null,
   "metadata": {},
   "outputs": [],
   "source": []
  }
 ],
 "metadata": {
  "kernelspec": {
   "display_name": "Python 3",
   "language": "python",
   "name": "python3"
  },
  "language_info": {
   "codemirror_mode": {
    "name": "ipython",
    "version": 3
   },
   "file_extension": ".py",
   "mimetype": "text/x-python",
   "name": "python",
   "nbconvert_exporter": "python",
   "pygments_lexer": "ipython3",
   "version": "3.7.6"
  }
 },
 "nbformat": 4,
 "nbformat_minor": 4
}
