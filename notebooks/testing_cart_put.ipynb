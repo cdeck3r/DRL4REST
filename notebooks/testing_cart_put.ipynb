{
 "cells": [
  {
   "cell_type": "markdown",
   "metadata": {},
   "source": [
    "# Testing the default `cart_put()` behavior\n",
    "\n",
    "We test the default `cart_put()` controller."
   ]
  },
  {
   "cell_type": "code",
   "execution_count": 1,
   "metadata": {},
   "outputs": [
    {
     "name": "stdout",
     "output_type": "stream",
     "text": [
      "Ignoring connexion: markers 'python_version == \"3.5\"' don't match your environment\n",
      "Ignoring connexion: markers 'python_version == \"3.4\"' don't match your environment\n",
      "Ignoring connexion: markers 'python_version <= \"2.7\"' don't match your environment\n",
      "Requirement already satisfied: connexion>=2.5.0 in /opt/conda/lib/python3.7/site-packages (from -r requirements.txt (line 1)) (2.7.0)\n",
      "Requirement already satisfied: swagger-ui-bundle>=0.0.2 in /opt/conda/lib/python3.7/site-packages (from -r requirements.txt (line 5)) (0.0.6)\n",
      "Requirement already satisfied: python_dateutil>=2.6.0 in /opt/conda/lib/python3.7/site-packages (from -r requirements.txt (line 6)) (2.8.1)\n",
      "Requirement already satisfied: setuptools>=21.0.0 in /opt/conda/lib/python3.7/site-packages (from -r requirements.txt (line 7)) (46.1.3.post20200325)\n",
      "Requirement already satisfied: flask>=1.0.4 in /opt/conda/lib/python3.7/site-packages (from connexion>=2.5.0->-r requirements.txt (line 1)) (1.1.2)\n",
      "Requirement already satisfied: requests>=2.9.1 in /opt/conda/lib/python3.7/site-packages (from connexion>=2.5.0->-r requirements.txt (line 1)) (2.23.0)\n",
      "Requirement already satisfied: openapi-spec-validator>=0.2.4 in /opt/conda/lib/python3.7/site-packages (from connexion>=2.5.0->-r requirements.txt (line 1)) (0.2.8)\n",
      "Requirement already satisfied: PyYAML>=5.1 in /opt/conda/lib/python3.7/site-packages (from connexion>=2.5.0->-r requirements.txt (line 1)) (5.3.1)\n",
      "Requirement already satisfied: inflection>=0.3.1 in /opt/conda/lib/python3.7/site-packages (from connexion>=2.5.0->-r requirements.txt (line 1)) (0.5.0)\n",
      "Requirement already satisfied: jsonschema>=2.5.1 in /opt/conda/lib/python3.7/site-packages (from connexion>=2.5.0->-r requirements.txt (line 1)) (3.2.0)\n",
      "Requirement already satisfied: clickclick>=1.2 in /opt/conda/lib/python3.7/site-packages (from connexion>=2.5.0->-r requirements.txt (line 1)) (1.2.2)\n",
      "Requirement already satisfied: Jinja2>=2.0 in /opt/conda/lib/python3.7/site-packages (from swagger-ui-bundle>=0.0.2->-r requirements.txt (line 5)) (2.11.2)\n",
      "Requirement already satisfied: six>=1.5 in /opt/conda/lib/python3.7/site-packages (from python_dateutil>=2.6.0->-r requirements.txt (line 6)) (1.14.0)\n",
      "Requirement already satisfied: Werkzeug>=0.15 in /opt/conda/lib/python3.7/site-packages (from flask>=1.0.4->connexion>=2.5.0->-r requirements.txt (line 1)) (0.16.1)\n",
      "Requirement already satisfied: itsdangerous>=0.24 in /opt/conda/lib/python3.7/site-packages (from flask>=1.0.4->connexion>=2.5.0->-r requirements.txt (line 1)) (1.1.0)\n",
      "Requirement already satisfied: click>=5.1 in /opt/conda/lib/python3.7/site-packages (from flask>=1.0.4->connexion>=2.5.0->-r requirements.txt (line 1)) (7.1.2)\n",
      "Requirement already satisfied: certifi>=2017.4.17 in /opt/conda/lib/python3.7/site-packages (from requests>=2.9.1->connexion>=2.5.0->-r requirements.txt (line 1)) (2020.4.5.1)\n",
      "Requirement already satisfied: urllib3!=1.25.0,!=1.25.1,<1.26,>=1.21.1 in /opt/conda/lib/python3.7/site-packages (from requests>=2.9.1->connexion>=2.5.0->-r requirements.txt (line 1)) (1.25.9)\n",
      "Requirement already satisfied: chardet<4,>=3.0.2 in /opt/conda/lib/python3.7/site-packages (from requests>=2.9.1->connexion>=2.5.0->-r requirements.txt (line 1)) (3.0.4)\n",
      "Requirement already satisfied: idna<3,>=2.5 in /opt/conda/lib/python3.7/site-packages (from requests>=2.9.1->connexion>=2.5.0->-r requirements.txt (line 1)) (2.9)\n",
      "Requirement already satisfied: pyrsistent>=0.14.0 in /opt/conda/lib/python3.7/site-packages (from jsonschema>=2.5.1->connexion>=2.5.0->-r requirements.txt (line 1)) (0.16.0)\n",
      "Requirement already satisfied: attrs>=17.4.0 in /opt/conda/lib/python3.7/site-packages (from jsonschema>=2.5.1->connexion>=2.5.0->-r requirements.txt (line 1)) (19.3.0)\n",
      "Requirement already satisfied: importlib-metadata; python_version < \"3.8\" in /opt/conda/lib/python3.7/site-packages (from jsonschema>=2.5.1->connexion>=2.5.0->-r requirements.txt (line 1)) (1.6.0)\n",
      "Requirement already satisfied: MarkupSafe>=0.23 in /opt/conda/lib/python3.7/site-packages (from Jinja2>=2.0->swagger-ui-bundle>=0.0.2->-r requirements.txt (line 5)) (1.1.1)\n",
      "Requirement already satisfied: zipp>=0.5 in /opt/conda/lib/python3.7/site-packages (from importlib-metadata; python_version < \"3.8\"->jsonschema>=2.5.1->connexion>=2.5.0->-r requirements.txt (line 1)) (3.1.0)\n",
      "Requirement already satisfied: pytest~=4.6.7 in /opt/conda/lib/python3.7/site-packages (from -r test-requirements.txt (line 1)) (4.6.11)\n",
      "Requirement already satisfied: pytest-cov>=2.8.1 in /opt/conda/lib/python3.7/site-packages (from -r test-requirements.txt (line 2)) (2.10.0)\n",
      "Requirement already satisfied: pytest-randomly==1.2.3 in /opt/conda/lib/python3.7/site-packages (from -r test-requirements.txt (line 3)) (1.2.3)\n",
      "Requirement already satisfied: flask_testing==0.6.1 in /opt/conda/lib/python3.7/site-packages (from -r test-requirements.txt (line 4)) (0.6.1)\n",
      "Requirement already satisfied: atomicwrites>=1.0 in /opt/conda/lib/python3.7/site-packages (from pytest~=4.6.7->-r test-requirements.txt (line 1)) (1.4.0)\n",
      "Requirement already satisfied: more-itertools>=4.0.0; python_version > \"2.7\" in /opt/conda/lib/python3.7/site-packages (from pytest~=4.6.7->-r test-requirements.txt (line 1)) (8.4.0)\n",
      "Requirement already satisfied: py>=1.5.0 in /opt/conda/lib/python3.7/site-packages (from pytest~=4.6.7->-r test-requirements.txt (line 1)) (1.8.2)\n",
      "Requirement already satisfied: packaging in /opt/conda/lib/python3.7/site-packages (from pytest~=4.6.7->-r test-requirements.txt (line 1)) (20.1)\n",
      "Requirement already satisfied: wcwidth in /opt/conda/lib/python3.7/site-packages (from pytest~=4.6.7->-r test-requirements.txt (line 1)) (0.1.9)\n",
      "Requirement already satisfied: attrs>=17.4.0 in /opt/conda/lib/python3.7/site-packages (from pytest~=4.6.7->-r test-requirements.txt (line 1)) (19.3.0)\n",
      "Requirement already satisfied: pluggy<1.0,>=0.12 in /opt/conda/lib/python3.7/site-packages (from pytest~=4.6.7->-r test-requirements.txt (line 1)) (0.13.1)\n",
      "Requirement already satisfied: importlib-metadata>=0.12; python_version < \"3.8\" in /opt/conda/lib/python3.7/site-packages (from pytest~=4.6.7->-r test-requirements.txt (line 1)) (1.6.0)\n",
      "Requirement already satisfied: six>=1.10.0 in /opt/conda/lib/python3.7/site-packages (from pytest~=4.6.7->-r test-requirements.txt (line 1)) (1.14.0)\n",
      "Requirement already satisfied: coverage>=4.4 in /opt/conda/lib/python3.7/site-packages (from pytest-cov>=2.8.1->-r test-requirements.txt (line 2)) (5.1)\n",
      "Requirement already satisfied: Flask in /opt/conda/lib/python3.7/site-packages (from flask_testing==0.6.1->-r test-requirements.txt (line 4)) (1.1.2)\n",
      "Requirement already satisfied: pyparsing>=2.0.2 in /opt/conda/lib/python3.7/site-packages (from packaging->pytest~=4.6.7->-r test-requirements.txt (line 1)) (2.4.7)\n",
      "Requirement already satisfied: zipp>=0.5 in /opt/conda/lib/python3.7/site-packages (from importlib-metadata>=0.12; python_version < \"3.8\"->pytest~=4.6.7->-r test-requirements.txt (line 1)) (3.1.0)\n",
      "Requirement already satisfied: Werkzeug>=0.15 in /opt/conda/lib/python3.7/site-packages (from Flask->flask_testing==0.6.1->-r test-requirements.txt (line 4)) (0.16.1)\n",
      "Requirement already satisfied: click>=5.1 in /opt/conda/lib/python3.7/site-packages (from Flask->flask_testing==0.6.1->-r test-requirements.txt (line 4)) (7.1.2)\n",
      "Requirement already satisfied: Jinja2>=2.10.1 in /opt/conda/lib/python3.7/site-packages (from Flask->flask_testing==0.6.1->-r test-requirements.txt (line 4)) (2.11.2)\n",
      "Requirement already satisfied: itsdangerous>=0.24 in /opt/conda/lib/python3.7/site-packages (from Flask->flask_testing==0.6.1->-r test-requirements.txt (line 4)) (1.1.0)\n",
      "Requirement already satisfied: MarkupSafe>=0.23 in /opt/conda/lib/python3.7/site-packages (from Jinja2>=2.10.1->Flask->flask_testing==0.6.1->-r test-requirements.txt (line 4)) (1.1.1)\n",
      "Requirement already satisfied: Werkzeug==0.16.1 in /opt/conda/lib/python3.7/site-packages (0.16.1)\n"
     ]
    }
   ],
   "source": [
    "%%bash\n",
    "# define project environment\n",
    "PROJECT_DIR=\"/DRL4REST\"\n",
    "OPENAPI_SERVER_DIR=\"$PROJECT_DIR/openapi/cartpole/python-flask\"\n",
    "\n",
    "# install requirements\n",
    "cd \"$OPENAPI_SERVER_DIR\" || exit\n",
    "pip install -r requirements.txt || exit\n",
    "pip install -r test-requirements.txt || exit\n",
    "\n",
    "# install other requirements\n",
    "pip install Werkzeug==0.16.1 || exit"
   ]
  },
  {
   "cell_type": "markdown",
   "metadata": {},
   "source": [
    "## Import"
   ]
  },
  {
   "cell_type": "code",
   "execution_count": 2,
   "metadata": {},
   "outputs": [],
   "source": [
    "# set path to import code generated by OpenAPI\n",
    "import sys\n",
    "sys.path.append(\"/DRL4REST/openapi/cartpole/python-flask\")\n",
    "sys.path.append(\"/DRL4REST/src\")"
   ]
  },
  {
   "cell_type": "code",
   "execution_count": 3,
   "metadata": {},
   "outputs": [],
   "source": [
    "from flask import json\n",
    "\n",
    "from openapi_server.models.cart import Cart  # noqa: E501\n",
    "from openapi_server.models.direction import Direction  # noqa: E501\n",
    "\n",
    "from cartpole.gprest.gp_test_default_controller import GP_TestDefaultController"
   ]
  },
  {
   "cell_type": "markdown",
   "metadata": {},
   "source": [
    "## PUT Request\n",
    "\n",
    "Create a direction object and perform the PUT request. Expect a `Cart` object with the direction set."
   ]
  },
  {
   "cell_type": "code",
   "execution_count": 4,
   "metadata": {},
   "outputs": [
    {
     "data": {
      "text/plain": [
       "{'direction': 'right', 'position': 0, 'velocity': 0}"
      ]
     },
     "execution_count": 4,
     "metadata": {},
     "output_type": "execute_result"
    }
   ],
   "source": [
    "direction = Direction('right')\n",
    "gp_test = GP_TestDefaultController()\n",
    "gp_test.reset_score()\n",
    "response = gp_test.test_cart_put(direction)\n",
    "\n",
    "response.json"
   ]
  },
  {
   "cell_type": "code",
   "execution_count": 5,
   "metadata": {},
   "outputs": [],
   "source": [
    "# assert the expected result\n",
    "assert response.json['direction'] == direction.direction"
   ]
  },
  {
   "cell_type": "markdown",
   "metadata": {},
   "source": [
    "Issue safe version of PUT request"
   ]
  },
  {
   "cell_type": "code",
   "execution_count": 6,
   "metadata": {},
   "outputs": [
    {
     "data": {
      "text/plain": [
       "199"
      ]
     },
     "execution_count": 6,
     "metadata": {},
     "output_type": "execute_result"
    }
   ],
   "source": [
    "direction = Direction('right')\n",
    "gp_test = GP_TestDefaultController()\n",
    "gp_test.reset_score()\n",
    "gp_test.safe_test_cart_put(direction) # no return value, scores the execution\n",
    "\n",
    "gp_test.score"
   ]
  },
  {
   "cell_type": "code",
   "execution_count": 7,
   "metadata": {},
   "outputs": [],
   "source": [
    "assert gp_test.score == 199"
   ]
  },
  {
   "cell_type": "code",
   "execution_count": null,
   "metadata": {},
   "outputs": [],
   "source": []
  }
 ],
 "metadata": {
  "kernelspec": {
   "display_name": "Python 3",
   "language": "python",
   "name": "python3"
  },
  "language_info": {
   "codemirror_mode": {
    "name": "ipython",
    "version": 3
   },
   "file_extension": ".py",
   "mimetype": "text/x-python",
   "name": "python",
   "nbconvert_exporter": "python",
   "pygments_lexer": "ipython3",
   "version": "3.7.6"
  }
 },
 "nbformat": 4,
 "nbformat_minor": 4
}
