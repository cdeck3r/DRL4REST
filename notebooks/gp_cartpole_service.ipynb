{
 "cells": [
  {
   "cell_type": "markdown",
   "metadata": {},
   "source": [
    "# GP Cartpole Service\n",
    "\n",
    "This notebook uses the functions from the `gprest` module to enable genetic programming for REST service behaviors. It interacts with REST server stubs created by the OpenAPI generator.\n",
    "\n",
    "The previous notebook [`gp_cartpole_server.ipynb`](https://github.com/cdeck3r/DRL4REST/notebooks/gp_cartpole_server.ipynb) shows the GP approach applied to the [cartpole](https://en.wikipedia.org/wiki/Inverted_pendulum) example for the `GET /api/v1/cart` request. The functions from this notebook are now a part of the `gprest` module.\n",
    "\n",
    "This notebook implements the following functionalities:\n",
    "\n",
    "1. It reproduces the results from `gp_cartpole_server.ipynb` using `gprest` module.\n",
    "1. It uses the `gprest` module for implementing the similar `GET /api/v1/pole` request.\n",
    "1. It introduces and tests the `PUT /api/v1/cart` request where a clients transmits a Direction object to the server to receive an updated the `Cart` object as response.\n",
    "\n",
    "As a result, this notebook completes the implementation of the cartpole OpenAPI interface.\n"
   ]
  },
  {
   "cell_type": "markdown",
   "metadata": {},
   "source": [
    "## Install required Modules"
   ]
  },
  {
   "cell_type": "code",
   "execution_count": 1,
   "metadata": {},
   "outputs": [
    {
     "name": "stdout",
     "output_type": "stream",
     "text": [
      "Ignoring connexion: markers 'python_version == \"3.5\"' don't match your environment\n",
      "Ignoring connexion: markers 'python_version == \"3.4\"' don't match your environment\n",
      "Ignoring connexion: markers 'python_version <= \"2.7\"' don't match your environment\n",
      "Requirement already satisfied: connexion>=2.5.0 in /opt/conda/lib/python3.7/site-packages (from -r requirements.txt (line 1)) (2.7.0)\n",
      "Requirement already satisfied: swagger-ui-bundle>=0.0.2 in /opt/conda/lib/python3.7/site-packages (from -r requirements.txt (line 5)) (0.0.6)\n",
      "Requirement already satisfied: python_dateutil>=2.6.0 in /opt/conda/lib/python3.7/site-packages (from -r requirements.txt (line 6)) (2.8.1)\n",
      "Requirement already satisfied: setuptools>=21.0.0 in /opt/conda/lib/python3.7/site-packages (from -r requirements.txt (line 7)) (46.1.3.post20200325)\n",
      "Requirement already satisfied: inflection>=0.3.1 in /opt/conda/lib/python3.7/site-packages (from connexion>=2.5.0->-r requirements.txt (line 1)) (0.5.0)\n",
      "Requirement already satisfied: clickclick>=1.2 in /opt/conda/lib/python3.7/site-packages (from connexion>=2.5.0->-r requirements.txt (line 1)) (1.2.2)\n",
      "Requirement already satisfied: PyYAML>=5.1 in /opt/conda/lib/python3.7/site-packages (from connexion>=2.5.0->-r requirements.txt (line 1)) (5.3.1)\n",
      "Requirement already satisfied: requests>=2.9.1 in /opt/conda/lib/python3.7/site-packages (from connexion>=2.5.0->-r requirements.txt (line 1)) (2.23.0)\n",
      "Requirement already satisfied: flask>=1.0.4 in /opt/conda/lib/python3.7/site-packages (from connexion>=2.5.0->-r requirements.txt (line 1)) (1.1.2)\n",
      "Requirement already satisfied: jsonschema>=2.5.1 in /opt/conda/lib/python3.7/site-packages (from connexion>=2.5.0->-r requirements.txt (line 1)) (3.2.0)\n",
      "Requirement already satisfied: openapi-spec-validator>=0.2.4 in /opt/conda/lib/python3.7/site-packages (from connexion>=2.5.0->-r requirements.txt (line 1)) (0.2.8)\n",
      "Requirement already satisfied: Jinja2>=2.0 in /opt/conda/lib/python3.7/site-packages (from swagger-ui-bundle>=0.0.2->-r requirements.txt (line 5)) (2.11.2)\n",
      "Requirement already satisfied: six>=1.5 in /opt/conda/lib/python3.7/site-packages (from python_dateutil>=2.6.0->-r requirements.txt (line 6)) (1.14.0)\n",
      "Requirement already satisfied: click>=4.0 in /opt/conda/lib/python3.7/site-packages (from clickclick>=1.2->connexion>=2.5.0->-r requirements.txt (line 1)) (7.1.2)\n",
      "Requirement already satisfied: idna<3,>=2.5 in /opt/conda/lib/python3.7/site-packages (from requests>=2.9.1->connexion>=2.5.0->-r requirements.txt (line 1)) (2.9)\n",
      "Requirement already satisfied: chardet<4,>=3.0.2 in /opt/conda/lib/python3.7/site-packages (from requests>=2.9.1->connexion>=2.5.0->-r requirements.txt (line 1)) (3.0.4)\n",
      "Requirement already satisfied: certifi>=2017.4.17 in /opt/conda/lib/python3.7/site-packages (from requests>=2.9.1->connexion>=2.5.0->-r requirements.txt (line 1)) (2020.4.5.1)\n",
      "Requirement already satisfied: urllib3!=1.25.0,!=1.25.1,<1.26,>=1.21.1 in /opt/conda/lib/python3.7/site-packages (from requests>=2.9.1->connexion>=2.5.0->-r requirements.txt (line 1)) (1.25.9)\n",
      "Requirement already satisfied: itsdangerous>=0.24 in /opt/conda/lib/python3.7/site-packages (from flask>=1.0.4->connexion>=2.5.0->-r requirements.txt (line 1)) (1.1.0)\n",
      "Requirement already satisfied: Werkzeug>=0.15 in /opt/conda/lib/python3.7/site-packages (from flask>=1.0.4->connexion>=2.5.0->-r requirements.txt (line 1)) (0.16.1)\n",
      "Requirement already satisfied: importlib-metadata; python_version < \"3.8\" in /opt/conda/lib/python3.7/site-packages (from jsonschema>=2.5.1->connexion>=2.5.0->-r requirements.txt (line 1)) (1.6.0)\n",
      "Requirement already satisfied: pyrsistent>=0.14.0 in /opt/conda/lib/python3.7/site-packages (from jsonschema>=2.5.1->connexion>=2.5.0->-r requirements.txt (line 1)) (0.16.0)\n",
      "Requirement already satisfied: attrs>=17.4.0 in /opt/conda/lib/python3.7/site-packages (from jsonschema>=2.5.1->connexion>=2.5.0->-r requirements.txt (line 1)) (19.3.0)\n",
      "Requirement already satisfied: MarkupSafe>=0.23 in /opt/conda/lib/python3.7/site-packages (from Jinja2>=2.0->swagger-ui-bundle>=0.0.2->-r requirements.txt (line 5)) (1.1.1)\n",
      "Requirement already satisfied: zipp>=0.5 in /opt/conda/lib/python3.7/site-packages (from importlib-metadata; python_version < \"3.8\"->jsonschema>=2.5.1->connexion>=2.5.0->-r requirements.txt (line 1)) (3.1.0)\n",
      "Requirement already satisfied: pytest~=4.6.7 in /opt/conda/lib/python3.7/site-packages (from -r test-requirements.txt (line 1)) (4.6.11)\n",
      "Requirement already satisfied: pytest-cov>=2.8.1 in /opt/conda/lib/python3.7/site-packages (from -r test-requirements.txt (line 2)) (2.10.0)\n",
      "Requirement already satisfied: pytest-randomly==1.2.3 in /opt/conda/lib/python3.7/site-packages (from -r test-requirements.txt (line 3)) (1.2.3)\n",
      "Requirement already satisfied: flask_testing==0.6.1 in /opt/conda/lib/python3.7/site-packages (from -r test-requirements.txt (line 4)) (0.6.1)\n",
      "Requirement already satisfied: packaging in /opt/conda/lib/python3.7/site-packages (from pytest~=4.6.7->-r test-requirements.txt (line 1)) (20.1)\n",
      "Requirement already satisfied: importlib-metadata>=0.12; python_version < \"3.8\" in /opt/conda/lib/python3.7/site-packages (from pytest~=4.6.7->-r test-requirements.txt (line 1)) (1.6.0)\n",
      "Requirement already satisfied: py>=1.5.0 in /opt/conda/lib/python3.7/site-packages (from pytest~=4.6.7->-r test-requirements.txt (line 1)) (1.8.2)\n",
      "Requirement already satisfied: six>=1.10.0 in /opt/conda/lib/python3.7/site-packages (from pytest~=4.6.7->-r test-requirements.txt (line 1)) (1.14.0)\n",
      "Requirement already satisfied: attrs>=17.4.0 in /opt/conda/lib/python3.7/site-packages (from pytest~=4.6.7->-r test-requirements.txt (line 1)) (19.3.0)\n",
      "Requirement already satisfied: pluggy<1.0,>=0.12 in /opt/conda/lib/python3.7/site-packages (from pytest~=4.6.7->-r test-requirements.txt (line 1)) (0.13.1)\n",
      "Requirement already satisfied: wcwidth in /opt/conda/lib/python3.7/site-packages (from pytest~=4.6.7->-r test-requirements.txt (line 1)) (0.1.9)\n",
      "Requirement already satisfied: more-itertools>=4.0.0; python_version > \"2.7\" in /opt/conda/lib/python3.7/site-packages (from pytest~=4.6.7->-r test-requirements.txt (line 1)) (8.4.0)\n",
      "Requirement already satisfied: atomicwrites>=1.0 in /opt/conda/lib/python3.7/site-packages (from pytest~=4.6.7->-r test-requirements.txt (line 1)) (1.4.0)\n",
      "Requirement already satisfied: coverage>=4.4 in /opt/conda/lib/python3.7/site-packages (from pytest-cov>=2.8.1->-r test-requirements.txt (line 2)) (5.1)\n",
      "Requirement already satisfied: Flask in /opt/conda/lib/python3.7/site-packages (from flask_testing==0.6.1->-r test-requirements.txt (line 4)) (1.1.2)\n",
      "Requirement already satisfied: pyparsing>=2.0.2 in /opt/conda/lib/python3.7/site-packages (from packaging->pytest~=4.6.7->-r test-requirements.txt (line 1)) (2.4.7)\n",
      "Requirement already satisfied: zipp>=0.5 in /opt/conda/lib/python3.7/site-packages (from importlib-metadata>=0.12; python_version < \"3.8\"->pytest~=4.6.7->-r test-requirements.txt (line 1)) (3.1.0)\n",
      "Requirement already satisfied: Werkzeug>=0.15 in /opt/conda/lib/python3.7/site-packages (from Flask->flask_testing==0.6.1->-r test-requirements.txt (line 4)) (0.16.1)\n",
      "Requirement already satisfied: Jinja2>=2.10.1 in /opt/conda/lib/python3.7/site-packages (from Flask->flask_testing==0.6.1->-r test-requirements.txt (line 4)) (2.11.2)\n",
      "Requirement already satisfied: click>=5.1 in /opt/conda/lib/python3.7/site-packages (from Flask->flask_testing==0.6.1->-r test-requirements.txt (line 4)) (7.1.2)\n",
      "Requirement already satisfied: itsdangerous>=0.24 in /opt/conda/lib/python3.7/site-packages (from Flask->flask_testing==0.6.1->-r test-requirements.txt (line 4)) (1.1.0)\n",
      "Requirement already satisfied: MarkupSafe>=0.23 in /opt/conda/lib/python3.7/site-packages (from Jinja2>=2.10.1->Flask->flask_testing==0.6.1->-r test-requirements.txt (line 4)) (1.1.1)\n",
      "Requirement already satisfied: Werkzeug==0.16.1 in /opt/conda/lib/python3.7/site-packages (0.16.1)\n"
     ]
    }
   ],
   "source": [
    "%%bash\n",
    "# define project environment\n",
    "PROJECT_DIR=\"/DRL4REST\"\n",
    "OPENAPI_SERVER_DIR=\"$PROJECT_DIR/openapi/cartpole/python-flask\"\n",
    "\n",
    "# install requirements\n",
    "cd \"$OPENAPI_SERVER_DIR\" || exit\n",
    "pip install -r requirements.txt || exit\n",
    "pip install -r test-requirements.txt || exit\n",
    "\n",
    "# install other requirements\n",
    "pip install Werkzeug==0.16.1 || exit"
   ]
  },
  {
   "cell_type": "code",
   "execution_count": 2,
   "metadata": {},
   "outputs": [],
   "source": [
    "import random\n",
    "import numpy\n",
    "from functools import partial"
   ]
  },
  {
   "cell_type": "code",
   "execution_count": 3,
   "metadata": {},
   "outputs": [],
   "source": [
    "# DEAP: python genetic algorithm library\n",
    "from deap import algorithms\n",
    "from deap import base\n",
    "from deap import creator\n",
    "from deap import tools\n",
    "from deap import gp"
   ]
  },
  {
   "cell_type": "code",
   "execution_count": 4,
   "metadata": {},
   "outputs": [],
   "source": [
    "# set path to import code generated by OpenAPI\n",
    "import sys\n",
    "sys.path.append(\"/DRL4REST/openapi/cartpole/python-flask\")\n",
    "sys.path.append(\"/DRL4REST/src\")"
   ]
  },
  {
   "cell_type": "code",
   "execution_count": 5,
   "metadata": {},
   "outputs": [],
   "source": [
    "from cartpole.gprest.server_model import CartpoleServer\n",
    "from cartpole.gprest.monkey_patching import MonkeyPatching\n",
    "from cartpole.gprest.gp_test_default_controller import GP_TestDefaultController"
   ]
  },
  {
   "cell_type": "markdown",
   "metadata": {},
   "source": [
    "## Genetic Program Implementation\n",
    "\n",
    "The GP program bases upon the Artificial Ant Problem from the [DEAP example site](https://deap.readthedocs.io/en/master/examples/gp_ant.html). The implementation consists of\n",
    "\n",
    "* generic functions for the control flow\n",
    "* controller functions interacting with the ServerModel\n",
    "* `evaluate()` function to report the controller's fitness"
   ]
  },
  {
   "cell_type": "markdown",
   "metadata": {},
   "source": [
    "### Generic Functions\n",
    "\n",
    "These are generic functions, e.g. for control flow and concatenating functions with each other."
   ]
  },
  {
   "cell_type": "code",
   "execution_count": 6,
   "metadata": {},
   "outputs": [],
   "source": [
    "def progn(*args):\n",
    "    for arg in args:\n",
    "        arg()\n",
    "\n",
    "def prog2(out1, out2): \n",
    "    return partial(progn,out1,out2)\n",
    "\n",
    "def prog3(out1, out2, out3):     \n",
    "    return partial(progn,out1,out2,out3)\n",
    "\n",
    "def _if_then_else(condition, out1, out2):\n",
    "    if condition() is not None:\n",
    "        out1()\n",
    "    else:\n",
    "        out2()\n",
    "\n",
    "def if_then_else(condition, out1, out2):\n",
    "    return partial(_if_then_else, condition, out1, out2)\n",
    "\n",
    "def _if_then(condition, out1):\n",
    "    if condition() is not None:\n",
    "        out1()\n",
    "        \n",
    "def if_then(condition, out1):\n",
    "    return partial(_if_then, condition, out1)"
   ]
  },
  {
   "cell_type": "markdown",
   "metadata": {},
   "source": [
    "### Controller Functions\n",
    "\n",
    "These are the functions the GP algorithm strings together utilizing the generic functions from above. The created program forms an individual and is tested by the `evaluate()` function. The controller functions utilize the CartpoleServer's CRUD functions."
   ]
  },
  {
   "cell_type": "code",
   "execution_count": 7,
   "metadata": {},
   "outputs": [],
   "source": [
    "cps = CartpoleServer\n",
    "cps.reset()"
   ]
  },
  {
   "cell_type": "code",
   "execution_count": 8,
   "metadata": {},
   "outputs": [],
   "source": [
    "from functools import partial\n",
    "\n",
    "# cart_get() controller must return something when done\n",
    "# this function becomes the new root for the GP tree created from the pset above\n",
    "# it runs the GP tree first and returns the Cart afterwards\n",
    "def return_cart_get(gp_tree):\n",
    "    def run_first_return_second(f1,f2):\n",
    "        f1()\n",
    "        return f2()\n",
    "    \n",
    "    return partial(run_first_return_second, gp_tree, cps.read_cart)"
   ]
  },
  {
   "cell_type": "code",
   "execution_count": 9,
   "metadata": {},
   "outputs": [],
   "source": [
    "from functools import partial\n",
    "\n",
    "# cart_pole_get() controller must return something when done\n",
    "# this function becomes the new root for the GP tree created from the pset above\n",
    "# it runs the GP tree first and returns the Pole afterwards\n",
    "def return_cart_pole_get(gp_tree):\n",
    "    def run_first_return_second(f1,f2):\n",
    "        f1()\n",
    "        return f2()\n",
    "    \n",
    "    return partial(run_first_return_second, gp_tree, cps.read_pole)"
   ]
  },
  {
   "cell_type": "code",
   "execution_count": 10,
   "metadata": {},
   "outputs": [],
   "source": [
    "from functools import partial\n",
    "from flask import Request\n",
    "from flask import globals\n",
    "\n",
    "# cart_put() controller must return something when done\n",
    "# this function becomes the new root for the GP tree created from the pset above\n",
    "#\n",
    "# It runs the following command sequence:\n",
    "# 1. store payload data in CartpoleServer\n",
    "# 2. run GP tree \n",
    "# 3. return Cart from CartpoleServer\n",
    "def return_cart_put(gp_tree):\n",
    "\n",
    "    def store_json():\n",
    "        req = globals._lookup_req_object('request')\n",
    "        if req.is_json:\n",
    "            cps._from_client = req.get_json()\n",
    "        \n",
    "    def run_first_return_second(f1,f2):\n",
    "        store_json()\n",
    "        f1()\n",
    "        return f2()\n",
    "    \n",
    "    return partial(run_first_return_second, gp_tree, cps.read_cart)"
   ]
  },
  {
   "cell_type": "code",
   "execution_count": null,
   "metadata": {},
   "outputs": [],
   "source": []
  },
  {
   "cell_type": "markdown",
   "metadata": {},
   "source": [
    "### Compile Primitive Set\n",
    "\n",
    "Compile the primitive set `pset` consisting of the generic funtions and ServerModel's controller functions."
   ]
  },
  {
   "cell_type": "code",
   "execution_count": 11,
   "metadata": {},
   "outputs": [],
   "source": [
    "def create_generic_pset():\n",
    "    pset = gp.PrimitiveSet(\"MAIN\", 0)\n",
    "    pset.addPrimitive(if_then_else, 3)\n",
    "    pset.addPrimitive(if_then, 2)\n",
    "    pset.addPrimitive(prog2, 2)\n",
    "    pset.addPrimitive(prog3, 3)\n",
    "    return pset\n",
    "\n",
    "# initial add generic functions\n",
    "pset = create_generic_pset()\n",
    "\n",
    "# let's add the ServerModel's CRUD functions\n",
    "import cartpole.gprest.server_model as sm\n",
    "pset = sm.add_CRUD_pset(pset, cps, 'cart')"
   ]
  },
  {
   "cell_type": "markdown",
   "metadata": {},
   "source": [
    "### `evaluate()` Function\n",
    "\n",
    "It patches the endpoint with the new controller function and runs the controller unittest. Evaluation reports the controller's fitness to guide the next program evolution."
   ]
  },
  {
   "cell_type": "code",
   "execution_count": 12,
   "metadata": {},
   "outputs": [],
   "source": [
    "from cartpole.gprest.monkey_patching import gpc"
   ]
  },
  {
   "cell_type": "markdown",
   "metadata": {},
   "source": [
    "#### `GET /v1/api/cart` Request"
   ]
  },
  {
   "cell_type": "code",
   "execution_count": 13,
   "metadata": {},
   "outputs": [],
   "source": [
    "# initial add generic functions\n",
    "pset = create_generic_pset()\n",
    "\n",
    "# let's add the ServerModel's CRUD functions\n",
    "import cartpole.gprest.server_model as sm\n",
    "pset = sm.add_CRUD_pset(pset, cps, 'cart')"
   ]
  },
  {
   "cell_type": "code",
   "execution_count": 14,
   "metadata": {},
   "outputs": [],
   "source": [
    "import types\n",
    "import json\n",
    "\n",
    "# evaluate()\n",
    "def evaluate_cart_get(individual):\n",
    "   \n",
    "    def add_func2pset(expr, pset, func, num_args):\n",
    "        pset_cloned = toolbox.clone(pset)\n",
    "        pset_cloned.addPrimitive(func, num_args)\n",
    "        prim_func = gp.Primitive(func.__name__, [object], object)\n",
    "        expr_func = [prim_func] + expr\n",
    "        return expr_func, pset_cloned\n",
    "\n",
    "    # we add the return_cart_get() als new root of the individual\n",
    "    # togehter they form the gp_controller\n",
    "\n",
    "    assert isinstance(return_cart_get, types.FunctionType), 'return_cart_get() not defined'\n",
    "    \n",
    "    # 1. dismantle the individual to get the expressions\n",
    "    expr = list(individual)\n",
    "\n",
    "    # 2. add return_cart_get als new root\n",
    "    expr_return, pset_return = add_func2pset(expr=expr,\n",
    "                                             pset=pset,\n",
    "                                             func=return_cart_get, \n",
    "                                             num_args=1)\n",
    "    # 3. rebuild individual (type: PrimitiveTree) from expressions \n",
    "    individual_return = gp.PrimitiveTree(expr_return)\n",
    "    \n",
    "    # 4. .. and compile tree to functional Python code \n",
    "    gp_controller = gp.compile(individual_return, pset_return)\n",
    "\n",
    "    # store the controller\n",
    "    gpc.set_controller_func(gp_controller)\n",
    "    #gpc.set_controller_func(testcase_all_correct)\n",
    "\n",
    "    # Replace the default controller with the gp_controller \n",
    "    url_path = '/api/v1/cart'\n",
    "    gp_test = GP_TestDefaultController()\n",
    "    ret = gp_test.endpoint_config(url_path, 'get', gpc.gp_controller_func)\n",
    "    # ... and test\n",
    "    cps.reset()\n",
    "    gp_test.reset_score()\n",
    "    \n",
    "    #gp_test.test_cart_get()\n",
    "    # run the test several times and expect the same as the first one\n",
    "    for i in range(5):\n",
    "        gp_test.safe_test_cart_get()\n",
    "    \n",
    "    # retrieve score \n",
    "    fitness = gp_test.score\n",
    "        \n",
    "    return fitness,"
   ]
  },
  {
   "cell_type": "markdown",
   "metadata": {},
   "source": [
    "#### `GET /v1/api/pole` Request"
   ]
  },
  {
   "cell_type": "code",
   "execution_count": 15,
   "metadata": {},
   "outputs": [],
   "source": [
    "# initial add generic functions\n",
    "pset = create_generic_pset()\n",
    "\n",
    "# let's add the ServerModel's CRUD functions\n",
    "import cartpole.gprest.server_model as sm\n",
    "pset = sm.add_CRUD_pset(pset, cps, 'pole')"
   ]
  },
  {
   "cell_type": "code",
   "execution_count": 16,
   "metadata": {},
   "outputs": [],
   "source": [
    "import types\n",
    "import json\n",
    "\n",
    "# evaluate()\n",
    "def evaluate_cart_pole_get(individual):\n",
    "   \n",
    "    def add_func2pset(expr, pset, func, num_args):\n",
    "        pset_cloned = toolbox.clone(pset)\n",
    "        pset_cloned.addPrimitive(func, num_args)\n",
    "        prim_func = gp.Primitive(func.__name__, [object], object)\n",
    "        expr_func = [prim_func] + expr\n",
    "        return expr_func, pset_cloned\n",
    "\n",
    "    # we add the return_cart_get() als new root of the individual\n",
    "    # togehter they form the gp_controller\n",
    "\n",
    "    assert isinstance(return_cart_pole_get, types.FunctionType), 'return_cart_pole_get() not defined'\n",
    "    \n",
    "    # 1. dismantle the individual to get the expressions\n",
    "    expr = list(individual)\n",
    "\n",
    "    # 2. add return_cart_get als new root\n",
    "    expr_return, pset_return = add_func2pset(expr=expr,\n",
    "                                             pset=pset,\n",
    "                                             func=return_cart_pole_get, \n",
    "                                             num_args=1)\n",
    "    # 3. rebuild individual (type: PrimitiveTree) from expressions \n",
    "    individual_return = gp.PrimitiveTree(expr_return)\n",
    "    \n",
    "    # 4. .. and compile tree to functional Python code \n",
    "    gp_controller = gp.compile(individual_return, pset_return)\n",
    "\n",
    "    # store the controller\n",
    "    gpc.set_controller_func(gp_controller)\n",
    "    #gpc.set_controller_func(testcase_all_correct)\n",
    "\n",
    "    # Replace the default controller with the gp_controller \n",
    "    url_path = '/api/v1/cart/pole'\n",
    "    gp_test = GP_TestDefaultController()\n",
    "    ret = gp_test.endpoint_config(url_path, 'get', gpc.gp_controller_func)\n",
    "    # ... and test\n",
    "    cps.reset()\n",
    "    gp_test.reset_score()\n",
    "    \n",
    "    #gp_test.test_cart_get()\n",
    "    # run the test several times and expect the same as the first one\n",
    "    for i in range(5):\n",
    "        gp_test.safe_test_cart_pole_get()\n",
    "    \n",
    "    # retrieve score \n",
    "    fitness = gp_test.score\n",
    "\n",
    "    return fitness,"
   ]
  },
  {
   "cell_type": "markdown",
   "metadata": {},
   "source": [
    "#### `PUT /v1/api/cart` Request\n",
    "\n",
    "In this request, the client serializes a `Direction` object as json and adds it as payload data in a PUT request. Due to the closure property of the functions used for genetic programming, the receiving `return_cart_put()` controller, when called by flask, needs handle the payload data separatly.\n",
    "\n",
    "The `return_cart_put()` controller stores the json encoded payload data within the `CartpoleServer`. The `update_cart()` method from the `CartpoleServer` processes the payload. It de-serializes the json data as `Direction` object, which resembles the original one transmitted by the PUT request, and updates the `Cart` object. Finally, it deletes the json data from the `CartpoleServer`. As per specification, the client receives the recent `Cart` object as a response. The sequence diagram below illustrates these steps.\n",
    "\n",
    "![PUT request sequence diagram](http://www.plantuml.com/plantuml/png/1S4z4e9030RGg-W5DeLMrjfPE8Wr0-4ROTXD93_ZzNdll0hNd95MJql4psz4DlxBTuqbftGOgmGa2ciZdi7RnUZUFQ_TuzrJ6prW91gOL3UdrwSV37l2Ot3i9Liz0000)\n",
    "\n",
    "As a consequence, `update_cart()` sucessfully processes the payload data can only once. A second call to `update_cart()` will let the `Cart` object unchanged, because of the deleted payload data in the previous successful run. If `update_cart()` encounters an error, it will stop and return to the caller. The payload will remain as it is for an other function to process. "
   ]
  },
  {
   "cell_type": "code",
   "execution_count": 17,
   "metadata": {},
   "outputs": [],
   "source": [
    "# initial add generic functions\n",
    "pset = create_generic_pset()\n",
    "\n",
    "# let's add the ServerModel's CRUD functions\n",
    "import cartpole.gprest.server_model as sm\n",
    "pset = sm.add_CRUD_pset(pset, cps, 'cart')"
   ]
  },
  {
   "cell_type": "code",
   "execution_count": 18,
   "metadata": {},
   "outputs": [],
   "source": [
    "import types\n",
    "import json\n",
    "import random\n",
    "from openapi_server.models import Direction\n",
    "\n",
    "# evaluate()\n",
    "def evaluate_cart_put(individual):\n",
    "   \n",
    "    def add_func2pset(expr, pset, func, num_args):\n",
    "        pset_cloned = toolbox.clone(pset)\n",
    "        pset_cloned.addPrimitive(func, num_args)\n",
    "        prim_func = gp.Primitive(func.__name__, [object], object)\n",
    "        expr_func = [prim_func] + expr\n",
    "        return expr_func, pset_cloned\n",
    "\n",
    "    # we add the return_cart_get() als new root of the individual\n",
    "    # togehter they form the gp_controller\n",
    "\n",
    "    assert isinstance(return_cart_put, types.FunctionType), 'return_cart_put() not defined'\n",
    "    \n",
    "    # 1. dismantle the individual to get the expressions\n",
    "    expr = list(individual)\n",
    "\n",
    "    # 2. add return_cart_get als new root\n",
    "    expr_return, pset_return = add_func2pset(expr=expr,\n",
    "                                             pset=pset,\n",
    "                                             func=return_cart_put, \n",
    "                                             num_args=1)\n",
    "    # 3. rebuild individual (type: PrimitiveTree) from expressions \n",
    "    individual_return = gp.PrimitiveTree(expr_return)\n",
    "    \n",
    "    # 4. .. and compile tree to functional Python code \n",
    "    gp_controller = gp.compile(individual_return, pset_return)\n",
    "\n",
    "    # store the controller\n",
    "    gpc.set_controller_func(gp_controller)\n",
    "\n",
    "    # Replace the default controller with the gp_controller \n",
    "    url_path = '/api/v1/cart'\n",
    "    gp_test = GP_TestDefaultController()\n",
    "    ret = gp_test.endpoint_config(url_path, 'put', gpc.gp_controller_func)\n",
    "    # ... and test\n",
    "    cps.reset()\n",
    "    gp_test.reset_score()\n",
    "    \n",
    "    # run PUT request several times each with random directions \n",
    "    for i in range(5):\n",
    "        direction = Direction(direction=random.choice(['left', 'right']))\n",
    "        gp_test.safe_test_cart_put(direction)\n",
    "    \n",
    "    # retrieve score \n",
    "    fitness = gp_test.score\n",
    "    \n",
    "    return fitness,"
   ]
  },
  {
   "cell_type": "markdown",
   "metadata": {},
   "source": [
    "## Assemble and Configure the GP\n",
    "\n",
    "We configure the GP to solve a minimization problem, `FitnessMin`. The `evaluate()` function returns the cumulative sum of the responses' status codes when testing the controller as fitness. "
   ]
  },
  {
   "cell_type": "code",
   "execution_count": 19,
   "metadata": {},
   "outputs": [],
   "source": [
    "# configure the parameters\n",
    "creator.create(\"FitnessMin\", base.Fitness, weights=(-1.0,))\n",
    "creator.create(\"Individual\", gp.PrimitiveTree, fitness=creator.FitnessMin)\n",
    "\n",
    "# Attribute generator\n",
    "toolbox = base.Toolbox()\n",
    "toolbox.register(\"expr_init\", gp.genFull, pset=pset, min_=1, max_=2)\n",
    "\n",
    "# Structure initializers\n",
    "toolbox.register(\"individual\", tools.initIterate, creator.Individual, toolbox.expr_init)\n",
    "toolbox.register(\"population\", tools.initRepeat, list, toolbox.individual)"
   ]
  },
  {
   "cell_type": "markdown",
   "metadata": {},
   "source": [
    "Register the GP operators. They mate, mutate and change in various ways the individuals made of programs. Further individuals are the result from the GP algorithm using these GP operators."
   ]
  },
  {
   "cell_type": "code",
   "execution_count": 20,
   "metadata": {},
   "outputs": [],
   "source": [
    "toolbox.register(\"evaluate\", evaluate_cart_put)\n",
    "toolbox.register(\"select\", tools.selTournament, tournsize=7)\n",
    "toolbox.register(\"mate\", gp.cxOnePoint)\n",
    "toolbox.register(\"expr_mut\", gp.genFull, min_=0, max_=2)\n",
    "toolbox.register(\"mutate\", gp.mutUniform, expr=toolbox.expr_mut, pset=pset)"
   ]
  },
  {
   "cell_type": "markdown",
   "metadata": {},
   "source": [
    "## Run the GP Algorithm"
   ]
  },
  {
   "cell_type": "code",
   "execution_count": 39,
   "metadata": {},
   "outputs": [
    {
     "name": "stdout",
     "output_type": "stream",
     "text": [
      "gen\tnevals\tavg    \tstd    \tmin\tmax \n",
      "0  \t300   \t3232.33\t2183.81\t199\t4999\n",
      "1  \t197   \t1327   \t1827.97\t199\t4999\n",
      "2  \t201   \t1160.33\t1811.69\t199\t4999\n",
      "3  \t171   \t921.667\t1629.69\t199\t4999\n",
      "4  \t200   \t1204.33\t1851.69\t199\t4999\n"
     ]
    }
   ],
   "source": [
    "random.seed(456)\n",
    "\n",
    "pop = toolbox.population(n=300)\n",
    "hof = tools.HallOfFame(1)\n",
    "stats = tools.Statistics(lambda ind: ind.fitness.values)\n",
    "stats.register(\"avg\", numpy.mean)\n",
    "stats.register(\"std\", numpy.std)\n",
    "stats.register(\"min\", numpy.min)\n",
    "stats.register(\"max\", numpy.max)\n",
    "\n",
    "pop, log = algorithms.eaSimple(pop, toolbox, 0.5, 0.3, 4, stats, halloffame=hof)"
   ]
  },
  {
   "cell_type": "code",
   "execution_count": null,
   "metadata": {},
   "outputs": [],
   "source": []
  },
  {
   "cell_type": "markdown",
   "metadata": {},
   "source": [
    "## Display and Plot\n",
    "\n",
    "Plot the individual. It is a tree structure contained in the halloffame `hof` object.\n",
    "\n",
    "`hof[0]` indicates the individual tree structure."
   ]
  },
  {
   "cell_type": "code",
   "execution_count": 40,
   "metadata": {},
   "outputs": [
    {
     "data": {
      "text/plain": [
       "'prog3(if_then(create_cart, create_cart), if_then_else(create_cart, update_cart, update_cart), if_then(read_cart, update_cart))'"
      ]
     },
     "execution_count": 40,
     "metadata": {},
     "output_type": "execute_result"
    }
   ],
   "source": [
    "str(hof[0])"
   ]
  },
  {
   "cell_type": "code",
   "execution_count": null,
   "metadata": {},
   "outputs": [],
   "source": []
  },
  {
   "cell_type": "code",
   "execution_count": null,
   "metadata": {},
   "outputs": [],
   "source": []
  },
  {
   "cell_type": "markdown",
   "metadata": {},
   "source": [
    "## Unit Testing Example Controllers"
   ]
  },
  {
   "cell_type": "markdown",
   "metadata": {},
   "source": [
    "### cart_pole_get() Controller Examples"
   ]
  },
  {
   "cell_type": "code",
   "execution_count": 21,
   "metadata": {},
   "outputs": [],
   "source": [
    "# initial add generic functions\n",
    "pset = create_generic_pset()\n",
    "\n",
    "# let's add the ServerModel's CRUD functions\n",
    "import cartpole.gprest.server_model as sm\n",
    "pset = sm.add_CRUD_pset(pset, cps, 'pole')"
   ]
  },
  {
   "cell_type": "code",
   "execution_count": 22,
   "metadata": {},
   "outputs": [],
   "source": [
    "import unittest\n",
    "import types\n",
    "from openapi_server.models import Pole\n",
    "\n",
    "class Test_ExamplePoleController(unittest.TestCase):\n",
    "\n",
    "    @classmethod\n",
    "    def setUpClass(cls):\n",
    "        super().setUpClass()\n",
    "        assert isinstance(toolbox, base.Toolbox), 'toolbox not defined'\n",
    "        cls.assertIsNotNone(toolbox.individual(), 'toolbox.individual() does not work')\n",
    "        assert cps == CartpoleServer, 'cps is not a CartpoleServer'\n",
    "    \n",
    "    def setUp(self):\n",
    "        self.assertIsInstance(pset, gp.PrimitiveSet, 'pset not defined')\n",
    "        self.assertIsInstance(toolbox, base.Toolbox, 'toolbox not defined')\n",
    "        # Setup cps \n",
    "        cps.reset()\n",
    "        self.assertIsNone(cps.read_pole())\n",
    "        \n",
    "    def test_delete_create(self):\n",
    "        gp_ctrl = 'prog2(delete_pole, create_pole)'\n",
    "        ind = gp.PrimitiveTree.from_string(gp_ctrl, pset)\n",
    "        f = gp.compile(ind, pset)\n",
    "        f()\n",
    "        self.assertIsInstance(cps.read_pole(), Pole)\n",
    "\n",
    "    def test_create_delete(self):\n",
    "        gp_ctrl = 'prog2(create_pole, delete_pole)'\n",
    "        ind = gp.PrimitiveTree.from_string(gp_ctrl, pset)\n",
    "        f = gp.compile(ind, pset)\n",
    "        f()\n",
    "        self.assertNotIsInstance( cps.read_pole(), Pole )\n",
    "        self.assertIsNone( cps.read_pole() )\n",
    "\n",
    "    def test_double_create(self):\n",
    "        gp_ctrl = 'create_pole'\n",
    "        ind = gp.PrimitiveTree.from_string(gp_ctrl, pset)\n",
    "        f = gp.compile(ind, pset)\n",
    "        # 1st run\n",
    "        f()\n",
    "        self.assertIsInstance(cps.read_pole(), Pole)\n",
    "        pole1 = cps.read_pole()\n",
    "        # 2nd run\n",
    "        f()\n",
    "        self.assertIsInstance(cps.read_pole(), Pole)\n",
    "        pole2 = cps.read_pole()\n",
    "        # Poles are different\n",
    "        self.assertNotEqual(pole1, pole2)\n",
    "        \n",
    "    def test_read(self):\n",
    "        gp_ctrl = 'read_pole'\n",
    "        ind = gp.PrimitiveTree.from_string(gp_ctrl, pset)\n",
    "        f = gp.compile(ind, pset)\n",
    "        f()\n",
    "        self.assertIsNone( cps.read_pole() )\n",
    "        \n",
    "    def test_create_double_read(self):\n",
    "        gp_ctrl = 'create_pole'\n",
    "        ind = gp.PrimitiveTree.from_string(gp_ctrl, pset)\n",
    "        f = gp.compile(ind, pset)\n",
    "        f()\n",
    "        pole1 = cps.read_pole()\n",
    "        self.assertIsInstance( pole1, Pole )\n",
    "        \n",
    "        gp_ctrl = 'prog2(read_pole, read_pole)'\n",
    "        ind = gp.PrimitiveTree.from_string(gp_ctrl, pset)\n",
    "        f = gp.compile(ind, pset)\n",
    "        f()\n",
    "        pole2 = cps.read_pole()\n",
    "        self.assertIsInstance( pole2, Pole )\n",
    "        self.assertEqual(pole1, pole2)\n",
    "        \n",
    "    def test_cart_pole_get_controller(self):\n",
    "        gp_ctrl = 'prog2(if_then_else(read_pole, update_pole, create_pole), if_then(update_pole, create_pole))'\n",
    "        ind = gp.PrimitiveTree.from_string(gp_ctrl, pset)\n",
    "        f = gp.compile(ind, pset)\n",
    "        f()\n",
    "        pole1 = cps.read_pole()\n",
    "        self.assertIsInstance( pole1, Pole )\n",
    "        f()\n",
    "        pole2 = cps.read_pole()\n",
    "        self.assertIsInstance( pole2, Pole )\n",
    "        self.assertEqual(pole1, pole2)\n"
   ]
  },
  {
   "cell_type": "code",
   "execution_count": 23,
   "metadata": {},
   "outputs": [
    {
     "name": "stderr",
     "output_type": "stream",
     "text": [
      "......\n",
      "----------------------------------------------------------------------\n",
      "Ran 6 tests in 0.006s\n",
      "\n",
      "OK\n"
     ]
    },
    {
     "data": {
      "text/plain": [
       "<unittest.runner.TextTestResult run=6 errors=0 failures=0>"
      ]
     },
     "execution_count": 23,
     "metadata": {},
     "output_type": "execute_result"
    }
   ],
   "source": [
    "suite = unittest.defaultTestLoader.loadTestsFromTestCase(Test_ExamplePoleController)\n",
    "unittest.TextTestRunner().run(suite)"
   ]
  },
  {
   "cell_type": "markdown",
   "metadata": {},
   "source": [
    "## Unit Testing `evaluate()`\n"
   ]
  },
  {
   "cell_type": "code",
   "execution_count": 24,
   "metadata": {},
   "outputs": [],
   "source": [
    "# initial add generic functions\n",
    "pset = create_generic_pset()\n",
    "\n",
    "# let's add the ServerModel's CRUD functions\n",
    "import cartpole.gprest.server_model as sm\n",
    "pset = sm.add_CRUD_pset(pset, cps, 'pole')"
   ]
  },
  {
   "cell_type": "code",
   "execution_count": 25,
   "metadata": {},
   "outputs": [],
   "source": [
    "import unittest\n",
    "import types\n",
    "\n",
    "\n",
    "# return_cart_pole_get() controller must return something\n",
    "def return_cart_pole_get(gp_tree):\n",
    "    def run_first_return_second(f1,f2):\n",
    "        f1()\n",
    "        return f2()\n",
    "    \n",
    "    return partial(run_first_return_second, gp_tree, cps.read_pole)\n",
    "\n",
    "\n",
    "class Test_EvaluateGetPole(unittest.TestCase):\n",
    "        \n",
    "    @classmethod\n",
    "    def setUpClass(cls):\n",
    "        super().setUpClass()\n",
    "        assert cps == CartpoleServer, 'cps is not a CartpoleServer'\n",
    "    \n",
    "    def setUp(self):\n",
    "        self.assertIsInstance(pset, gp.PrimitiveSet, 'pset not defined')\n",
    "        self.assertIsInstance(return_cart_pole_get, types.FunctionType, 'return_cart_pole_get() not defined')\n",
    "        \n",
    "        self.ok_score = 200\n",
    "        self.assert_score = 1000\n",
    "        self.num_tests = 5\n",
    "        \n",
    "    def run_eval(self, gp_ctrl):\n",
    "        ind = gp.PrimitiveTree.from_string(gp_ctrl, pset)\n",
    "        fitness = evaluate_cart_pole_get(ind)[0]\n",
    "        return fitness\n",
    "        \n",
    "    def test_create_controller(self):\n",
    "        test_gp_controller = 'create_pole'\n",
    "        fitness = self.run_eval(test_gp_controller)\n",
    "        self.assertEqual(fitness, self.num_tests*self.ok_score-1)\n",
    "    \n",
    "    def test_read_controller(self):\n",
    "        test_gp_controller = 'read_pole'\n",
    "        fitness = self.run_eval(test_gp_controller)\n",
    "        self.assertEqual(fitness, self.num_tests*self.assert_score-1)\n",
    "\n",
    "    def test_create_read_controller(self):\n",
    "        test_gp_controller = 'prog2(create_pole, read_pole)'\n",
    "        fitness = self.run_eval(test_gp_controller)\n",
    "        self.assertEqual(fitness, self.num_tests*self.ok_score-1)\n",
    "\n",
    "    def test_read_create_controller(self):\n",
    "        test_gp_controller = 'prog2(read_pole, create_pole)'\n",
    "        fitness = self.run_eval(test_gp_controller)\n",
    "        self.assertEqual(fitness, self.num_tests*self.ok_score-1)\n",
    "\n",
    "    def test_create_delete_controller(self):\n",
    "        test_gp_controller = 'prog2(create_pole, delete_pole)'\n",
    "        fitness = self.run_eval(test_gp_controller)\n",
    "        self.assertEqual(fitness, self.num_tests*self.assert_score-1)\n",
    "        \n",
    "    def test_delete_create_controller(self):\n",
    "        test_gp_controller = 'prog2(delete_pole, create_pole)'\n",
    "        fitness = self.run_eval(test_gp_controller)\n",
    "        self.assertEqual(fitness, self.num_tests*self.ok_score-1)\n",
    "\n",
    "    # this controller was falsely scored by with a 199 fitness, which implies\n",
    "    # the cart_get creates and repeatedly returns the created Cart object \n",
    "    @unittest.expectedFailure\n",
    "    def test_false_cart_pole_get_controller(self):\n",
    "        test_gp_controller = 'if_then_else(create_pole, create_pole, read_pole)'\n",
    "        fitness = self.run_eval(test_gp_controller)\n",
    "        self.assertEqual(fitness, self.ok_score-1)\n",
    "\n",
    "    # this is the true controller\n",
    "    def test_cart_pole_get_controller(self):\n",
    "        test_gp_controller = 'prog2(if_then_else(read_pole, update_pole, create_pole), if_then(update_pole, create_pole))'\n",
    "        fitness = self.run_eval(test_gp_controller)\n",
    "        self.assertEqual(fitness, self.ok_score-1)\n",
    "        "
   ]
  },
  {
   "cell_type": "code",
   "execution_count": 26,
   "metadata": {},
   "outputs": [
    {
     "name": "stderr",
     "output_type": "stream",
     "text": [
      ".....x..\n",
      "----------------------------------------------------------------------\n",
      "Ran 8 tests in 0.439s\n",
      "\n",
      "OK (expected failures=1)\n"
     ]
    },
    {
     "data": {
      "text/plain": [
       "<unittest.runner.TextTestResult run=8 errors=0 failures=0>"
      ]
     },
     "execution_count": 26,
     "metadata": {},
     "output_type": "execute_result"
    }
   ],
   "source": [
    "suite = unittest.defaultTestLoader.loadTestsFromTestCase(Test_EvaluateGetPole)\n",
    "unittest.TextTestRunner().run(suite)"
   ]
  },
  {
   "cell_type": "markdown",
   "metadata": {},
   "source": [
    "## Unit Testing `PUT /v1/api/cart` Request"
   ]
  },
  {
   "cell_type": "code",
   "execution_count": 27,
   "metadata": {},
   "outputs": [],
   "source": [
    "cps = CartpoleServer\n",
    "cps.reset()"
   ]
  },
  {
   "cell_type": "code",
   "execution_count": 28,
   "metadata": {},
   "outputs": [],
   "source": [
    "# initial add generic functions\n",
    "pset = create_generic_pset()\n",
    "\n",
    "# let's add the ServerModel's CRUD functions\n",
    "import cartpole.gprest.server_model as sm\n",
    "pset = sm.add_CRUD_pset(pset, cps, 'cart')"
   ]
  },
  {
   "cell_type": "code",
   "execution_count": 29,
   "metadata": {},
   "outputs": [],
   "source": [
    "from functools import partial\n",
    "from flask import Request\n",
    "from flask import globals\n",
    "\n",
    "# cart_put() controller must return something when done\n",
    "# this function becomes the new root for the GP tree created from the pset above\n",
    "#\n",
    "# It runs the following command sequence:\n",
    "# 1. store payload data in CartpoleServer\n",
    "# 2. run GP tree \n",
    "# 3. return Cart from CartpoleServer\n",
    "def return_cart_put(gp_tree):\n",
    "\n",
    "    def store_json():\n",
    "        req = globals._lookup_req_object('request')\n",
    "        if req.is_json:\n",
    "            cps._from_client = req.get_json()\n",
    "        \n",
    "    def run_first_return_second(f1,f2):\n",
    "        store_json()\n",
    "        f1()\n",
    "        return f2()\n",
    "    \n",
    "    return partial(run_first_return_second, gp_tree, cps.read_cart)"
   ]
  },
  {
   "cell_type": "code",
   "execution_count": 42,
   "metadata": {},
   "outputs": [],
   "source": [
    "import unittest\n",
    "import types\n",
    "import random\n",
    "from openapi_server.models import Direction\n",
    "from openapi_server.models import Cart\n",
    "\n",
    "class Test_PUTRequestController(unittest.TestCase):\n",
    "\n",
    "    @classmethod\n",
    "    def setUpClass(cls):\n",
    "        super().setUpClass()\n",
    "        assert isinstance(toolbox, base.Toolbox), 'toolbox not defined'\n",
    "        cls.assertIsNotNone(toolbox.individual(), 'toolbox.individual() does not work')\n",
    "        assert cps == CartpoleServer, 'cps is not a CartpoleServer'\n",
    "    \n",
    "    def setUp(self):\n",
    "        self.assertIsInstance(pset, gp.PrimitiveSet, 'pset not defined')\n",
    "        self.assertIsInstance(toolbox, base.Toolbox, 'toolbox not defined')\n",
    "        # Setup cps \n",
    "        cps.reset()\n",
    "        self.assertIsNone(cps.read_cart())\n",
    "\n",
    "    # replaces the original view_func with the test_gp_controller and\n",
    "    # performs the PUT request\n",
    "    def _cart_put_request(self, test_gp_controller, direction):\n",
    "\n",
    "        def add_func2pset(expr, pset, func, num_args):\n",
    "            pset_cloned = toolbox.clone(pset)\n",
    "            pset_cloned.addPrimitive(func, num_args)\n",
    "            prim_func = gp.Primitive(func.__name__, [object], object)\n",
    "            expr_func = [prim_func] + expr\n",
    "            return expr_func, pset_cloned\n",
    "\n",
    "        # we add the return_cart_get() als new root of the individual\n",
    "        # togehter they form the gp_controller\n",
    "        assert isinstance(return_cart_put, types.FunctionType), 'return_cart_put() not defined'\n",
    "        # 1. dismantle the individual to get the expressions\n",
    "        expr = list(test_gp_controller)\n",
    "        # 2. add return_cart_get als new root\n",
    "        expr_return, pset_return = add_func2pset(expr=expr,\n",
    "                                                 pset=pset,\n",
    "                                                 func=return_cart_put, \n",
    "                                                 num_args=1)\n",
    "        # 3. rebuild individual (type: PrimitiveTree) from expressions \n",
    "        individual_return = gp.PrimitiveTree(expr_return)\n",
    "        # 4. .. and compile tree to functional Python code \n",
    "        gp_controller = gp.compile(individual_return, pset_return)\n",
    "        # store the controller\n",
    "        gpc.set_controller_func(gp_controller)\n",
    "\n",
    "        # Replace the default controller with the gp_controller \n",
    "        url_path = '/api/v1/cart'\n",
    "        gp_test = GP_TestDefaultController()\n",
    "        ret = gp_test.endpoint_config(url_path, 'put', gpc.gp_controller_func)\n",
    "        # ... and test\n",
    "        cps.reset()\n",
    "        gp_test.reset_score()\n",
    "        resp = gp_test.test_cart_put(direction)\n",
    "\n",
    "        return resp\n",
    "    \n",
    "    def test_direction_right(self):\n",
    "        direction = Direction('right')\n",
    "        test_gp_controller_str = 'prog2(create_cart, update_cart)'\n",
    "        test_gp_controller = gp.PrimitiveTree.from_string(test_gp_controller_str, pset)\n",
    "        \n",
    "        # hammer request\n",
    "        for i in range(40):\n",
    "            response = self._cart_put_request(test_gp_controller, direction)\n",
    "            cart = Cart.from_dict(response.json)\n",
    "            self.assertIsInstance( cart, Cart )\n",
    "            self.assertEqual('right', cart.direction)\n",
    "\n",
    "    def test_direction_left(self):\n",
    "        direction = Direction('left')\n",
    "        test_gp_controller_str = 'prog2(create_cart, update_cart)'\n",
    "        test_gp_controller = gp.PrimitiveTree.from_string(test_gp_controller_str, pset)\n",
    "        \n",
    "        # hammer request\n",
    "        for i in range(40):\n",
    "            response = self._cart_put_request(test_gp_controller, direction)\n",
    "            cart = Cart.from_dict(response.json)\n",
    "            self.assertIsInstance( cart, Cart )\n",
    "            self.assertEqual('left', cart.direction)\n",
    "\n",
    "    def test_direction_random(self):\n",
    "        # hammer request\n",
    "        for i in range(40):\n",
    "            random_direction = random.choice(['left', 'right'])\n",
    "            direction = Direction(random_direction)\n",
    "            test_gp_controller_str = 'prog2(create_cart, update_cart)'\n",
    "            test_gp_controller = gp.PrimitiveTree.from_string(test_gp_controller_str, pset)\n",
    "            \n",
    "            # issue request\n",
    "            response = self._cart_put_request(test_gp_controller, direction)\n",
    "            cart = Cart.from_dict(response.json)\n",
    "            self.assertIsInstance( cart, Cart )\n",
    "            self.assertEqual(random_direction, cart.direction)\n",
    "    \n",
    "    # yields bad request\n",
    "    def test_direction_empty(self):\n",
    "        direction = Direction('')\n",
    "        test_gp_controller_str = 'prog2(create_cart, update_cart)'\n",
    "        test_gp_controller = gp.PrimitiveTree.from_string(test_gp_controller_str, pset)\n",
    "        \n",
    "        # issue request\n",
    "        try:\n",
    "            response = self._cart_put_request(test_gp_controller, direction)\n",
    "        except AssertionError as ae:\n",
    "            ae_str = str(ae)\n",
    "            self.assertTrue(ae_str.startswith('400 != 200'))\n",
    "\n",
    "    # yields bad request\n",
    "    def test_direction_none(self):\n",
    "        direction = Direction()\n",
    "        test_gp_controller_str = 'prog2(create_cart, update_cart)'\n",
    "        test_gp_controller = gp.PrimitiveTree.from_string(test_gp_controller_str, pset)\n",
    "        \n",
    "        # issue request\n",
    "        try:\n",
    "            response = self._cart_put_request(test_gp_controller, direction)\n",
    "        except AssertionError as ae:\n",
    "            ae_str = str(ae)\n",
    "            self.assertTrue(ae_str.startswith('400 != 200'))\n",
    "\n",
    "    # yields 204 no content\n",
    "    def test_direction_update_only(self):\n",
    "        direction = Direction('left')\n",
    "        test_gp_controller_str = 'update_cart'\n",
    "        test_gp_controller = gp.PrimitiveTree.from_string(test_gp_controller_str, pset)\n",
    "        \n",
    "        # issue request\n",
    "        try:\n",
    "            response = self._cart_put_request(test_gp_controller, direction)\n",
    "        except AssertionError as ae:\n",
    "            ae_str = str(ae)\n",
    "            self.assertTrue(ae_str.startswith('204 != 200'))\n",
    "\n",
    "    def test_direction_create_only(self):\n",
    "        direction = Direction('left')\n",
    "        test_gp_controller_str = 'create_cart'\n",
    "        test_gp_controller = gp.PrimitiveTree.from_string(test_gp_controller_str, pset)\n",
    "\n",
    "        # hammer request\n",
    "        for i in range(40):        \n",
    "            response = self._cart_put_request(test_gp_controller, direction)\n",
    "            cart = Cart.from_dict(response.json)\n",
    "            self.assertIsInstance( cart, Cart )\n",
    "            try:\n",
    "                self.assertEqual('right', cart.direction)\n",
    "                break\n",
    "            except AssertionError:\n",
    "                pass\n",
    "        # proves that loop did not run to the end\n",
    "        self.assertTrue(i < 39)\n",
    "\n",
    "    def test_direction_update_and_create(self):\n",
    "        direction = Direction('left')\n",
    "        test_gp_controller_str = 'prog2(update_cart, create_cart)'\n",
    "        test_gp_controller = gp.PrimitiveTree.from_string(test_gp_controller_str, pset)\n",
    "\n",
    "        # hammer request\n",
    "        for i in range(40):        \n",
    "            response = self._cart_put_request(test_gp_controller, direction)\n",
    "            cart = Cart.from_dict(response.json)\n",
    "            self.assertIsInstance( cart, Cart )\n",
    "            try:\n",
    "                #print('Counter: {0}, Direction: {1}'.format(i, cart.direction))\n",
    "                self.assertEqual('right', cart.direction)\n",
    "                break\n",
    "            except AssertionError:\n",
    "                pass\n",
    "        # proves that loop did not run to the end\n",
    "        self.assertTrue(i < 39)\n",
    "        \n",
    "    def test_candidates(self):\n",
    "        def hammer_request(test_gp_controller_str):\n",
    "            for i in range(200):\n",
    "                random_direction = random.choice(['left', 'right'])\n",
    "                direction = Direction(random_direction)\n",
    "                test_gp_controller = gp.PrimitiveTree.from_string(test_gp_controller_str, pset)\n",
    "\n",
    "                # issue request\n",
    "                response = self._cart_put_request(test_gp_controller, direction)\n",
    "                cart = Cart.from_dict(response.json)\n",
    "                try:\n",
    "                    self.assertIsInstance(cart, Cart)\n",
    "                    self.assertEqual(random_direction, cart.direction)\n",
    "                except:\n",
    "                    self.fail('Candidate fails: {}'.format(test_gp_controller_str))\n",
    "        \n",
    "        # GP created controller\n",
    "        test_gp_controller_str = 'prog3(prog3(delete_cart, update_cart, create_cart), if_then(create_cart, delete_cart), prog2(read_cart, update_cart))'\n",
    "        hammer_request(test_gp_controller_str)\n",
    "        \n",
    "        test_gp_controller_str = 'prog3(create_cart, update_cart, update_cart)'\n",
    "        hammer_request(test_gp_controller_str)\n",
    "        \n",
    "        test_gp_controller_str = 'prog3(if_then(create_cart, create_cart), if_then_else(create_cart, update_cart, update_cart), if_then(read_cart, update_cart))'\n",
    "        hammer_request(test_gp_controller_str)\n"
   ]
  },
  {
   "cell_type": "code",
   "execution_count": 43,
   "metadata": {},
   "outputs": [
    {
     "name": "stderr",
     "output_type": "stream",
     "text": [
      "..http://localhost/api/v1/cart validation error: '' is not one of ['left', 'right'] - 'direction'\n",
      "..http://localhost/api/v1/cart validation error: None is not one of ['left', 'right'] - 'direction'\n",
      ".....\n",
      "----------------------------------------------------------------------\n",
      "Ran 9 tests in 26.030s\n",
      "\n",
      "OK\n"
     ]
    },
    {
     "data": {
      "text/plain": [
       "<unittest.runner.TextTestResult run=9 errors=0 failures=0>"
      ]
     },
     "execution_count": 43,
     "metadata": {},
     "output_type": "execute_result"
    }
   ],
   "source": [
    "suite = unittest.defaultTestLoader.loadTestsFromTestCase(Test_PUTRequestController)\n",
    "unittest.TextTestRunner().run(suite)"
   ]
  },
  {
   "cell_type": "code",
   "execution_count": null,
   "metadata": {},
   "outputs": [],
   "source": []
  },
  {
   "cell_type": "code",
   "execution_count": null,
   "metadata": {},
   "outputs": [],
   "source": []
  }
 ],
 "metadata": {
  "kernelspec": {
   "display_name": "Python 3",
   "language": "python",
   "name": "python3"
  },
  "language_info": {
   "codemirror_mode": {
    "name": "ipython",
    "version": 3
   },
   "file_extension": ".py",
   "mimetype": "text/x-python",
   "name": "python",
   "nbconvert_exporter": "python",
   "pygments_lexer": "ipython3",
   "version": "3.7.6"
  }
 },
 "nbformat": 4,
 "nbformat_minor": 4
}
