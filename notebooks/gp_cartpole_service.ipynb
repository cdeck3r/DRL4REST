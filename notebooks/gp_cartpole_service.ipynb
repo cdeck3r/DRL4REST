{
 "cells": [
  {
   "cell_type": "markdown",
   "metadata": {},
   "source": [
    "# GP Cartpole Service\n",
    "\n",
    "This notebook uses the functions from the `gprest` module to enable genetic programming for REST service behaviors. It interacts with REST server stubs created by the OpenAPI generator.\n",
    "\n",
    "The previous notebook [`gp_cartpole_server.ipynb`](https://github.com/cdeck3r/DRL4REST/notebooks/gp_cartpole_server.ipynb) shows the GP approach applied to the [cartpole](https://en.wikipedia.org/wiki/Inverted_pendulum) example. The functions from this notebook are now a part of the `gprest` module.\n",
    "\n",
    "This notebook reproduces the results from `gp_cartpole_server.ipynb`."
   ]
  },
  {
   "cell_type": "markdown",
   "metadata": {},
   "source": [
    "## Install required Modules"
   ]
  },
  {
   "cell_type": "code",
   "execution_count": 1,
   "metadata": {},
   "outputs": [
    {
     "name": "stdout",
     "output_type": "stream",
     "text": [
      "Ignoring connexion: markers 'python_version == \"3.5\"' don't match your environment\n",
      "Ignoring connexion: markers 'python_version == \"3.4\"' don't match your environment\n",
      "Ignoring connexion: markers 'python_version <= \"2.7\"' don't match your environment\n",
      "Collecting connexion>=2.5.0\n",
      "  Downloading connexion-2.7.0-py2.py3-none-any.whl (77 kB)\n",
      "Collecting swagger-ui-bundle>=0.0.2\n",
      "  Downloading swagger_ui_bundle-0.0.6-py3-none-any.whl (3.5 MB)\n",
      "Requirement already satisfied: python_dateutil>=2.6.0 in /opt/conda/lib/python3.7/site-packages (from -r requirements.txt (line 6)) (2.8.1)\n",
      "Requirement already satisfied: setuptools>=21.0.0 in /opt/conda/lib/python3.7/site-packages (from -r requirements.txt (line 7)) (46.1.3.post20200325)\n",
      "Requirement already satisfied: requests>=2.9.1 in /opt/conda/lib/python3.7/site-packages (from connexion>=2.5.0->-r requirements.txt (line 1)) (2.23.0)\n",
      "Requirement already satisfied: jsonschema>=2.5.1 in /opt/conda/lib/python3.7/site-packages (from connexion>=2.5.0->-r requirements.txt (line 1)) (3.2.0)\n",
      "Collecting clickclick>=1.2\n",
      "  Downloading clickclick-1.2.2-py2.py3-none-any.whl (9.8 kB)\n",
      "Collecting inflection>=0.3.1\n",
      "  Downloading inflection-0.5.0-py2.py3-none-any.whl (5.8 kB)\n",
      "Collecting flask>=1.0.4\n",
      "  Downloading Flask-1.1.2-py2.py3-none-any.whl (94 kB)\n",
      "Collecting openapi-spec-validator>=0.2.4\n",
      "  Downloading openapi_spec_validator-0.2.8-py3-none-any.whl (25 kB)\n",
      "Requirement already satisfied: PyYAML>=5.1 in /opt/conda/lib/python3.7/site-packages (from connexion>=2.5.0->-r requirements.txt (line 1)) (5.3.1)\n",
      "Requirement already satisfied: Jinja2>=2.0 in /opt/conda/lib/python3.7/site-packages (from swagger-ui-bundle>=0.0.2->-r requirements.txt (line 5)) (2.11.2)\n",
      "Requirement already satisfied: six>=1.5 in /opt/conda/lib/python3.7/site-packages (from python_dateutil>=2.6.0->-r requirements.txt (line 6)) (1.14.0)\n",
      "Requirement already satisfied: chardet<4,>=3.0.2 in /opt/conda/lib/python3.7/site-packages (from requests>=2.9.1->connexion>=2.5.0->-r requirements.txt (line 1)) (3.0.4)\n",
      "Requirement already satisfied: idna<3,>=2.5 in /opt/conda/lib/python3.7/site-packages (from requests>=2.9.1->connexion>=2.5.0->-r requirements.txt (line 1)) (2.9)\n",
      "Requirement already satisfied: certifi>=2017.4.17 in /opt/conda/lib/python3.7/site-packages (from requests>=2.9.1->connexion>=2.5.0->-r requirements.txt (line 1)) (2020.4.5.1)\n",
      "Requirement already satisfied: urllib3!=1.25.0,!=1.25.1,<1.26,>=1.21.1 in /opt/conda/lib/python3.7/site-packages (from requests>=2.9.1->connexion>=2.5.0->-r requirements.txt (line 1)) (1.25.9)\n",
      "Requirement already satisfied: pyrsistent>=0.14.0 in /opt/conda/lib/python3.7/site-packages (from jsonschema>=2.5.1->connexion>=2.5.0->-r requirements.txt (line 1)) (0.16.0)\n",
      "Requirement already satisfied: attrs>=17.4.0 in /opt/conda/lib/python3.7/site-packages (from jsonschema>=2.5.1->connexion>=2.5.0->-r requirements.txt (line 1)) (19.3.0)\n",
      "Requirement already satisfied: importlib-metadata; python_version < \"3.8\" in /opt/conda/lib/python3.7/site-packages (from jsonschema>=2.5.1->connexion>=2.5.0->-r requirements.txt (line 1)) (1.6.0)\n",
      "Requirement already satisfied: click>=4.0 in /opt/conda/lib/python3.7/site-packages (from clickclick>=1.2->connexion>=2.5.0->-r requirements.txt (line 1)) (7.1.2)\n",
      "Collecting itsdangerous>=0.24\n",
      "  Downloading itsdangerous-1.1.0-py2.py3-none-any.whl (16 kB)\n",
      "Collecting Werkzeug>=0.15\n",
      "  Downloading Werkzeug-1.0.1-py2.py3-none-any.whl (298 kB)\n",
      "Requirement already satisfied: MarkupSafe>=0.23 in /opt/conda/lib/python3.7/site-packages (from Jinja2>=2.0->swagger-ui-bundle>=0.0.2->-r requirements.txt (line 5)) (1.1.1)\n",
      "Requirement already satisfied: zipp>=0.5 in /opt/conda/lib/python3.7/site-packages (from importlib-metadata; python_version < \"3.8\"->jsonschema>=2.5.1->connexion>=2.5.0->-r requirements.txt (line 1)) (3.1.0)\n",
      "Installing collected packages: clickclick, inflection, itsdangerous, Werkzeug, flask, openapi-spec-validator, connexion, swagger-ui-bundle\n",
      "Successfully installed Werkzeug-1.0.1 clickclick-1.2.2 connexion-2.7.0 flask-1.1.2 inflection-0.5.0 itsdangerous-1.1.0 openapi-spec-validator-0.2.8 swagger-ui-bundle-0.0.6\n",
      "Collecting pytest~=4.6.7\n",
      "  Downloading pytest-4.6.11-py2.py3-none-any.whl (231 kB)\n",
      "Collecting pytest-cov>=2.8.1\n",
      "  Downloading pytest_cov-2.9.0-py2.py3-none-any.whl (19 kB)\n",
      "Collecting pytest-randomly==1.2.3\n",
      "  Downloading pytest_randomly-1.2.3-py2.py3-none-any.whl (8.8 kB)\n",
      "Collecting flask_testing==0.6.1\n",
      "  Downloading Flask-Testing-0.6.1.tar.gz (42 kB)\n",
      "Requirement already satisfied: packaging in /opt/conda/lib/python3.7/site-packages (from pytest~=4.6.7->-r test-requirements.txt (line 1)) (20.1)\n",
      "Requirement already satisfied: wcwidth in /opt/conda/lib/python3.7/site-packages (from pytest~=4.6.7->-r test-requirements.txt (line 1)) (0.1.9)\n",
      "Requirement already satisfied: six>=1.10.0 in /opt/conda/lib/python3.7/site-packages (from pytest~=4.6.7->-r test-requirements.txt (line 1)) (1.14.0)\n",
      "Requirement already satisfied: importlib-metadata>=0.12; python_version < \"3.8\" in /opt/conda/lib/python3.7/site-packages (from pytest~=4.6.7->-r test-requirements.txt (line 1)) (1.6.0)\n",
      "Collecting more-itertools>=4.0.0; python_version > \"2.7\"\n",
      "  Downloading more_itertools-8.3.0-py3-none-any.whl (44 kB)\n",
      "Collecting pluggy<1.0,>=0.12\n",
      "  Downloading pluggy-0.13.1-py2.py3-none-any.whl (18 kB)\n",
      "Requirement already satisfied: attrs>=17.4.0 in /opt/conda/lib/python3.7/site-packages (from pytest~=4.6.7->-r test-requirements.txt (line 1)) (19.3.0)\n",
      "Collecting py>=1.5.0\n",
      "  Downloading py-1.8.1-py2.py3-none-any.whl (83 kB)\n",
      "Collecting atomicwrites>=1.0\n",
      "  Downloading atomicwrites-1.4.0-py2.py3-none-any.whl (6.8 kB)\n",
      "Collecting coverage>=4.4\n",
      "  Downloading coverage-5.1-cp37-cp37m-manylinux1_x86_64.whl (227 kB)\n",
      "Requirement already satisfied: Flask in /opt/conda/lib/python3.7/site-packages (from flask_testing==0.6.1->-r test-requirements.txt (line 4)) (1.1.2)\n",
      "Requirement already satisfied: pyparsing>=2.0.2 in /opt/conda/lib/python3.7/site-packages (from packaging->pytest~=4.6.7->-r test-requirements.txt (line 1)) (2.4.7)\n",
      "Requirement already satisfied: zipp>=0.5 in /opt/conda/lib/python3.7/site-packages (from importlib-metadata>=0.12; python_version < \"3.8\"->pytest~=4.6.7->-r test-requirements.txt (line 1)) (3.1.0)\n",
      "Requirement already satisfied: Jinja2>=2.10.1 in /opt/conda/lib/python3.7/site-packages (from Flask->flask_testing==0.6.1->-r test-requirements.txt (line 4)) (2.11.2)\n",
      "Requirement already satisfied: itsdangerous>=0.24 in /opt/conda/lib/python3.7/site-packages (from Flask->flask_testing==0.6.1->-r test-requirements.txt (line 4)) (1.1.0)\n",
      "Requirement already satisfied: click>=5.1 in /opt/conda/lib/python3.7/site-packages (from Flask->flask_testing==0.6.1->-r test-requirements.txt (line 4)) (7.1.2)\n",
      "Requirement already satisfied: Werkzeug>=0.15 in /opt/conda/lib/python3.7/site-packages (from Flask->flask_testing==0.6.1->-r test-requirements.txt (line 4)) (1.0.1)\n",
      "Requirement already satisfied: MarkupSafe>=0.23 in /opt/conda/lib/python3.7/site-packages (from Jinja2>=2.10.1->Flask->flask_testing==0.6.1->-r test-requirements.txt (line 4)) (1.1.1)\n",
      "Building wheels for collected packages: flask-testing\n",
      "  Building wheel for flask-testing (setup.py): started\n",
      "  Building wheel for flask-testing (setup.py): finished with status 'done'\n",
      "  Created wheel for flask-testing: filename=Flask_Testing-0.6.1-py3-none-any.whl size=7639 sha256=17361730657d8a29a2e65894451cfdb2ced7ea845ee05254e90c4e62aeecfa74\n",
      "  Stored in directory: /home/jovyan/.cache/pip/wheels/d3/a7/7f/effdb220813fd331ca8d1961b4fd629fa6dcd54c9cdc83eaeb\n",
      "Successfully built flask-testing\n",
      "Installing collected packages: more-itertools, pluggy, py, atomicwrites, pytest, coverage, pytest-cov, pytest-randomly, flask-testing\n",
      "Successfully installed atomicwrites-1.4.0 coverage-5.1 flask-testing-0.6.1 more-itertools-8.3.0 pluggy-0.13.1 py-1.8.1 pytest-4.6.11 pytest-cov-2.9.0 pytest-randomly-1.2.3\n",
      "Collecting Werkzeug==0.16.1\n",
      "  Downloading Werkzeug-0.16.1-py2.py3-none-any.whl (327 kB)\n",
      "Installing collected packages: Werkzeug\n",
      "  Attempting uninstall: Werkzeug\n",
      "    Found existing installation: Werkzeug 1.0.1\n",
      "    Uninstalling Werkzeug-1.0.1:\n",
      "      Successfully uninstalled Werkzeug-1.0.1\n",
      "Successfully installed Werkzeug-0.16.1\n"
     ]
    }
   ],
   "source": [
    "%%bash\n",
    "# define project environment\n",
    "PROJECT_DIR=\"/DRL4REST\"\n",
    "OPENAPI_SERVER_DIR=\"$PROJECT_DIR/openapi/cartpole/python-flask\"\n",
    "\n",
    "# install requirements\n",
    "cd \"$OPENAPI_SERVER_DIR\" || exit\n",
    "pip install -r requirements.txt || exit\n",
    "pip install -r test-requirements.txt || exit\n",
    "\n",
    "# install other requirements\n",
    "pip install Werkzeug==0.16.1 || exit"
   ]
  },
  {
   "cell_type": "code",
   "execution_count": 2,
   "metadata": {},
   "outputs": [],
   "source": [
    "import random\n",
    "import numpy\n",
    "from functools import partial"
   ]
  },
  {
   "cell_type": "code",
   "execution_count": 3,
   "metadata": {},
   "outputs": [],
   "source": [
    "# DEAP: python genetic algorithm library\n",
    "from deap import algorithms\n",
    "from deap import base\n",
    "from deap import creator\n",
    "from deap import tools\n",
    "from deap import gp"
   ]
  },
  {
   "cell_type": "code",
   "execution_count": 4,
   "metadata": {},
   "outputs": [],
   "source": [
    "# set path to import code generated by OpenAPI\n",
    "import sys\n",
    "sys.path.append(\"/DRL4REST/openapi/cartpole/python-flask\")\n",
    "sys.path.append(\"/DRL4REST/src\")"
   ]
  },
  {
   "cell_type": "code",
   "execution_count": 5,
   "metadata": {},
   "outputs": [],
   "source": [
    "from cartpole.gprest.cartpole_server import CartpoleServer\n",
    "from cartpole.gprest.monkey_patching import MonkeyPatching\n",
    "from cartpole.gprest.gp_test_default_controller import GP_TestDefaultController"
   ]
  },
  {
   "cell_type": "markdown",
   "metadata": {},
   "source": [
    "## Genetic Program Implementation\n",
    "\n",
    "The GP program bases upon the Artificial Ant Problem from the [DEAP example site](https://deap.readthedocs.io/en/master/examples/gp_ant.html). The implementation consists of\n",
    "\n",
    "* generic functions for the control flow\n",
    "* controller functions interacting with the ServerModel\n",
    "* `evaluate()` function to report the controller's fitness"
   ]
  },
  {
   "cell_type": "markdown",
   "metadata": {},
   "source": [
    "### Generic Functions\n",
    "\n",
    "These are generic functions, e.g. for control flow and concatenating functions with each other."
   ]
  },
  {
   "cell_type": "code",
   "execution_count": 6,
   "metadata": {},
   "outputs": [],
   "source": [
    "def progn(*args):\n",
    "    for arg in args:\n",
    "        arg()\n",
    "\n",
    "def prog2(out1, out2): \n",
    "    return partial(progn,out1,out2)\n",
    "\n",
    "def prog3(out1, out2, out3):     \n",
    "    return partial(progn,out1,out2,out3)\n",
    "\n",
    "def _if_then_else(condition, out1, out2):\n",
    "    if condition() is not None:\n",
    "        out1()\n",
    "    else:\n",
    "        out2()\n",
    "\n",
    "def if_then_else(condition, out1, out2):\n",
    "    return partial(_if_then_else, condition, out1, out2)\n",
    "\n",
    "def _if_then(condition, out1):\n",
    "    if condition() is not None:\n",
    "        out1()\n",
    "        \n",
    "def if_then(condition, out1):\n",
    "    return partial(_if_then, condition, out1)"
   ]
  },
  {
   "cell_type": "markdown",
   "metadata": {},
   "source": [
    "### Controller Functions\n",
    "\n",
    "These are the functions the GP algorithm strings together utilizing the generic functions from above. The created program forms an individual and is tested by the `evaluate()` function. The controller functions utilize the CartpoleServer's CRUD functions."
   ]
  },
  {
   "cell_type": "code",
   "execution_count": 7,
   "metadata": {},
   "outputs": [],
   "source": [
    "cps = CartpoleServer\n",
    "cps.reset()"
   ]
  },
  {
   "cell_type": "code",
   "execution_count": 8,
   "metadata": {},
   "outputs": [],
   "source": [
    "# let's create the set of all functions DEAP shall work with\n",
    "pset = gp.PrimitiveSet(\"MAIN\", 0)\n",
    "pset.addPrimitive(if_then_else, 3)\n",
    "pset.addPrimitive(if_then, 2)\n",
    "\n",
    "pset.addPrimitive(prog2, 2)\n",
    "pset.addPrimitive(prog3, 3)\n",
    "\n",
    "pset.addTerminal(cps.create_cart)\n",
    "pset.addTerminal(cps.read_cart)\n",
    "pset.addTerminal(cps.update_cart)\n",
    "pset.addTerminal(cps.delete_cart)"
   ]
  },
  {
   "cell_type": "code",
   "execution_count": 9,
   "metadata": {},
   "outputs": [],
   "source": [
    "# cart_get() controller must return something when done\n",
    "# this function becomes the new root for the GP tree created from the pset above\n",
    "# it runs the GP tree first and returns the Cart afterwards\n",
    "def return_cart_get(left):\n",
    "    def run_first_return_second(f1,f2):\n",
    "        f1()\n",
    "        return f2()\n",
    "    \n",
    "    return partial(run_first_return_second, left, cps.read_cart)"
   ]
  },
  {
   "cell_type": "markdown",
   "metadata": {},
   "source": [
    "### `evaluate()` Function\n",
    "\n",
    "It patches the endpoint with the new controller function and runs the controller unittest. Evaluation reports the controller's fitness to guide the next program evolution."
   ]
  },
  {
   "cell_type": "code",
   "execution_count": 10,
   "metadata": {},
   "outputs": [],
   "source": [
    "class GP_Controller:\n",
    "    \"\"\"Static class which encapsulates the gp_controller for execution\n",
    "    \n",
    "    \"\"\"\n",
    "    \n",
    "    _gp_controller = None\n",
    "    \n",
    "    @classmethod\n",
    "    def set_controller_func(cls, func):\n",
    "        cls._gp_controller = func\n",
    "\n",
    "    @staticmethod\n",
    "    def gp_controller_func():\n",
    "        \"\"\"Runs the gp_controller.\n",
    "\n",
    "        gp_controller_func is called from a different scope, so it needs to \n",
    "        search through all imported modules for the GP_Controller class in\n",
    "        order to access the class variable _gp_controller.\n",
    "\n",
    "        CAUTION: \n",
    "        This is fragile. It finds the first occurance of the GP_Controller\n",
    "        within all imported modules.\n",
    "\n",
    "        DEFAULT:\n",
    "        It searches the __main__ module only for the GP_Controller class.\n",
    "        \"\"\"\n",
    "\n",
    "        # This is the generic search routine\n",
    "        \"\"\"\n",
    "        gpc_pointer = None\n",
    "        for m_name in sys.modules:\n",
    "            try:\n",
    "                gpc_pointer = getattr(sys.modules[m_name], 'GP_Controller')\n",
    "                break\n",
    "            except AttributeError:\n",
    "                continue\n",
    "        return gpc_pointer._gp_controller()\n",
    "        \"\"\"\n",
    "        # finds the GP_Controller class in the __main__ module\n",
    "        return getattr(sys.modules['__main__'], 'GP_Controller')._gp_controller()\n",
    "    \n",
    "gpc = GP_Controller"
   ]
  },
  {
   "cell_type": "code",
   "execution_count": 11,
   "metadata": {},
   "outputs": [],
   "source": [
    "import types\n",
    "import json\n",
    "\n",
    "# evaluate()\n",
    "def evaluate_cart_get(individual):\n",
    "   \n",
    "    def add_func2pset(expr, pset, func, num_args):\n",
    "        pset_cloned = toolbox.clone(pset)\n",
    "        pset_cloned.addPrimitive(func, num_args)\n",
    "        prim_func = gp.Primitive(func.__name__, [object], object)\n",
    "        expr_func = [prim_func] + expr\n",
    "        return expr_func, pset_cloned\n",
    "\n",
    "    # we add the return_cart_get() als new root of the individual\n",
    "    # togehter they form the gp_controller\n",
    "\n",
    "    assert isinstance(return_cart_get, types.FunctionType), 'return_cart_get() not defined'\n",
    "    \n",
    "    # 1. dismantle the individual to get the expressions\n",
    "    expr = list(individual)\n",
    "\n",
    "    # 2. add return_cart_get als new root\n",
    "    expr_return, pset_return = add_func2pset(expr=expr,\n",
    "                                             pset=pset,\n",
    "                                             func=return_cart_get, \n",
    "                                             num_args=1)\n",
    "    # 3. rebuild individual (type: PrimitiveTree) from expressions \n",
    "    individual_return = gp.PrimitiveTree(expr_return)\n",
    "    \n",
    "    # 4. .. and compile tree to functional Python code \n",
    "    gp_controller = gp.compile(individual_return, pset_return)\n",
    "\n",
    "    # store the controller\n",
    "    gpc.set_controller_func(gp_controller)\n",
    "    #gpc.set_controller_func(testcase_all_correct)\n",
    "\n",
    "    # Replace the default controller with the gp_controller \n",
    "    url_path = '/api/v1/cart'\n",
    "    gp_test = GP_TestDefaultController()\n",
    "    ret = gp_test.endpoint_config(url_path, 'get', gpc.gp_controller_func)\n",
    "    # ... and test\n",
    "    cps.reset()\n",
    "    gp_test.reset_score()\n",
    "    \n",
    "    #gp_test.test_cart_get()\n",
    "    # run the test several times and expect the same as the first one\n",
    "    for i in range(5):\n",
    "        gp_test.safe_test_cart_get()\n",
    "    \n",
    "    # retrieve score \n",
    "    fitness = gp_test.score\n",
    "    \n",
    "    # for debugging\n",
    "    if fitness == -1: \n",
    "        # store individual\n",
    "        gp_program = str(individual)\n",
    "        # store _prev_responses\n",
    "        all_responses = gp_test._prev_responses\n",
    "        with open(\"/home/jovyan/work/gp_program.json\", \"a\") as f:\n",
    "            json_gp_program = json.dumps(gp_program)\n",
    "            json_all_responses = json.dumps(all_responses)\n",
    "            f.write(str(fitness))\n",
    "            f.write(json_gp_program)\n",
    "            f.write(json_all_responses)\n",
    "            f.write('\\n\\n')\n",
    "    \n",
    "    return fitness,"
   ]
  },
  {
   "cell_type": "markdown",
   "metadata": {},
   "source": [
    "## Assemble and Configure the GP\n",
    "\n",
    "We configure the GP to solve a minimization problem, `FitnessMin`. The `evaluate()` function returns the cumulative sum of the responses' status codes when testing the controller as fitness. "
   ]
  },
  {
   "cell_type": "code",
   "execution_count": 12,
   "metadata": {},
   "outputs": [],
   "source": [
    "# configure the parameters\n",
    "creator.create(\"FitnessMin\", base.Fitness, weights=(-1.0,))\n",
    "creator.create(\"Individual\", gp.PrimitiveTree, fitness=creator.FitnessMin)\n",
    "\n",
    "# Attribute generator\n",
    "toolbox = base.Toolbox()\n",
    "toolbox.register(\"expr_init\", gp.genFull, pset=pset, min_=1, max_=2)\n",
    "\n",
    "# Structure initializers\n",
    "toolbox.register(\"individual\", tools.initIterate, creator.Individual, toolbox.expr_init)\n",
    "toolbox.register(\"population\", tools.initRepeat, list, toolbox.individual)"
   ]
  },
  {
   "cell_type": "markdown",
   "metadata": {},
   "source": [
    "Register the GP operators. They mate, mutate and change in various ways the individuals made of programs. Further individuals are the result from the GP algorithm using these GP operators."
   ]
  },
  {
   "cell_type": "code",
   "execution_count": 13,
   "metadata": {},
   "outputs": [],
   "source": [
    "toolbox.register(\"evaluate\", evaluate_cart_get)\n",
    "toolbox.register(\"select\", tools.selTournament, tournsize=7)\n",
    "toolbox.register(\"mate\", gp.cxOnePoint)\n",
    "toolbox.register(\"expr_mut\", gp.genFull, min_=0, max_=2)\n",
    "toolbox.register(\"mutate\", gp.mutUniform, expr=toolbox.expr_mut, pset=pset)"
   ]
  },
  {
   "cell_type": "markdown",
   "metadata": {},
   "source": [
    "## Run the GP Algorithm"
   ]
  },
  {
   "cell_type": "code",
   "execution_count": 14,
   "metadata": {},
   "outputs": [
    {
     "name": "stdout",
     "output_type": "stream",
     "text": [
      "gen\tnevals\tavg    \tstd    \tmin\tmax \n",
      "0  \t300   \t3329.67\t1991.85\t199\t4999\n",
      "1  \t177   \t1601.67\t1517.72\t199\t4999\n",
      "2  \t180   \t1391   \t1532.56\t199\t4999\n"
     ]
    }
   ],
   "source": [
    "random.seed(123)\n",
    "\n",
    "pop = toolbox.population(n=300)\n",
    "hof = tools.HallOfFame(1)\n",
    "stats = tools.Statistics(lambda ind: ind.fitness.values)\n",
    "stats.register(\"avg\", numpy.mean)\n",
    "stats.register(\"std\", numpy.std)\n",
    "stats.register(\"min\", numpy.min)\n",
    "stats.register(\"max\", numpy.max)\n",
    "\n",
    "pop, log = algorithms.eaSimple(pop, toolbox, 0.5, 0.2, 2, stats, halloffame=hof)"
   ]
  },
  {
   "cell_type": "markdown",
   "metadata": {},
   "source": [
    "## Display and Plot\n",
    "\n",
    "Plot the individual. It is a tree structure contained in the halloffame `hof` object.\n",
    "\n",
    "`hof[0]` indicates the individual tree structure."
   ]
  },
  {
   "cell_type": "code",
   "execution_count": 15,
   "metadata": {},
   "outputs": [
    {
     "data": {
      "text/plain": [
       "'if_then_else(read_cart, read_cart, create_cart)'"
      ]
     },
     "execution_count": 15,
     "metadata": {},
     "output_type": "execute_result"
    }
   ],
   "source": [
    "str(hof[0])"
   ]
  },
  {
   "cell_type": "code",
   "execution_count": null,
   "metadata": {},
   "outputs": [],
   "source": []
  },
  {
   "cell_type": "code",
   "execution_count": null,
   "metadata": {},
   "outputs": [],
   "source": []
  }
 ],
 "metadata": {
  "kernelspec": {
   "display_name": "Python 3",
   "language": "python",
   "name": "python3"
  },
  "language_info": {
   "codemirror_mode": {
    "name": "ipython",
    "version": 3
   },
   "file_extension": ".py",
   "mimetype": "text/x-python",
   "name": "python",
   "nbconvert_exporter": "python",
   "pygments_lexer": "ipython3",
   "version": "3.7.6"
  }
 },
 "nbformat": 4,
 "nbformat_minor": 4
}
